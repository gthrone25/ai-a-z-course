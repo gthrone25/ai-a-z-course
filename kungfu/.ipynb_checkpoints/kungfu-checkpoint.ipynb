{
 "cells": [
  {
   "cell_type": "markdown",
   "metadata": {
    "id": "dIo6Zkp7U1Hq"
   },
   "source": [
    "# A3C for Kung Fu"
   ]
  },
  {
   "cell_type": "markdown",
   "metadata": {
    "id": "pz8ogVxGVB6b"
   },
   "source": [
    "## Part 0 - Installing the required packages and importing the libraries"
   ]
  },
  {
   "cell_type": "markdown",
   "metadata": {
    "id": "CqN2IEX1VKzi"
   },
   "source": [
    "### Installing Gymnasium"
   ]
  },
  {
   "cell_type": "code",
   "execution_count": 1,
   "metadata": {
    "id": "dbnq3XpoKa_7"
   },
   "outputs": [
    {
     "name": "stdout",
     "output_type": "stream",
     "text": [
      "Requirement already satisfied: gymnasium in /Users/gthrone/anaconda3/envs/udemyai/lib/python3.12/site-packages (1.2.0)\n",
      "Requirement already satisfied: numpy>=1.21.0 in /Users/gthrone/anaconda3/envs/udemyai/lib/python3.12/site-packages (from gymnasium) (2.3.2)\n",
      "Requirement already satisfied: cloudpickle>=1.2.0 in /Users/gthrone/anaconda3/envs/udemyai/lib/python3.12/site-packages (from gymnasium) (3.1.1)\n",
      "Requirement already satisfied: typing-extensions>=4.3.0 in /Users/gthrone/anaconda3/envs/udemyai/lib/python3.12/site-packages (from gymnasium) (4.14.1)\n",
      "Requirement already satisfied: farama-notifications>=0.0.1 in /Users/gthrone/anaconda3/envs/udemyai/lib/python3.12/site-packages (from gymnasium) (0.0.4)\n",
      "Requirement already satisfied: gymnasium[accept-rom-license,atari] in /Users/gthrone/anaconda3/envs/udemyai/lib/python3.12/site-packages (1.2.0)\n",
      "\u001b[33mWARNING: gymnasium 1.2.0 does not provide the extra 'accept-rom-license'\u001b[0m\u001b[33m\n",
      "\u001b[0mRequirement already satisfied: numpy>=1.21.0 in /Users/gthrone/anaconda3/envs/udemyai/lib/python3.12/site-packages (from gymnasium[accept-rom-license,atari]) (2.3.2)\n",
      "Requirement already satisfied: cloudpickle>=1.2.0 in /Users/gthrone/anaconda3/envs/udemyai/lib/python3.12/site-packages (from gymnasium[accept-rom-license,atari]) (3.1.1)\n",
      "Requirement already satisfied: typing-extensions>=4.3.0 in /Users/gthrone/anaconda3/envs/udemyai/lib/python3.12/site-packages (from gymnasium[accept-rom-license,atari]) (4.14.1)\n",
      "Requirement already satisfied: farama-notifications>=0.0.1 in /Users/gthrone/anaconda3/envs/udemyai/lib/python3.12/site-packages (from gymnasium[accept-rom-license,atari]) (0.0.4)\n",
      "Requirement already satisfied: ale_py>=0.9 in /Users/gthrone/anaconda3/envs/udemyai/lib/python3.12/site-packages (from gymnasium[accept-rom-license,atari]) (0.11.2)\n",
      "Requirement already satisfied: ale-py in /Users/gthrone/anaconda3/envs/udemyai/lib/python3.12/site-packages (0.11.2)\n",
      "Requirement already satisfied: numpy>1.20 in /Users/gthrone/anaconda3/envs/udemyai/lib/python3.12/site-packages (from ale-py) (2.3.2)\n",
      "/bin/bash: apt-get: command not found\n",
      "Requirement already satisfied: gymnasium[box2d] in /Users/gthrone/anaconda3/envs/udemyai/lib/python3.12/site-packages (1.2.0)\n",
      "Requirement already satisfied: numpy>=1.21.0 in /Users/gthrone/anaconda3/envs/udemyai/lib/python3.12/site-packages (from gymnasium[box2d]) (2.3.2)\n",
      "Requirement already satisfied: cloudpickle>=1.2.0 in /Users/gthrone/anaconda3/envs/udemyai/lib/python3.12/site-packages (from gymnasium[box2d]) (3.1.1)\n",
      "Requirement already satisfied: typing-extensions>=4.3.0 in /Users/gthrone/anaconda3/envs/udemyai/lib/python3.12/site-packages (from gymnasium[box2d]) (4.14.1)\n",
      "Requirement already satisfied: farama-notifications>=0.0.1 in /Users/gthrone/anaconda3/envs/udemyai/lib/python3.12/site-packages (from gymnasium[box2d]) (0.0.4)\n",
      "Requirement already satisfied: box2d-py==2.3.5 in /Users/gthrone/anaconda3/envs/udemyai/lib/python3.12/site-packages (from gymnasium[box2d]) (2.3.5)\n",
      "Requirement already satisfied: pygame>=2.1.3 in /Users/gthrone/anaconda3/envs/udemyai/lib/python3.12/site-packages (from gymnasium[box2d]) (2.6.1)\n",
      "Requirement already satisfied: swig==4.* in /Users/gthrone/anaconda3/envs/udemyai/lib/python3.12/site-packages (from gymnasium[box2d]) (4.3.1)\n"
     ]
    }
   ],
   "source": [
    "!pip install gymnasium\n",
    "!pip install \"gymnasium[atari, accept-rom-license]\"\n",
    "!pip install ale-py\n",
    "!apt-get install -y swig\n",
    "!pip install gymnasium[box2d]"
   ]
  },
  {
   "cell_type": "markdown",
   "metadata": {
    "id": "BrsNHNQqVZLK"
   },
   "source": [
    "### Importing the libraries"
   ]
  },
  {
   "cell_type": "code",
   "execution_count": 2,
   "metadata": {
    "id": "Ho_25-9_9qnu"
   },
   "outputs": [],
   "source": [
    "import cv2\n",
    "import math\n",
    "import random\n",
    "import numpy as np\n",
    "import torch\n",
    "import torch.nn as nn\n",
    "import torch.optim as optim\n",
    "import torch.nn.functional as F\n",
    "import torch.multiprocessing as mp\n",
    "import torch.distributions as distributions\n",
    "from torch.distributions import Categorical\n",
    "import ale_py\n",
    "import gymnasium as gym\n",
    "from gymnasium.spaces import Box\n",
    "from gymnasium import ObservationWrapper"
   ]
  },
  {
   "cell_type": "markdown",
   "metadata": {
    "id": "VF6EFSGUVlk2"
   },
   "source": [
    "## Part 1 - Building the AI"
   ]
  },
  {
   "cell_type": "markdown",
   "metadata": {
    "id": "qyNc8cxbZCYP"
   },
   "source": [
    "### Creating the architecture of the Neural Network"
   ]
  },
  {
   "cell_type": "markdown",
   "metadata": {
    "id": "eF5bETqbZbCG"
   },
   "source": [
    "## Part 2 - Training the AI"
   ]
  },
  {
   "cell_type": "markdown",
   "metadata": {
    "id": "3C2ydyKLZgaK"
   },
   "source": [
    "### Setting up the environment"
   ]
  },
  {
   "cell_type": "code",
   "execution_count": null,
   "metadata": {
    "colab": {
     "base_uri": "https://localhost:8080/"
    },
    "executionInfo": {
     "elapsed": 653,
     "status": "ok",
     "timestamp": 1698751393884,
     "user": {
      "displayName": "Hadelin de Ponteves",
      "userId": "15047218817161520419"
     },
     "user_tz": -60
    },
    "id": "gF756uIhRVcK",
    "outputId": "50da7ec6-6418-4ad2-fe78-6fdcadb33868"
   },
   "outputs": [
    {
     "name": "stderr",
     "output_type": "stream",
     "text": [
      "/usr/local/lib/python3.10/dist-packages/gymnasium/envs/registration.py:513: DeprecationWarning: \u001b[33mWARN: The environment KungFuMasterDeterministic-v0 is out of date. You should consider upgrading to version `v4`.\u001b[0m\n",
      "  logger.deprecation(\n"
     ]
    },
    {
     "name": "stdout",
     "output_type": "stream",
     "text": [
      "Observation shape: (4, 42, 42)\n",
      "Number actions: 14\n",
      "Action names: ['NOOP', 'UP', 'RIGHT', 'LEFT', 'DOWN', 'DOWNRIGHT', 'DOWNLEFT', 'RIGHTFIRE', 'LEFTFIRE', 'DOWNFIRE', 'UPRIGHTFIRE', 'UPLEFTFIRE', 'DOWNRIGHTFIRE', 'DOWNLEFTFIRE']\n"
     ]
    },
    {
     "name": "stderr",
     "output_type": "stream",
     "text": [
      "/usr/local/lib/python3.10/dist-packages/gymnasium/core.py:311: UserWarning: \u001b[33mWARN: env.get_action_meanings to get variables from other wrappers is deprecated and will be removed in v1.0, to get this variable you can do `env.unwrapped.get_action_meanings` for environment variables or `env.get_wrapper_attr('get_action_meanings')` that will search the reminding wrappers.\u001b[0m\n",
      "  logger.warn(\n"
     ]
    }
   ],
   "source": [
    "class PreprocessAtari(ObservationWrapper):\n",
    "\n",
    "  def __init__(self, env, height = 42, width = 42, crop = lambda img: img, dim_order = 'pytorch', color = False, n_frames = 4):\n",
    "    super(PreprocessAtari, self).__init__(env)\n",
    "    self.img_size = (height, width)\n",
    "    self.crop = crop\n",
    "    self.dim_order = dim_order\n",
    "    self.color = color\n",
    "    self.frame_stack = n_frames\n",
    "    n_channels = 3 * n_frames if color else n_frames\n",
    "    obs_shape = {'tensorflow': (height, width, n_channels), 'pytorch': (n_channels, height, width)}[dim_order]\n",
    "    self.observation_space = Box(0.0, 1.0, obs_shape)\n",
    "    self.frames = np.zeros(obs_shape, dtype = np.float32)\n",
    "\n",
    "  def reset(self):\n",
    "    self.frames = np.zeros_like(self.frames)\n",
    "    obs, info = self.env.reset()\n",
    "    self.update_buffer(obs)\n",
    "    return self.frames, info\n",
    "\n",
    "  def observation(self, img):\n",
    "    img = self.crop(img)\n",
    "    img = cv2.resize(img, self.img_size)\n",
    "    if not self.color:\n",
    "      if len(img.shape) == 3 and img.shape[2] == 3:\n",
    "        img = cv2.cvtColor(img, cv2.COLOR_BGR2GRAY)\n",
    "    img = img.astype('float32') / 255.\n",
    "    if self.color:\n",
    "      self.frames = np.roll(self.frames, shift = -3, axis = 0)\n",
    "    else:\n",
    "      self.frames = np.roll(self.frames, shift = -1, axis = 0)\n",
    "    if self.color:\n",
    "      self.frames[-3:] = img\n",
    "    else:\n",
    "      self.frames[-1] = img\n",
    "    return self.frames\n",
    "\n",
    "  def update_buffer(self, obs):\n",
    "    self.frames = self.observation(obs)\n",
    "\n",
    "def make_env():\n",
    "  env = gym.make(\"KungFuMasterDeterministic-v0\", render_mode = 'rgb_array')\n",
    "  env = PreprocessAtari(env, height = 42, width = 42, crop = lambda img: img, dim_order = 'pytorch', color = False, n_frames = 4)\n",
    "  return env\n",
    "\n",
    "env = make_env()\n",
    "\n",
    "state_shape = env.observation_space.shape\n",
    "number_actions = env.action_space.n\n",
    "print(\"State shape:\", state_shape)\n",
    "print(\"Number actions:\", number_actions)\n",
    "print(\"Action names:\", env.env.env.env.get_action_meanings())"
   ]
  },
  {
   "cell_type": "markdown",
   "metadata": {
    "id": "YgRlooBmC1hr"
   },
   "source": [
    "### Initializing the hyperparameters"
   ]
  },
  {
   "cell_type": "markdown",
   "metadata": {
    "id": "Gg_LmSs9IoTX"
   },
   "source": [
    "### Implementing the A3C class"
   ]
  },
  {
   "cell_type": "markdown",
   "metadata": {
    "id": "7RnRukHDKFJ0"
   },
   "source": [
    "### Initializing the A3C agent"
   ]
  },
  {
   "cell_type": "markdown",
   "metadata": {
    "id": "oB5SpmoKP0aK"
   },
   "source": [
    "### Evaluating our A3C agent on a single episode"
   ]
  },
  {
   "cell_type": "markdown",
   "metadata": {
    "id": "jVSqiyjiQeMd"
   },
   "source": [
    "### Testing multiple agents on multiple environments at the same time"
   ]
  },
  {
   "cell_type": "markdown",
   "metadata": {
    "id": "69WZWB4oRx1P"
   },
   "source": [
    "### Training the A3C agent"
   ]
  },
  {
   "cell_type": "markdown",
   "metadata": {
    "id": "7kG_YR9YdmUM"
   },
   "source": [
    "## Part 3 - Visualizing the results"
   ]
  },
  {
   "cell_type": "code",
   "execution_count": null,
   "metadata": {
    "id": "UGkTuO6DxZ6B"
   },
   "outputs": [],
   "source": [
    "import glob\n",
    "import io\n",
    "import base64\n",
    "import imageio\n",
    "from IPython.display import HTML, display\n",
    "\n",
    "def show_video_of_model(agent, env):\n",
    "  state, _ = env.reset()\n",
    "  done = False\n",
    "  frames = []\n",
    "  while not done:\n",
    "    frame = env.render()\n",
    "    frames.append(frame)\n",
    "    action = agent.act(state)\n",
    "    state, reward, done, _, _ = env.step(action[0])\n",
    "  env.close()\n",
    "  imageio.mimsave('video.mp4', frames, fps=30)\n",
    "\n",
    "show_video_of_model(agent, env)\n",
    "\n",
    "def show_video():\n",
    "    mp4list = glob.glob('*.mp4')\n",
    "    if len(mp4list) > 0:\n",
    "        mp4 = mp4list[0]\n",
    "        video = io.open(mp4, 'r+b').read()\n",
    "        encoded = base64.b64encode(video)\n",
    "        display(HTML(data='''<video alt=\"test\" autoplay\n",
    "                loop controls style=\"height: 400px;\">\n",
    "                <source src=\"data:video/mp4;base64,{0}\" type=\"video/mp4\" />\n",
    "             </video>'''.format(encoded.decode('ascii'))))\n",
    "    else:\n",
    "        print(\"Could not find video\")\n",
    "\n",
    "show_video()"
   ]
  }
 ],
 "metadata": {
  "accelerator": "GPU",
  "colab": {
   "gpuType": "T4",
   "provenance": [
    {
     "file_id": "19mlgPA6Zj97xML3Mj-8sb0mg8t5W0nmm",
     "timestamp": 1696937661479
    }
   ]
  },
  "kernelspec": {
   "display_name": "udemyai",
   "language": "python",
   "name": "udemyai"
  },
  "language_info": {
   "codemirror_mode": {
    "name": "ipython",
    "version": 3
   },
   "file_extension": ".py",
   "mimetype": "text/x-python",
   "name": "python",
   "nbconvert_exporter": "python",
   "pygments_lexer": "ipython3",
   "version": "3.12.11"
  }
 },
 "nbformat": 4,
 "nbformat_minor": 4
}
