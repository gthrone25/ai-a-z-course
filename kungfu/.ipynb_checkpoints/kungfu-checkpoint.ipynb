{
 "cells": [
  {
   "cell_type": "markdown",
   "metadata": {
    "id": "dIo6Zkp7U1Hq"
   },
   "source": [
    "# A3C for Kung Fu"
   ]
  },
  {
   "cell_type": "markdown",
   "metadata": {
    "id": "pz8ogVxGVB6b"
   },
   "source": [
    "## Part 0 - Installing the required packages and importing the libraries"
   ]
  },
  {
   "cell_type": "markdown",
   "metadata": {
    "id": "CqN2IEX1VKzi"
   },
   "source": [
    "### Installing Gymnasium"
   ]
  },
  {
   "cell_type": "code",
   "execution_count": 1,
   "metadata": {
    "id": "dbnq3XpoKa_7"
   },
   "outputs": [
    {
     "name": "stdout",
     "output_type": "stream",
     "text": [
      "Requirement already satisfied: gymnasium in /Users/gthrone/anaconda3/envs/udemyai/lib/python3.12/site-packages (1.2.0)\n",
      "Requirement already satisfied: numpy>=1.21.0 in /Users/gthrone/anaconda3/envs/udemyai/lib/python3.12/site-packages (from gymnasium) (2.3.2)\n",
      "Requirement already satisfied: cloudpickle>=1.2.0 in /Users/gthrone/anaconda3/envs/udemyai/lib/python3.12/site-packages (from gymnasium) (3.1.1)\n",
      "Requirement already satisfied: typing-extensions>=4.3.0 in /Users/gthrone/anaconda3/envs/udemyai/lib/python3.12/site-packages (from gymnasium) (4.14.1)\n",
      "Requirement already satisfied: farama-notifications>=0.0.1 in /Users/gthrone/anaconda3/envs/udemyai/lib/python3.12/site-packages (from gymnasium) (0.0.4)\n",
      "Requirement already satisfied: gymnasium[accept-rom-license,atari] in /Users/gthrone/anaconda3/envs/udemyai/lib/python3.12/site-packages (1.2.0)\n",
      "\u001b[33mWARNING: gymnasium 1.2.0 does not provide the extra 'accept-rom-license'\u001b[0m\u001b[33m\n",
      "\u001b[0mRequirement already satisfied: numpy>=1.21.0 in /Users/gthrone/anaconda3/envs/udemyai/lib/python3.12/site-packages (from gymnasium[accept-rom-license,atari]) (2.3.2)\n",
      "Requirement already satisfied: cloudpickle>=1.2.0 in /Users/gthrone/anaconda3/envs/udemyai/lib/python3.12/site-packages (from gymnasium[accept-rom-license,atari]) (3.1.1)\n",
      "Requirement already satisfied: typing-extensions>=4.3.0 in /Users/gthrone/anaconda3/envs/udemyai/lib/python3.12/site-packages (from gymnasium[accept-rom-license,atari]) (4.14.1)\n",
      "Requirement already satisfied: farama-notifications>=0.0.1 in /Users/gthrone/anaconda3/envs/udemyai/lib/python3.12/site-packages (from gymnasium[accept-rom-license,atari]) (0.0.4)\n",
      "Requirement already satisfied: ale_py>=0.9 in /Users/gthrone/anaconda3/envs/udemyai/lib/python3.12/site-packages (from gymnasium[accept-rom-license,atari]) (0.11.2)\n",
      "Requirement already satisfied: ale-py in /Users/gthrone/anaconda3/envs/udemyai/lib/python3.12/site-packages (0.11.2)\n",
      "Requirement already satisfied: numpy>1.20 in /Users/gthrone/anaconda3/envs/udemyai/lib/python3.12/site-packages (from ale-py) (2.3.2)\n",
      "/bin/bash: apt-get: command not found\n",
      "Requirement already satisfied: gymnasium[box2d] in /Users/gthrone/anaconda3/envs/udemyai/lib/python3.12/site-packages (1.2.0)\n",
      "Requirement already satisfied: numpy>=1.21.0 in /Users/gthrone/anaconda3/envs/udemyai/lib/python3.12/site-packages (from gymnasium[box2d]) (2.3.2)\n",
      "Requirement already satisfied: cloudpickle>=1.2.0 in /Users/gthrone/anaconda3/envs/udemyai/lib/python3.12/site-packages (from gymnasium[box2d]) (3.1.1)\n",
      "Requirement already satisfied: typing-extensions>=4.3.0 in /Users/gthrone/anaconda3/envs/udemyai/lib/python3.12/site-packages (from gymnasium[box2d]) (4.14.1)\n",
      "Requirement already satisfied: farama-notifications>=0.0.1 in /Users/gthrone/anaconda3/envs/udemyai/lib/python3.12/site-packages (from gymnasium[box2d]) (0.0.4)\n",
      "Requirement already satisfied: box2d-py==2.3.5 in /Users/gthrone/anaconda3/envs/udemyai/lib/python3.12/site-packages (from gymnasium[box2d]) (2.3.5)\n",
      "Requirement already satisfied: pygame>=2.1.3 in /Users/gthrone/anaconda3/envs/udemyai/lib/python3.12/site-packages (from gymnasium[box2d]) (2.6.1)\n",
      "Requirement already satisfied: swig==4.* in /Users/gthrone/anaconda3/envs/udemyai/lib/python3.12/site-packages (from gymnasium[box2d]) (4.3.1)\n"
     ]
    }
   ],
   "source": [
    "!pip install gymnasium\n",
    "!pip install \"gymnasium[atari, accept-rom-license]\"\n",
    "!pip install ale-py\n",
    "!apt-get install -y swig\n",
    "!pip install gymnasium[box2d]"
   ]
  },
  {
   "cell_type": "markdown",
   "metadata": {
    "id": "BrsNHNQqVZLK"
   },
   "source": [
    "### Importing the libraries"
   ]
  },
  {
   "cell_type": "code",
   "execution_count": 1,
   "metadata": {
    "id": "Ho_25-9_9qnu"
   },
   "outputs": [],
   "source": [
    "import cv2\n",
    "import math\n",
    "import random\n",
    "import numpy as np\n",
    "import torch\n",
    "import torch.nn as nn\n",
    "import torch.optim as optim\n",
    "import torch.nn.functional as F\n",
    "import torch.multiprocessing as mp\n",
    "import torch.distributions as distributions\n",
    "from torch.distributions import Categorical\n",
    "import ale_py\n",
    "import gymnasium as gym\n",
    "from gymnasium.spaces import Box\n",
    "from gymnasium import ObservationWrapper"
   ]
  },
  {
   "cell_type": "markdown",
   "metadata": {
    "id": "VF6EFSGUVlk2"
   },
   "source": [
    "## Part 1 - Building the AI"
   ]
  },
  {
   "cell_type": "markdown",
   "metadata": {
    "id": "qyNc8cxbZCYP"
   },
   "source": [
    "### Creating the architecture of the Neural Network"
   ]
  },
  {
   "cell_type": "code",
   "execution_count": 2,
   "metadata": {},
   "outputs": [],
   "source": [
    "class Network(nn.Module):\n",
    "    def __init__(self, action_size):\n",
    "        super(Network, self).__init__()\n",
    "        self.conv1 = torch.nn.Conv2d(in_channels = 4, out_channels = 32, kernel_size = (3,3), stride = 2)\n",
    "        self.conv2 = torch.nn.Conv2d(in_channels = 32, out_channels = 32, kernel_size = (3,3), stride = 2)\n",
    "        self.conv3 = torch.nn.Conv2d(in_channels = 4, out_channels = 32, kernel_size = (3,3), stride = 2)\n",
    "        self.flatten = torch.nn.Flatten()\n",
    "        self.fc1 = torch.nn.Linear(512, 128)\n",
    "        self.fc2a = torch.nn.Linear(128, action_size)\n",
    "        self.fc2s = torch.nn.Linear(128, 1)\n",
    "\n",
    "    def forward(self,state):\n",
    "        x = self.conv1(state)\n",
    "        x = F.relu(x)\n",
    "        x = self.conv2(x)\n",
    "        x = F.relu(x)\n",
    "        x = self.conv3(x)\n",
    "        x = F.relu(x)\n",
    "        x = self.flatten(x)\n",
    "        x = self.fc1(x)\n",
    "        x = F.relu(x)\n",
    "        action_values = self.fc2a(x)\n",
    "        state_value = self.fc2s(x)[0]\n",
    "        return action_values, state_value"
   ]
  },
  {
   "cell_type": "markdown",
   "metadata": {
    "id": "eF5bETqbZbCG"
   },
   "source": [
    "## Part 2 - Training the AI"
   ]
  },
  {
   "cell_type": "markdown",
   "metadata": {
    "id": "3C2ydyKLZgaK"
   },
   "source": [
    "### Setting up the environment"
   ]
  },
  {
   "cell_type": "code",
   "execution_count": 3,
   "metadata": {
    "colab": {
     "base_uri": "https://localhost:8080/"
    },
    "executionInfo": {
     "elapsed": 653,
     "status": "ok",
     "timestamp": 1698751393884,
     "user": {
      "displayName": "Hadelin de Ponteves",
      "userId": "15047218817161520419"
     },
     "user_tz": -60
    },
    "id": "gF756uIhRVcK",
    "outputId": "50da7ec6-6418-4ad2-fe78-6fdcadb33868"
   },
   "outputs": [
    {
     "name": "stdout",
     "output_type": "stream",
     "text": [
      "State shape: (4, 42, 42)\n",
      "Number actions: 14\n",
      "Action names: ['NOOP', 'UP', 'RIGHT', 'LEFT', 'DOWN', 'DOWNRIGHT', 'DOWNLEFT', 'RIGHTFIRE', 'LEFTFIRE', 'DOWNFIRE', 'UPRIGHTFIRE', 'UPLEFTFIRE', 'DOWNRIGHTFIRE', 'DOWNLEFTFIRE']\n"
     ]
    },
    {
     "name": "stderr",
     "output_type": "stream",
     "text": [
      "A.L.E: Arcade Learning Environment (version 0.11.2+ecc1138)\n",
      "[Powered by Stella]\n"
     ]
    }
   ],
   "source": [
    "class PreprocessAtari(ObservationWrapper):\n",
    "\n",
    "  def __init__(self, env, height = 42, width = 42, crop = lambda img: img, dim_order = 'pytorch', color = False, n_frames = 4):\n",
    "    super(PreprocessAtari, self).__init__(env)\n",
    "    self.img_size = (height, width)\n",
    "    self.crop = crop\n",
    "    self.dim_order = dim_order\n",
    "    self.color = color\n",
    "    self.frame_stack = n_frames\n",
    "    n_channels = 3 * n_frames if color else n_frames\n",
    "    obs_shape = {'tensorflow': (height, width, n_channels), 'pytorch': (n_channels, height, width)}[dim_order]\n",
    "    self.observation_space = Box(0.0, 1.0, obs_shape)\n",
    "    self.frames = np.zeros(obs_shape, dtype = np.float32)\n",
    "\n",
    "  def reset(self):\n",
    "    self.frames = np.zeros_like(self.frames)\n",
    "    obs, info = self.env.reset()\n",
    "    self.update_buffer(obs)\n",
    "    return self.frames, info\n",
    "\n",
    "  def observation(self, img):\n",
    "    img = self.crop(img)\n",
    "    img = cv2.resize(img, self.img_size)\n",
    "    if not self.color:\n",
    "      if len(img.shape) == 3 and img.shape[2] == 3:\n",
    "        img = cv2.cvtColor(img, cv2.COLOR_BGR2GRAY)\n",
    "    img = img.astype('float32') / 255.\n",
    "    if self.color:\n",
    "      self.frames = np.roll(self.frames, shift = -3, axis = 0)\n",
    "    else:\n",
    "      self.frames = np.roll(self.frames, shift = -1, axis = 0)\n",
    "    if self.color:\n",
    "      self.frames[-3:] = img\n",
    "    else:\n",
    "      self.frames[-1] = img\n",
    "    return self.frames\n",
    "\n",
    "  def update_buffer(self, obs):\n",
    "    self.frames = self.observation(obs)\n",
    "\n",
    "def make_env():\n",
    "  env = gym.make(\"ALE/KungFuMaster-v5\", render_mode = 'rgb_array')\n",
    "  env = PreprocessAtari(env, height = 42, width = 42, crop = lambda img: img, dim_order = 'pytorch', color = False, n_frames = 4)\n",
    "  return env\n",
    "\n",
    "env = make_env()\n",
    "\n",
    "state_shape = env.observation_space.shape\n",
    "number_actions = env.action_space.n\n",
    "print(\"State shape:\", state_shape)\n",
    "print(\"Number actions:\", number_actions)\n",
    "print(\"Action names:\", env.env.env.env.get_action_meanings())"
   ]
  },
  {
   "cell_type": "markdown",
   "metadata": {
    "id": "YgRlooBmC1hr"
   },
   "source": [
    "### Initializing the hyperparameters"
   ]
  },
  {
   "cell_type": "code",
   "execution_count": 4,
   "metadata": {},
   "outputs": [],
   "source": [
    "learning_rate = 1e-4\n",
    "discount_factor = 0.99\n",
    "number_environments = 10"
   ]
  },
  {
   "cell_type": "markdown",
   "metadata": {
    "id": "Gg_LmSs9IoTX"
   },
   "source": [
    "### Implementing the A3C class"
   ]
  },
  {
   "cell_type": "code",
   "execution_count": 9,
   "metadata": {},
   "outputs": [],
   "source": [
    "class Agent():\n",
    "    def __init__(self, action_size):\n",
    "        self.device = torch.device(\"cuda:0\" if torch.cuda.is_available() else \"cpu\")\n",
    "        self.action_size = action_size\n",
    "        self.network = Network(action_size).to(self.device) #the brain\n",
    "        self.optimizer = torch.optim.Adam(self.network.parameters(), learning_rate)\n",
    "    def act(self, state):\n",
    "        if state.ndim == 3:\n",
    "            state = [state]\n",
    "        state = torch.tensor(state, dtype = torch.float32, device = self.device)\n",
    "        action_values, _ = self.network.forward(state)\n",
    "        policy = F.softmax(action_values, dim = -1)\n",
    "        return np.array([np.random.choice(len(p), p = p) for p in policy.detach().cpu().numpy()])\n",
    "\n",
    "    def step(self, state, action, reward, next_state, done):\n",
    "        batch_size = state.shape[0]\n",
    "        state = torch.tensor(state, dtype = torch.float32, device = self.device)\n",
    "        next_state = torch.tensor(next_state, dtype = torch.float32, device = self.device)\n",
    "        reward = torch.tensor(reward, dtype = torch.float32, device = self.device)\n",
    "        done = torch.tensor(done, dtype = torch.bool, device = self.device).to(dtype = torch.float32)\n",
    "        action_values, state_value = self.network(state) #same as forward method\n",
    "        _, next_state_value = self.network(next_state)\n",
    "        target_state_value = reward + discount_factor * next_state_value * (1 - done)\n",
    "        advantage = target_state_value - state_value\n",
    "        probs = F.softmax(action_values, dim = -1) #same as policy but changing for clarity\n",
    "        logprobs = F.log_softmax(action_values, dim = -1)\n",
    "        entropy = -torch.sum(probs * logprobs, axis = -1)\n",
    "        batch_idx = np.arange(batch_size)\n",
    "        logp_actions = logprobs[batch_idx, action]\n",
    "        actor_loss = -(logp_actions * advantage.detach()).mean() - 0.001 * entropy.mean()\n",
    "        critic_loss = F.mse_loss(target_state_value.detach(), state_value)\n",
    "        total_loss = actor_loss + critic_loss\n",
    "        self.optimizer.zero_grad()\n",
    "        total_loss.backward()\n",
    "        self.optimizer.step()"
   ]
  },
  {
   "cell_type": "markdown",
   "metadata": {
    "id": "7RnRukHDKFJ0"
   },
   "source": [
    "### Initializing the A3C agent"
   ]
  },
  {
   "cell_type": "code",
   "execution_count": 10,
   "metadata": {},
   "outputs": [],
   "source": [
    "agent = Agent(number_actions)"
   ]
  },
  {
   "cell_type": "markdown",
   "metadata": {
    "id": "oB5SpmoKP0aK"
   },
   "source": [
    "### Evaluating our A3C agent on a single episode"
   ]
  },
  {
   "cell_type": "code",
   "execution_count": 11,
   "metadata": {},
   "outputs": [],
   "source": [
    "def evaluate(agent, env, n_episodes = 1):\n",
    "    episodes_rewards = []\n",
    "    for _ in range(n_episodes):\n",
    "        state, _ = env.reset()\n",
    "        total_reward = 0\n",
    "        while True:\n",
    "            action = agent.act(state)\n",
    "            state, reward, done, info, _ = env.step(action[0])\n",
    "            total_reward += reward\n",
    "            if done:\n",
    "                break\n",
    "        episodes_rewards.append(total_reward)\n",
    "    return episodes_rewards"
   ]
  },
  {
   "cell_type": "markdown",
   "metadata": {
    "id": "jVSqiyjiQeMd"
   },
   "source": [
    "### Testing multiple agents on multiple environments at the same time"
   ]
  },
  {
   "cell_type": "markdown",
   "metadata": {
    "id": "69WZWB4oRx1P"
   },
   "source": [
    "### Training the A3C agent"
   ]
  },
  {
   "cell_type": "markdown",
   "metadata": {
    "id": "7kG_YR9YdmUM"
   },
   "source": [
    "## Part 3 - Visualizing the results"
   ]
  },
  {
   "cell_type": "code",
   "execution_count": null,
   "metadata": {
    "id": "UGkTuO6DxZ6B"
   },
   "outputs": [],
   "source": [
    "import glob\n",
    "import io\n",
    "import base64\n",
    "import imageio\n",
    "from IPython.display import HTML, display\n",
    "\n",
    "def show_video_of_model(agent, env):\n",
    "  state, _ = env.reset()\n",
    "  done = False\n",
    "  frames = []\n",
    "  while not done:\n",
    "    frame = env.render()\n",
    "    frames.append(frame)\n",
    "    action = agent.act(state)\n",
    "    state, reward, done, _, _ = env.step(action[0])\n",
    "  env.close()\n",
    "  imageio.mimsave('video.mp4', frames, fps=30)\n",
    "\n",
    "show_video_of_model(agent, env)\n",
    "\n",
    "def show_video():\n",
    "    mp4list = glob.glob('*.mp4')\n",
    "    if len(mp4list) > 0:\n",
    "        mp4 = mp4list[0]\n",
    "        video = io.open(mp4, 'r+b').read()\n",
    "        encoded = base64.b64encode(video)\n",
    "        display(HTML(data='''<video alt=\"test\" autoplay\n",
    "                loop controls style=\"height: 400px;\">\n",
    "                <source src=\"data:video/mp4;base64,{0}\" type=\"video/mp4\" />\n",
    "             </video>'''.format(encoded.decode('ascii'))))\n",
    "    else:\n",
    "        print(\"Could not find video\")\n",
    "\n",
    "show_video()"
   ]
  }
 ],
 "metadata": {
  "accelerator": "GPU",
  "colab": {
   "gpuType": "T4",
   "provenance": [
    {
     "file_id": "19mlgPA6Zj97xML3Mj-8sb0mg8t5W0nmm",
     "timestamp": 1696937661479
    }
   ]
  },
  "kernelspec": {
   "display_name": "udemyai",
   "language": "python",
   "name": "udemyai"
  },
  "language_info": {
   "codemirror_mode": {
    "name": "ipython",
    "version": 3
   },
   "file_extension": ".py",
   "mimetype": "text/x-python",
   "name": "python",
   "nbconvert_exporter": "python",
   "pygments_lexer": "ipython3",
   "version": "3.12.11"
  }
 },
 "nbformat": 4,
 "nbformat_minor": 4
}
