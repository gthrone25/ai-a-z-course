{
 "cells": [
  {
   "cell_type": "markdown",
   "id": "f792c734-a26a-450f-8f66-34188196285e",
   "metadata": {},
   "source": [
    "# Deep Q-Learning for Lunar Landing "
   ]
  },
  {
   "cell_type": "markdown",
   "id": "34a74e8b-4b54-47a2-aa58-f5d807d898c0",
   "metadata": {},
   "source": [
    "## Part 0 - Installing the required packages and importing the libraries\n"
   ]
  },
  {
   "cell_type": "markdown",
   "id": "c06fa823-23c6-46e7-9e7b-551e82eafd2f",
   "metadata": {},
   "source": [
    "### Installing Gymnasium"
   ]
  },
  {
   "cell_type": "code",
   "execution_count": 1,
   "id": "586cd1a1-6dee-4fe6-8c07-15c95b22f751",
   "metadata": {},
   "outputs": [
    {
     "name": "stdout",
     "output_type": "stream",
     "text": [
      "Requirement already satisfied: gymnasium[accept-rom-license,atari] in /Users/gthrone/anaconda3/envs/udemyai/lib/python3.12/site-packages (1.2.0)\n",
      "\u001b[33mWARNING: gymnasium 1.2.0 does not provide the extra 'accept-rom-license'\u001b[0m\u001b[33m\n",
      "\u001b[0mRequirement already satisfied: numpy>=1.21.0 in /Users/gthrone/anaconda3/envs/udemyai/lib/python3.12/site-packages (from gymnasium[accept-rom-license,atari]) (2.3.1)\n",
      "Requirement already satisfied: cloudpickle>=1.2.0 in /Users/gthrone/anaconda3/envs/udemyai/lib/python3.12/site-packages (from gymnasium[accept-rom-license,atari]) (3.1.1)\n",
      "Requirement already satisfied: typing-extensions>=4.3.0 in /Users/gthrone/anaconda3/envs/udemyai/lib/python3.12/site-packages (from gymnasium[accept-rom-license,atari]) (4.14.1)\n",
      "Requirement already satisfied: farama-notifications>=0.0.1 in /Users/gthrone/anaconda3/envs/udemyai/lib/python3.12/site-packages (from gymnasium[accept-rom-license,atari]) (0.0.4)\n",
      "Requirement already satisfied: ale_py>=0.9 in /Users/gthrone/anaconda3/envs/udemyai/lib/python3.12/site-packages (from gymnasium[accept-rom-license,atari]) (0.11.2)\n",
      "Requirement already satisfied: swig in /Users/gthrone/anaconda3/envs/udemyai/lib/python3.12/site-packages (4.3.1)\n",
      "Requirement already satisfied: wheel in /Users/gthrone/anaconda3/envs/udemyai/lib/python3.12/site-packages (0.45.1)\n",
      "Requirement already satisfied: setuptools in /Users/gthrone/anaconda3/envs/udemyai/lib/python3.12/site-packages (80.9.0)\n",
      "Requirement already satisfied: pip in /Users/gthrone/anaconda3/envs/udemyai/lib/python3.12/site-packages (25.2)\n",
      "Requirement already satisfied: pyproject-toml in /Users/gthrone/anaconda3/envs/udemyai/lib/python3.12/site-packages (0.1.0)\n",
      "Requirement already satisfied: setuptools>=75.4.0 in /Users/gthrone/anaconda3/envs/udemyai/lib/python3.12/site-packages (from pyproject-toml) (80.9.0)\n",
      "Requirement already satisfied: wheel>=0.45.0 in /Users/gthrone/anaconda3/envs/udemyai/lib/python3.12/site-packages (from pyproject-toml) (0.45.1)\n",
      "Requirement already satisfied: pydantic>=2.9.2 in /Users/gthrone/anaconda3/envs/udemyai/lib/python3.12/site-packages (from pyproject-toml) (2.11.7)\n",
      "Requirement already satisfied: packaging>=24.2 in /Users/gthrone/anaconda3/envs/udemyai/lib/python3.12/site-packages (from pyproject-toml) (25.0)\n",
      "Requirement already satisfied: annotated-types>=0.6.0 in /Users/gthrone/anaconda3/envs/udemyai/lib/python3.12/site-packages (from pydantic>=2.9.2->pyproject-toml) (0.7.0)\n",
      "Requirement already satisfied: pydantic-core==2.33.2 in /Users/gthrone/anaconda3/envs/udemyai/lib/python3.12/site-packages (from pydantic>=2.9.2->pyproject-toml) (2.33.2)\n",
      "Requirement already satisfied: typing-extensions>=4.12.2 in /Users/gthrone/anaconda3/envs/udemyai/lib/python3.12/site-packages (from pydantic>=2.9.2->pyproject-toml) (4.14.1)\n",
      "Requirement already satisfied: typing-inspection>=0.4.0 in /Users/gthrone/anaconda3/envs/udemyai/lib/python3.12/site-packages (from pydantic>=2.9.2->pyproject-toml) (0.4.1)\n",
      "Requirement already satisfied: Box2D in /Users/gthrone/anaconda3/envs/udemyai/lib/python3.12/site-packages (2.3.10)\n",
      "Requirement already satisfied: gym in /Users/gthrone/anaconda3/envs/udemyai/lib/python3.12/site-packages (0.26.2)\n",
      "Requirement already satisfied: numpy>=1.18.0 in /Users/gthrone/anaconda3/envs/udemyai/lib/python3.12/site-packages (from gym) (2.3.1)\n",
      "Requirement already satisfied: cloudpickle>=1.2.0 in /Users/gthrone/anaconda3/envs/udemyai/lib/python3.12/site-packages (from gym) (3.1.1)\n",
      "Requirement already satisfied: gym_notices>=0.0.4 in /Users/gthrone/anaconda3/envs/udemyai/lib/python3.12/site-packages (from gym) (0.0.8)\n",
      "Requirement already satisfied: gymnasium[box2d] in /Users/gthrone/anaconda3/envs/udemyai/lib/python3.12/site-packages (1.2.0)\n",
      "Requirement already satisfied: numpy>=1.21.0 in /Users/gthrone/anaconda3/envs/udemyai/lib/python3.12/site-packages (from gymnasium[box2d]) (2.3.1)\n",
      "Requirement already satisfied: cloudpickle>=1.2.0 in /Users/gthrone/anaconda3/envs/udemyai/lib/python3.12/site-packages (from gymnasium[box2d]) (3.1.1)\n",
      "Requirement already satisfied: typing-extensions>=4.3.0 in /Users/gthrone/anaconda3/envs/udemyai/lib/python3.12/site-packages (from gymnasium[box2d]) (4.14.1)\n",
      "Requirement already satisfied: farama-notifications>=0.0.1 in /Users/gthrone/anaconda3/envs/udemyai/lib/python3.12/site-packages (from gymnasium[box2d]) (0.0.4)\n",
      "Requirement already satisfied: box2d-py==2.3.5 in /Users/gthrone/anaconda3/envs/udemyai/lib/python3.12/site-packages (from gymnasium[box2d]) (2.3.5)\n",
      "Requirement already satisfied: pygame>=2.1.3 in /Users/gthrone/anaconda3/envs/udemyai/lib/python3.12/site-packages (from gymnasium[box2d]) (2.6.1)\n",
      "Requirement already satisfied: swig==4.* in /Users/gthrone/anaconda3/envs/udemyai/lib/python3.12/site-packages (from gymnasium[box2d]) (4.3.1)\n"
     ]
    }
   ],
   "source": [
    "!pip install \"gymnasium[atari, accept-rom-license]\"\n",
    "!pip install swig\n",
    "!pip install wheel setuptools pip --upgrade\n",
    "!pip install pyproject-toml\n",
    "!pip install Box2D gym\n",
    "!pip install \"gymnasium[box2d]\""
   ]
  },
  {
   "cell_type": "code",
   "execution_count": 1,
   "id": "51374521-5a7f-4871-8ae2-2049c27de232",
   "metadata": {},
   "outputs": [],
   "source": [
    "import os\n",
    "import random\n",
    "import numpy as np\n",
    "import torch\n",
    "import torch.nn as nn\n",
    "import torch.optim as optim\n",
    "import torch.nn.functional as F\n",
    "import torch.autograd as autograd\n",
    "from torch.autograd import Variable\n",
    "from collections import deque, namedtuple"
   ]
  },
  {
   "cell_type": "code",
   "execution_count": 2,
   "id": "5f8d9366-c9aa-45aa-b8f5-d94a790defdb",
   "metadata": {},
   "outputs": [
    {
     "name": "stdout",
     "output_type": "stream",
     "text": [
      "2.3.1\n",
      "2.6.0\n"
     ]
    }
   ],
   "source": [
    "print(np.__version__)\n",
    "print(torch.__version__)"
   ]
  },
  {
   "cell_type": "markdown",
   "id": "68b4e390-e293-4ba1-ad37-b2d3ad79e532",
   "metadata": {},
   "source": [
    "## Part 1 - Building the AI"
   ]
  },
  {
   "cell_type": "markdown",
   "id": "7624014a-25dc-424d-992a-c4321d8a4a44",
   "metadata": {},
   "source": [
    "### Creating the architecture of the Neural Network"
   ]
  },
  {
   "cell_type": "code",
   "execution_count": 16,
   "id": "79196d08-21e3-4ab3-a620-3b088b5d164d",
   "metadata": {},
   "outputs": [],
   "source": [
    "# Description of env can be found here: https://gymnasium.farama.org/environments/box2d/lunar_lander/\n",
    "\n",
    "class Network(nn.Module):\n",
    "\n",
    "  def __init__(self, state_size, action_size, seed = 42):\n",
    "    super(Network, self).__init__()\n",
    "    self.seed = torch.manual_seed(seed)\n",
    "    self.fc1 = nn.Linear(state_size, 64) #fc = full conection\n",
    "    self.fc2 = nn.Linear(64, 64)\n",
    "    self.fc3 = nn.Linear(64, action_size)\n",
    "\n",
    "  def forward(self, state):\n",
    "    x = self.fc1(state)\n",
    "    x = F.relu(x)\n",
    "    x = self.fc2(x)\n",
    "    x = F.relu(x)\n",
    "    return self.fc3(x)"
   ]
  },
  {
   "cell_type": "markdown",
   "id": "bb7bb13e-d61e-4cf5-8ace-e020b8692ba2",
   "metadata": {},
   "source": [
    "# Part 2 - Training the AI"
   ]
  },
  {
   "cell_type": "markdown",
   "id": "a1be1159-5f9e-4aca-b169-a92c01e0312d",
   "metadata": {},
   "source": [
    "## Setting up Environment"
   ]
  },
  {
   "cell_type": "code",
   "execution_count": 17,
   "id": "9984677f-50e2-4446-bec2-ca003b9a92fa",
   "metadata": {},
   "outputs": [
    {
     "name": "stdout",
     "output_type": "stream",
     "text": [
      "State shape:  (8,)\n",
      "State size:  8\n",
      "Number of actions:  4\n"
     ]
    }
   ],
   "source": [
    "import gymnasium as gym\n",
    "env = gym.make('LunarLander-v3') # The Lunar Lander environment was upgraded to v3\n",
    "state_shape = env.observation_space.shape\n",
    "state_size = env.observation_space.shape[0]\n",
    "number_actions = env.action_space.n\n",
    "print('State shape: ', state_shape)\n",
    "print('State size: ', state_size)\n",
    "print('Number of actions: ', number_actions)"
   ]
  },
  {
   "cell_type": "code",
   "execution_count": 18,
   "id": "7bb722b2-75cc-46ad-8445-c06ffa304d52",
   "metadata": {},
   "outputs": [],
   "source": [
    "## Initializing hyperparameters"
   ]
  },
  {
   "cell_type": "code",
   "execution_count": 19,
   "id": "1dd658a2-5495-4bff-afed-51c56c05bb89",
   "metadata": {},
   "outputs": [],
   "source": [
    "learning_rate = 5e-4\n",
    "minibatch_size = 100\n",
    "discount_factor = 0.99\n",
    "replay_buffer_size = int(1e5)\n",
    "interpolation_parameter = 1e-3"
   ]
  },
  {
   "cell_type": "code",
   "execution_count": 20,
   "id": "937eb451-a163-4faa-9723-7e0adcf9e5d6",
   "metadata": {},
   "outputs": [],
   "source": [
    "##Implementing Experience Replay"
   ]
  },
  {
   "cell_type": "code",
   "execution_count": 21,
   "id": "34400c64-3499-451f-93e5-923fba72517b",
   "metadata": {},
   "outputs": [],
   "source": [
    "class ReplayMemory(object):\n",
    "    def __init__(self, capacity):\n",
    "        self.device = torch.device(\"cuda:0\" if torch.cuda.is_available() else \"cpu\")\n",
    "        self.capacity = capacity\n",
    "        self.memory = []\n",
    "\n",
    "    def push(self, event):\n",
    "        self.memory.append(event)\n",
    "        if len(self.memory) > self.capacity:\n",
    "            del self.memory[0]\n",
    "\n",
    "    def sample(self, batch_size):\n",
    "        experiences = random.sample(self.memory,k=batch_size)\n",
    "        states = torch.from_numpy(np.vstack([e[0] for e in experiences if e is not None])).float().to(self.device)\n",
    "        actions = torch.from_numpy(np.vstack([e[1] for e in experiences if e is not None])).long().to(self.device)\n",
    "        rewards = torch.from_numpy(np.vstack([e[2] for e in experiences if e is not None])).float().to(self.device)\n",
    "        next_states = torch.from_numpy(np.vstack([e[3] for e in experiences if e is not None])).float().to(self.device)\n",
    "        dones = torch.from_numpy(np.vstack([e[4] for e in experiences if e is not None]).astype(np.uint8)).float().to(self.device)\n",
    "        return states, next_states, actions, rewards, dones"
   ]
  },
  {
   "cell_type": "code",
   "execution_count": 22,
   "id": "4b51bf0c-aaa3-4c00-98e4-a9c5e617b800",
   "metadata": {},
   "outputs": [],
   "source": [
    "## initializing the DQN Class"
   ]
  },
  {
   "cell_type": "code",
   "execution_count": 34,
   "id": "a7d4b60d-2db2-42d3-ac09-a4a34fb929a6",
   "metadata": {},
   "outputs": [],
   "source": [
    "class Agent():\n",
    "    def __init__(self,states_size, action_size):\n",
    "        self.device = torch.device(\"cuda:0\" if torch.cuda.is_available() else \"cpu\")\n",
    "        self.state_size = state_size\n",
    "        self.action_size = action_size\n",
    "        self.local_qnetwork = Network(state_size, action_size).to(self.device) # select actions\n",
    "        self.target_qnetwork = Network(state_size, action_size).to(self.device) # calculate target Q values used in training for local. Stabailizes learning\n",
    "        self.optimizer = optim.Adam(self.local_qnetwork.parameters(), lr=learning_rate)\n",
    "        self.memory = ReplayMemory(replay_buffer_size)\n",
    "        self.t_step = 0\n",
    "\n",
    "    def step(self, state, action, reward, next_state, done): \n",
    "        self.memory.push((state, action, reward, next_state, done))\n",
    "        self.t_step = (self.t_step + 1) % 4 #resetting every 4 steps, ie learning every 4 steps\n",
    "        if self.t_step == 0:\n",
    "            if len(self.memory.memory) > minibatch_size:\n",
    "                experiences = self.memory.sample(100)\n",
    "                self.learn(experiences, discount_factor)\n",
    "\n",
    "    def act(self, state, epsilon = 0.): #take action values and return final action taken\n",
    "        state = torch.from_numpy(state).float().unsqueeze(0).to(self.device)\n",
    "        self.local_qnetwork.eval()\n",
    "        with torch.no_grad():\n",
    "            action_values = self.local_qnetwork(state)\n",
    "        self.local_qnetwork.train()\n",
    "        if random.random() > epsilon:\n",
    "            return np.argmax(action_values.cpu().data.numpy())\n",
    "        else:\n",
    "            return random.choice(np.arange(self.action_size))\n",
    "\n",
    "    def learn(self, experiences, discount_factor): #Let's agent learn by using samples from history\n",
    "        states, next_states, actions, rewards, dones = experiences\n",
    "        next_q_targets = self.target_qnetwork(next_states).detach().max(1)[0].unsqueeze(1)\n",
    "        q_targets = rewards + (discount_factor * next_q_targets * (1- dones))\n",
    "        q_expected = self.local_qnetwork(states).gather(1, actions)\n",
    "        loss = F.mse_loss(q_expected, q_targets)\n",
    "        self.optimizer.zero_grad()\n",
    "        loss.backward()\n",
    "        self.optimizer.step()\n",
    "        self.soft_update(self.local_qnetwork, self.target_qnetwork, interpolation_parameter)\n",
    "\n",
    "    def soft_update(self, local_model, target_model, interpolation_parameter): #prevent abrupt changes by layering in history by updating target with local\n",
    "        for target_param, local_param in zip(target_model.parameters(), local_model.parameters()): #instance of network:\n",
    "            target_param.data.copy_(interpolation_parameter * local_param.data + (1.0 - interpolation_parameter) * target_param.data)\n",
    "\n",
    "        "
   ]
  },
  {
   "cell_type": "markdown",
   "id": "d3f15eb2-db26-4045-8fd2-ac1869f466b8",
   "metadata": {},
   "source": [
    "## Initializing DQN Agent"
   ]
  },
  {
   "cell_type": "code",
   "execution_count": 35,
   "id": "51e159b0-f2fc-40ff-979e-9788c198590c",
   "metadata": {},
   "outputs": [],
   "source": [
    "agent = Agent(state_size, number_actions)"
   ]
  },
  {
   "cell_type": "markdown",
   "id": "6856d891-d0b1-4a45-9f9e-4a863854aad4",
   "metadata": {},
   "source": [
    "## Training DQN agent"
   ]
  },
  {
   "cell_type": "code",
   "execution_count": 36,
   "id": "d1c3ea6e-c4e2-4aba-9a6b-74785d91d211",
   "metadata": {},
   "outputs": [
    {
     "name": "stdout",
     "output_type": "stream",
     "text": [
      "Episode 100\tAverage Score: -211.48\n",
      "Episode 200\tAverage Score: -116.90\n",
      "Episode 300\tAverage Score: -27.133\n",
      "Episode 400\tAverage Score: 20.662\n",
      "Episode 500\tAverage Score: 161.86\n",
      "Episode 600\tAverage Score: 162.22\n",
      "Episode 696\tAverage Score: 201.25\n",
      "Encironment solved in 596 episodes!\tAverage Score: 201.25\n"
     ]
    }
   ],
   "source": [
    "number_episodes = 2000 #max episodes to train\n",
    "maximum_number_timesteps_per_episode = 1000\n",
    "epsilon_starting_value = 1.0\n",
    "epsilon_ending_value = 0.01\n",
    "epsilon_decay_value = 0.995\n",
    "epsilon = epsilon_starting_value\n",
    "scores_on_100_episodes = deque(maxlen = 100)\n",
    "\n",
    "for episode in range(1, number_episodes + 1):\n",
    "    state, _ = env.reset()\n",
    "    score = 0\n",
    "    for t in range(maximum_number_timesteps_per_episode):\n",
    "        action = agent.act(state, epsilon)\n",
    "        next_state, reward, done, _, _ = env.step(action)\n",
    "        agent.step(state, action, reward, next_state, done)\n",
    "        state = next_state\n",
    "        score += reward\n",
    "        if done:\n",
    "            break\n",
    "    scores_on_100_episodes.append(score)\n",
    "    epsilon = max(epsilon_ending_value, epsilon_decay_value * epsilon)\n",
    "    print(f'\\rEpisode {episode}\\tAverage Score: {np.mean(scores_on_100_episodes):.2f}', end=\"\")\n",
    "    if episode % 100 == 0:\n",
    "        print(f'\\rEpisode {episode}\\tAverage Score: {np.mean(scores_on_100_episodes):.2f}')\n",
    "    if np.mean(scores_on_100_episodes) >= 200.0:\n",
    "        print(f'\\nEncironment solved in {(episode-100):d} episodes!\\tAverage Score: {np.mean(scores_on_100_episodes):.2f}')\n",
    "        torch.save(agent.local_qnetwork.state_dict(), 'checkpoint.pth')\n",
    "        break"
   ]
  },
  {
   "cell_type": "code",
   "execution_count": null,
   "id": "078f5dfd-c22c-4aa9-9caf-cd97dcf72c8d",
   "metadata": {},
   "outputs": [],
   "source": [
    "test = 0.2\n",
    "testlst = [1,2,3]\n",
    "print(f'\\rEpisode {test}\\tAverage Score: {np.mean(testlst):.2f}')"
   ]
  },
  {
   "cell_type": "markdown",
   "id": "86ae0280-00fb-415f-8721-9924421d2f7c",
   "metadata": {},
   "source": [
    "# Part 3 - Visualizing the results"
   ]
  },
  {
   "cell_type": "code",
   "execution_count": 38,
   "id": "3c5c52f6-9df0-4cf1-8d7b-8d5a6dc422a8",
   "metadata": {},
   "outputs": [
    {
     "name": "stdout",
     "output_type": "stream",
     "text": [
      "Requirement already satisfied: imageio[ffmpeg] in /Users/gthrone/anaconda3/envs/udemyai/lib/python3.12/site-packages (2.37.0)\n",
      "Requirement already satisfied: numpy in /Users/gthrone/anaconda3/envs/udemyai/lib/python3.12/site-packages (from imageio[ffmpeg]) (2.3.1)\n",
      "Requirement already satisfied: pillow>=8.3.2 in /Users/gthrone/anaconda3/envs/udemyai/lib/python3.12/site-packages (from imageio[ffmpeg]) (11.3.0)\n",
      "Collecting imageio-ffmpeg (from imageio[ffmpeg])\n",
      "  Downloading imageio_ffmpeg-0.6.0-py3-none-macosx_10_9_intel.macosx_10_9_x86_64.whl.metadata (1.5 kB)\n",
      "Requirement already satisfied: psutil in /Users/gthrone/anaconda3/envs/udemyai/lib/python3.12/site-packages (from imageio[ffmpeg]) (7.0.0)\n",
      "Downloading imageio_ffmpeg-0.6.0-py3-none-macosx_10_9_intel.macosx_10_9_x86_64.whl (24.9 MB)\n",
      "\u001b[2K   \u001b[38;2;114;156;31m━━━━━━━━━━━━━━━━━━━━━━━━━━━━━━━━━━━━━━━━\u001b[0m \u001b[32m24.9/24.9 MB\u001b[0m \u001b[31m11.2 MB/s\u001b[0m  \u001b[33m0:00:02\u001b[0m\u001b[0m eta \u001b[36m0:00:01\u001b[0m[36m0:00:01\u001b[0m\n",
      "\u001b[?25hInstalling collected packages: imageio-ffmpeg\n",
      "Successfully installed imageio-ffmpeg-0.6.0\n",
      "Requirement already satisfied: imageio[pyav] in /Users/gthrone/anaconda3/envs/udemyai/lib/python3.12/site-packages (2.37.0)\n",
      "Requirement already satisfied: numpy in /Users/gthrone/anaconda3/envs/udemyai/lib/python3.12/site-packages (from imageio[pyav]) (2.3.1)\n",
      "Requirement already satisfied: pillow>=8.3.2 in /Users/gthrone/anaconda3/envs/udemyai/lib/python3.12/site-packages (from imageio[pyav]) (11.3.0)\n",
      "Collecting av (from imageio[pyav])\n",
      "  Downloading av-15.0.0-cp312-cp312-macosx_13_0_x86_64.whl.metadata (4.6 kB)\n",
      "Downloading av-15.0.0-cp312-cp312-macosx_13_0_x86_64.whl (27.0 MB)\n",
      "\u001b[2K   \u001b[38;2;114;156;31m━━━━━━━━━━━━━━━━━━━━━━━━━━━━━━━━━━━━━━━━\u001b[0m \u001b[32m27.0/27.0 MB\u001b[0m \u001b[31m19.5 MB/s\u001b[0m  \u001b[33m0:00:01\u001b[0m\u001b[0m eta \u001b[36m0:00:01\u001b[0m[36m0:00:01\u001b[0m\n",
      "\u001b[?25hInstalling collected packages: av\n",
      "Successfully installed av-15.0.0\n"
     ]
    }
   ],
   "source": [
    "! pip install imageio[ffmpeg]\n",
    "! pip install imageio[pyav]"
   ]
  },
  {
   "cell_type": "code",
   "execution_count": 41,
   "id": "397230dd-79ba-43b5-8d5d-2619876d21cf",
   "metadata": {},
   "outputs": [
    {
     "name": "stderr",
     "output_type": "stream",
     "text": [
      "IMAGEIO FFMPEG_WRITER WARNING: input image is not divisible by macro_block_size=16, resizing from (600, 400) to (608, 400) to ensure video compatibility with most codecs and players. To prevent resizing, make your input image divisible by the macro_block_size or set the macro_block_size to 1 (risking incompatibility).\n"
     ]
    },
    {
     "data": {
      "text/html": [
       "<video alt=\"test\" autoplay\n",
       "                loop controls style=\"height: 400px;\">\n",
       "                <source src=\"data:video/mp4;base64,AAAAIGZ0eXBpc29tAAACAGlzb21pc28yYXZjMW1wNDEAAAAIZnJlZQAA+xVtZGF0AAACsAYF//+s3EXpvebZSLeWLNgg2SPu73gyNjQgLSBjb3JlIDE2NCByMzA3NU0gNjZhNWJjMSAtIEguMjY0L01QRUctNCBBVkMgY29kZWMgLSBDb3B5bGVmdCAyMDAzLTIwMjEgLSBodHRwOi8vd3d3LnZpZGVvbGFuLm9yZy94MjY0Lmh0bWwgLSBvcHRpb25zOiBjYWJhYz0xIHJlZj0zIGRlYmxvY2s9MTowOjAgYW5hbHlzZT0weDM6MHgxMTMgbWU9aGV4IHN1Ym1lPTcgcHN5PTEgcHN5X3JkPTEuMDA6MC4wMCBtaXhlZF9yZWY9MSBtZV9yYW5nZT0xNiBjaHJvbWFfbWU9MSB0cmVsbGlzPTEgOHg4ZGN0PTEgY3FtPTAgZGVhZHpvbmU9MjEsMTEgZmFzdF9wc2tpcD0xIGNocm9tYV9xcF9vZmZzZXQ9LTIgdGhyZWFkcz0xMiBsb29rYWhlYWRfdGhyZWFkcz0yIHNsaWNlZF90aHJlYWRzPTAgbnI9MCBkZWNpbWF0ZT0xIGludGVybGFjZWQ9MCBibHVyYXlfY29tcGF0PTAgY29uc3RyYWluZWRfaW50cmE9MCBiZnJhbWVzPTMgYl9weXJhbWlkPTIgYl9hZGFwdD0xIGJfYmlhcz0wIGRpcmVjdD0xIHdlaWdodGI9MSBvcGVuX2dvcD0wIHdlaWdodHA9MiBrZXlpbnQ9MjUwIGtleWludF9taW49MjUgc2NlbmVjdXQ9NDAgaW50cmFfcmVmcmVzaD0wIHJjX2xvb2thaGVhZD00MCByYz1jcmYgbWJ0cmVlPTEgY3JmPTIzLjAgcWNvbXA9MC42MCBxcG1pbj0wIHFwbWF4PTY5IHFwc3RlcD00IGlwX3JhdGlvPTEuNDAgYXE9MToxLjAwAIAAAAa9ZYiEADf//vbw/gU2VgRQlxHN6J0zH78VuLo0N73ZEeE3tBoA6XIkeWF41IWU2jVVPX7jwCFA2vnhrxZblD10cNQqE3LYIhW3NKSo/1AzgrQ1ULuMiX+5aypd9JxNbSOU+8me+ioar+dOlQQ1hTo2SpIC3YcAgqD/5OHKOQT4YqlcUlWUCDHHA+ZCxal5gNtTpNJsT4J7h8RLZVAbMqT1piAiDetSe8p5yQA5dfKUQmlQkrp4NSEsd09ztmktVFZdIoxkkvEnywKTviEcp3g0vln0aAAAAwAABPTpj1JOsM6p8+MB9mdM2tGgAAbQKosIeGQE6FUHAIqPAbQ4BsEGLYC54eJwXQoaDZkbcgdCGUmFZLNBhiNlMxmyGpaKlrGgEhBglOr6QWEsBGyWcgT4HwHwAQO6NKV1rH69Iph7xLfRl/3Sd4Tcjd7Xo6J5zKRu++7N1mOb2g5RbjvYfRtp0hSAZV6hsl1pv1jVMjwXfbq7kg0c2JgErr+mQ2kdTyzRVMzqDEUo+BKHDmSzK2T+cEdHVRQJ9i5VuA7vRGJG9rebPbUP9GcZOg++s6CfkGH2Vkt67wl3kPgIGeAyt0A3EMZyPcK8mKkwlNUyx+M7GuRK2BCaDGd1zhfyq/ahEXIjE38yqE25WnAggyjBKhIETC+3iKw5XmmhRE0roHUcJHxiQsAJz/mImQvBhc3h55QShGuV/EA2q1enNnCtK+wn0Jv16FxBWamGQ9NAiRkJtpPEOhzsLMrCRyyKsyPZnGeYt4xG+gvmgaqPBZN0nzEKaatjz2km2rHccc/+Nu4vHUrn/PkXZLdkrdvKQXJRpYMd7krjuhcBwHW02L5Onu/1NqoFhyfoax0jI7eG7EZex/gw7fRWFL7WJE53n5o1Ax7rZkyPJXR2tTZ3+MTU/fsHzT9tPPYZCOfvEtFVw2Dk3WhJ1T4jbMOyUZT4Hhu40aIKtZ4oNGabyiJk9xiyf/hshUvoPeM8sJSQbXfhdRxSGlJV851f3dsGQlHS0LtfqoQFCTED+/6C4kvO/9RULO3ylbR6Rnp9L33zcXF5lHeZD9pRYfQLp/dUMhyU9u9gLDm3nDaWxk5S7szL5CScWF6oZoC6rV4jgk19LfsE1Ao2J824SCT1QhXTJsnsbv6cfRolO1Yx3MK58sNydjYVXHoQwaQFl9HHgUib/nG4DE51o/0GRyTsCGU30uCMAG9o/XZxDroF2z4lzEB+H7iwCyPS2drjsmzJ0YmF7qpAhbUltbrmp2XS80fQNgojJnN5ZWEnk4twvwV/pDj2bPLHYzFlhxGi8LX+3rfmcCR/QFCm2rTdB4eP+6xLkxWRz9MaaitvmEt38BkmFCQTEysnTnJ9LLQ7CtUxzj04Ox9kdOQByQpW5c2VTz1XVOAIROqBZNJocMAVlOGpeflOe6vA8zGr+UeFRbbX/kHgjPwdF+HEbKtvDG1yFAn/0JsFV6fl9rHR5f8sHEUsoCWmjs+E12gESmCnfLcPaX0LdHn1rkr/1mY0eieJxMSMd4axsTCg5oEwxqUQHqwew16ZAxZwiT+CWh/R9OygNFGnpkQPGukriaASoSUnMLHAsYwcXmhlpYrQENspM+t/cpvHZ2QwWSwIC6AIyLAK/0rythnGfQotZ2m5x7c75Mxg3xRQNgVZUvkUifCK5/vDbopgBfWRae1zLZwix1ZckrBPYAic0yu93rh3LPYlrJsHiqaLft8qWMqLdEx8m3GlYQ01q2hbpszjGNPheK+UwQOfBcpa5Qf4Rz4BeJ434D1/8rziDsgC0JedsS2Vn3RzQtJ54ksngQlle6Am40N1ZHgYmVT/7LtAUK22TmUTtuf4GgfZJSPdPPHedvdywpncw26KaibKLjGqgfZ/Q8mTDJBaAxkJxK2DsYqtP+3lm0BlIovk4b1ZO5J61V/ypHovbKkAQKeWHs3LOrmJT7wcaJLaqOZT3AFgCAup8l/3oJPNYF7Qd27deMlvPU1xGqDblkaJabyv7GYWOwfxgGGx37f59/3+2gQcIA/bm6U3PYqsUZ4cIhsbxmSj7QKu5YiAAAAvNYvEk/xWJVYikIWs67RNDkE9Lnc5nhGTobZUVSk6PmVoRuv33cUZTzVNzlm1t5VPQJvFBp7TNACSkwV6Bka/6XD6/fwCPp7+r6b23qRH5oK8rvlb0bo6d6vF3ZTqhoHxXRzy331tl2HSR482UI+ZT5T7ByE0/MXAj8HVkwVFSRqdjnuBUKNuGZBKhsqPV4u9XHQhcaz4v1MwBJDKOKy5Z4v4gMmoAAADADfAAioAlIAvQBURAAAA2EGaJGxDf/6njkwsAfrg5AAQtuM+q+jon31LMvCrBbr0WR0mQwvj/5PPADk0OdNV6RrrsIAAAAMBsV33bVMtBn9CWZhrIAon8P+6xxJUrVS0LNe2IKgGUUe2apnEowm0Ak9h+u/j/0qdRNn+lXQgW08zUyqxtaiHD25jUzgOtw6oq7QLwCv4/ugmz2AxEvME8cjHzKWtf6chhjFpXKDLID1lOwOwZNNF0lAB97zS63GyOgUJ8Hvcj7a9dMAB7Ruxq1Q2KGbvULDxHp70kuZiwB+STu9B4cWKmAAAAFJBnkJ4hX8L/QQOmAKdxHBbdJqW8CGobBEcU+NyetyuG1aWRzPVtEdb5S3Ds7TqtMA3JFb5fp1gAKOqWxN7EnHI+69kgsjTHf2frGtzTxqg1AM/AAAAQAGeYXRCfw4Gwnyu87F6IASup6yyWviqmfjU6TPOI/6rh+ib8e5bz9YACoYOvRw2TbL4P4EZLEyi7X3pHdbGC2gAAABHAZ5jakJ/Dge6KcdSkiTaQASH0499QX11k15OXfnuihIUxXwFG8hBrgAJ8EhOgahb/cbGuSqnJykPO0iVD47h6VAfZlzABL0AAABeQZpoSahBaJlMCG///qeOjzUD2G7wI3FcHW80g/zubeQSqrCQgAAAAwABMMdr21TLOBg9fQ2XxUqtMHk0asOwNAx63rQLrqLk+kbXzwrDYNnYZvUpQRb08/kb53BJwQAAADpBnoZFESwr/wvxOr+qALefPo9z8L+cbjY3DLIKAAJ9KHlMhPrXRzjuwU1bodgngeFvoperciFjgF7BAAAAMAGepXRCfw3N+2kw6ADdF3RKyMHLeqtqvNx/OIvrmgAE+afqidc5U3SsU/Lc2i8CXwAAACUBnqdqQn8OBRV3E0QzYn3vPCNAA7TaerCZnbn284eB2hsreAtoAAAAK0GarEmoQWyZTAhv//6nj3zbcF/lEqAHE4YyWgzdDyx5TBpBEHAAAAMAYEAAAAA1QZ7KRRUsK/8LGEsHWdBXwBnxzIaIp9BKg338w5OIPJ/GBZ6Z9AADYZFbLAiupICKInSAlYEAAAAZAZ7pdEJ/Dd26yxRQAA8JhDEmyCeo37nkCAAAABsBnutqQn8N6MkNThyuFIAA5yAqtKPXvk2qeeEAAABZQZrwSahBbJlMCG///qeGGX9jU2AL0MI8xy880Zqgi54o3QFFTEdUggAAAwBxfvdtUzl2N5unHZOLZLXL02ZU9hjC4pH/qT6JcHAusYb6dX+LyH7z+kt34f8AAAAgQZ8ORRUsK/8HYg/mQABGpYeeioPF3MJmzja4IpmEAeEAAAAWAZ8tdEJ/CTlnCDUAAw+pmEl33iDOEQAAABgBny9qQn8JQQYagAGIdQHpjH/Z0srYBqQAAABkQZs0SahBbJlMCG///qeGFgskwNoAQ8FLvPLWmiKJ5vHcOnQ5zjLoukv6TLyc5Nhnuo6UERgsgAAAAwEsX33a1K1b/8w0ZsOe63MC9YMVIuZuLLAbjLLewtzcNdeQYEkSTjwGLAAAABxBn1JFFSwr/wfBO9bkAAR4WI3E1KClQNqLbCphAAAAFQGfcXRCfwky4hqAAYfYa854VVnNMAAAAB8Bn3NqQn8IwpsjAgCB8Fmndt0LN1AABDfGBhVH4DThAAAAk0GbeEmoQWyZTAhv//6nj2vRfcPXcADjFnbZRhdC9yBIzXkRgWFVqiAwpIWyqltfJnlaSJ90/FmTM4RvHWf3TMqKN2DKpi9AfeRqhwoJugMkfpxcfFmc7x5M3eERDbeip46UHKWFAAADAAS3Vr22qVU1gf291wxjo+ztAjlXx4W6tTlNt47v4a7xK37t2FClb8BBwQAAADRBn5ZFFSwr/wwn+wAhwWg/V2c7dzCUylNh+6G9uABYl9ycUu/VaLB06hcMqII5b3fYACygAAAAJQGftXRCfw3qtuUukpk4qVWgl7AAJ0cb+LAlkTnLpKolmghBB80AAAAqAZ+3akJ/DbJ0ggWwTafW4ktgHYIAB8Ol0cosrvHeAzoODB2Xejy1gB+RAAAAvUGbvEmoQWyZTAhv//6njnjjuNaLPACURVegsCXeV5IYrQ0uHFiroJiXlyz8u83YWfYim/NqRIjiQyNQQNMz34fu2EbJfViQe23w6UBiYUa1fQdZowtj8pl/jH7F6gu1haL3fwKN7GAgtglf5DnjiLSs1OfZN7jb0FRQ66J0ZmxMbN6Tu8wTcBr5l5UWKhZ954AAAAxR7aNm2qZc/3jOwwWQtYHY+xs2PVrbhNPV2376L8fU4kBAn/XUFucPuAAAAENBn9pFFSwr/wvyVOeiwAW3UJrtoUApTEhJVlbrWdZcziD2KdvHFuAAmxMN8zC3P6Bv4wEVKNA4tphNPWd63sHw6gFTAAAAMwGf+XRCfwzvpfN2IAK5WSFvmnf31xyHRLZc9tsosDUIAAgrLzUTUSfh46t5/T9RCYBJwAAAADABn/tqQn8Nzf5KQHZvIeBhsIhYXgCUaKxgAFT1h5QEZqfEBejsBRhFkTJ1S5DQFtEAAADxQZvgSahBbJlMCG///qeOHIDppDQDQJUUMsAJVKp84sU9L2kuyameVRcE6tCoxA957DxyZhTmlw+6YwHrSwNv62zUQ60KZbj5cbZiA0dwN6KTlxhnfNSO8rWJxQs9DUiPKctAtt/r2yaXbD+s0Vu0e5FKWgt49Sd7xVSRDGyKDAaKm2jv+lYYfQYamk9o5HEhrB8Y8BEPGciPQEWcwMNLJwCl0dgAAAMAC+K+y2B7icpadACgjyFhVcEONMSsbOb7tqmbIVIznUWkaFQIr/BHB0dHtrXzA3Tn3Ajt/zttax7k0pE28VnrhwtWwE5GgwAlYQAAAD1Bnh5FFSwr/wu5uapQse9BhacKevpicfAcJ+Wt0ADX0KyEWHJI7z/9JehcXPimSXKA70FctSAItuRPwAFTAAAALQGePXRCfw3ClVLIXI09z25/07FkjuECDXkPvrFWABfZBZeYlt7KxpAe1QAFTAAAAEIBnj9qQn8M5P8crlmzkEgNRAsQ2ZYnPABNIseocY4HZImvpaS1O43ctozc3eIAVkqKx1jtV/wdycpwbtUgnKAAJOEAAAE5QZokSahBbJlMCG///qeOHOLGJlHKkiwi1J4AWwcyVCBuMWLG9W+sGNv25akR/i8LquXRpXGiT2lCa5HEI9omrC/SQIPi/30oO2Ct+HzEnWKVez3EdUAzSlE4XddCzWAK1Y4yFNMIKa/UkrpJh1skwRyeGQLIr8AGNMpsgXBYmkdqEwpTH2AAAAMAeeLxrmxOhm6lkPEN5na8OOjy374dX0fbVQWAK+flvuue6ubbjwSjKKfQVwlLT5r8DdIIB/rfzKRdwvqaXvu2qZaP/aC9hUI+jmEp2/ONW0PcwrVQBGnkkshvdiUHe5P6D5P+UAwMT08wfuSEMxhcY7IWjO9huW6HUfk5mngjZhGAU046BRgiN5r2QvUAJX0IDnboS0QtYYgpKKRaq4wDwj/U/jxNsjhwQiSzoUBWwAAAAG9BnkJFFSwr/w19fssVe0SqhJMx0bFXYdDDz/2R6AdT0FtMAJS1ZOiZ070As9pBTRBCZ2rs6+7qq6ijoZXTbwf6o5u7iWyFpiEL3PqDYgXLgX+YYJ+SJBwGoO3V8ukEgShq1QE1RG7vcv/4B4TABd0AAAAwAZ5hdEJ/DerStMJ9oNvz2QRT3au0BlA+dzRKYk4AfvldlOl4fQ7/trXlOo8j4BgQAAAAWwGeY2pCfw2tcPgFiAB+17wjY3jMw5gWNB24/hnjMtTnLf7M89JdsFpHOF491wspyavXEJL2Zzk56oRxE7pU0BMAPdofa8SlhhXjWSRBkEBDKOU2xuyWBIvACmkAAAD7QZpnSahBbJlMCG///qePQC4ndkcVzAAVzpJsS0SjMgg8O7TsHqNg/H8q84AJB0DKbA+7g+2SyoMZlH7zEfLgHMRQEeTtvJ6N41498Iu9RQSys2KgxusuitWYh27Wh8gAAAMCS/QqT1MsT26DKdvY30iaYM3t2qj+GoIa67p+LSMzpuSYLvsfxIocWI1RfgviYBi74BWXuaPGlGMe/l6e+7apmf7r+Uc1RYLROTXmSrET13yL5A9K/8hz1hKRadfLyo9VZ7lXBF8xn9IlH1hW3ggl+uagQv9/jAuTNI4vmNDvkOY4Gb5CQlMUt4ihuyyMhmMiUxsdAJtvJWEAAAByQZ6FRRUsK/8NapoxbGKxEAJNHyEoEfzGynmibetNtDftV5UT1ll74wDN/gzm+J9YTUbj3088LYFgK+OjqhGYW6Ua2CzfUvd4RAztFTtD+c6x1a1cvbnft57BW/VbdZOTRUEC13jzu6QgKP98emHDGhdxAAAAVgGepmpCfw29GyMtjejiJlknQ07m5SXLm8yF3yUKLqvqc9LAAShaw9ptvVKRjG/tQwuhuCVosdRratp+83Bt1gNC5MgBmSCS0Cxf7NSHrS992KZuHA7pAAABQUGaq0moQWyZTAhv//6njjsYM70m4mV6rVf5V6s5uukRCZcT6e+pAIo4kk1IM3rWQ9h3ULJBd/oR+kvvZLkBlnyDZ/kqj6M0UiKJki0jx9oz/ywLmag1SmGVHd8Hn7b+QHGgq8+2sl9lTVPX2Ve+TK6kG2w8SIOeDCMvUn9jbgAAAwAcDj1LZCNR4Qc1fuNz63FMbiulT5cHIUa5Qpr1LeoMBz/mEFGLn3k4Rde/Kr8jaiqPUQptkU89921TLcz18aZDbd9quADHFIHjxxpUtiHuKfiRbUtgrmpUpdQUfALgetZy5/865M9F0f0Jhx1Yb/61sVeKg2mX0E2md/Wx8Dg7IS9URT0o+fET8jvNRhLHe4D1ToifqzOCxyWNyncjQHJB/kmCSO0q7ogOF1ikvHvmYWyzzz9pDT6RYfv5uJ0SYAAAAN9BnslFFSwr/wvSHx56jOAB4nVNuOJSqC3u7D76jI9vXimuZNmz/DWXFD7YMDbqQPXB++a4KuVlv2AooBkjaFJMyZ3VBK/fFjTc9bCe4xBCeN/zh2RaRJ+uoLoIFsHUdR65Ze1y5woA+6AKpUZO5mRsijwpzU9wqHXpK37Zoa4XY26X5JAsq5QyAr7maWF5dSNjMosV3vY6Gz4kmE0LhYBAZzuyFhnM5Ql7l9vqHM7G4+mCDhmLNTQi7ZqZzwF0zprIJy3u20rGuQA4gLm0MywKrtHrTZrPggDNRYbpeAHtAAAAagGe6HRCfw3q0rrjscTVAY+H0J7yMmZrwDq8aMTqht/coATHFc+MlBDUvmUwM/EU5lT4v7MEOOSv7VyAn+QTYP4NUbIIxjXhnkI6tH1jVKgk19mFzrhArH5bK7vjyCrJFX7UQKmCmRgEE3EAAAB0AZ7qakJ/DehzsObt6p/X8L0JbNM+Q9bD9hBA+RN4V2IwhgAPtil4MBdvABa4NvsTrK6e52sXEr5K6No7TM8nQ1LcH78OuHTyKYQ9TvxPWFOJReLYTQIpaOw37Gl4GQFF5F77JS6AGgmQB0sTMepVNhtACRgAAAEvQZrvSahBbJlMCG///qePec9Y5YZv/qQdAAahnZD0mp9zJmGQZlj7Fip4N9n3/F84lheBeiX1blK8eM4CZ8tvyFId2iEvwKBktt3MAAADAEOEV+G52fyIM7Jb3UKCZGt8WsmCotjEKoVvbzxWcNolh+DXwUusTrjIzTN4E+3lNvjGqAS9j3u2qZnpSBavz+p18lstQ/s+goyBxLvW5IIPw6MjJV9qUsXrE8FoZR8UTdRLscCMIUGowaGMWeHC0dsmTvaBlHnarD+1bLJr/mymBpa7c2bcmxwnIBVE/prHvyfUOkmQNx2Z2/2PskdkegePUCxIJ9irHoMs4SWFwAwE+N4gjsaqTq4TwimEM+P0O+MfTyTeQO9tHeiJzCNu0731suNpTvje5IpJ0uxPaQXCAAAAoUGfDUUVLCv/C/GOkwFvahX8WPmlRsH33tp/E4aPi/eZx/+xdgkHa1bGk+X3F8iBp1VVR+7xSAg8CEYyPsR0FassA+541jwn37Vhmk0A2s3B6jfaMYfh+6N5VI8+FktAbh0tjrqAoM8/+w1mDfLY10gvJq4DfD0zGx7i5vwXm4xC3GZw03ZFvr1yni2BYJEceABNh2pLPMagA98MafBYsD1hAAAAsQGfLHRCfw3goEpi/dJkiQs2/agAnU05FzPBI0WcnUVVvzmuNEJH1IbD9p0govRFs5ndHK7QPzE5uP2gi22kJGR4ASA+Hn7Ay8zjPKgXrYh8Y4qh0WmpsTcf1RkCnA6r9kaDMzLPrrNAhJLKf/qfUdWMBzYxvFH+DMbz6h3s6g62ei9pV530jVGVKqsOAkmrhTqGcK8+R1SmZlCnjCkk/xlsr6bv6CkZYwNzCw1upGBHwQAAAIUBny5qQn8MgNq1K2OXK+aHjVIAAtrcyagYUFkdD8XmUSvR/cHm8qkjx1l9xu4+0oeHJTR8lVKvGxIXLHBvh1alb3vt1qcQ2LaHhxpEZzcIgX2G/G83NUY2ZsZnJSoMvxc4RrSKgsnPGTuXouWiFKlzNDxQ+1CPVd3wkMOTZiHDc9GYbCmhAAABGEGbM0moQWyZTAhv//6njqILqdOc/j3HfSozAMQ28E7KDLqAVxNiHFwuiYzXcaeoBTvp3AOqB6djH7iW/BA7G2Tf8FPsOI7xquZ/FjhMc0s8E+MaKH5iCi9ZzY5IpYsXXLDHJFp3HuZ3+4MdOY3tTGT1WVH2M0iK0tMavReAzOM5JlmTRLquj0DLfrIQ2IgTr7NOJvyM80a3siJd8wdiVqq7XS2+fISrfHpQvDUBaUtVJAAsGj8AOmov/cD7mAudMRXxLBl7weZkr2oztrxS1AXmsz70ctdAj+YJWhSHXvnbLRnz5QgrkQN/THXPd7e4yGtQSpMmIMh3E7ZSM8BYPUrTrNDi3epjDjFG4B6PJmSCn3rKqvC4BJwAAADMQZ9RRRUsK/8L6rj/fmAfgD4nDRcsl1uj4Tj6JHWnfhteIjsZp/G09bdcM43sjWXIPdEZ3Xg+FpuJeocopGqm6nhsE19nzDHPyTwlQ7iKbqG67kTWmAl1X/uYhP0vojejqrT/OIYLeGvDkqFpi9zNxbyQO/d1DIkseTZbJ+VIBPuSlGF0ABUvgfWyn7z/JOP3rCXW6o0YxRnKdnMgLwvEDtoE8it/8rcm4dwqEeE3pyGcwugNSqZSakKq8elyRKgALDps7uwdoqSqeQGLAAAAigGfcHRCfw4DLpBImUDViTsdfoF6DslZfB0bURsUAEH+bUSFtszk/Ik8pa83leGToCvEf1WrNWuD3CfkXkkD4G1K24srn1gRmMKTA5IkKUck7KXThJrwOfx3uqKGXtR01MvMNR3d84qw7oyAk0YygBxhR5yJpW107Gd587OIoDkCEELrCkZR2UeRZQAAAHEBn3JqQn8LxDZjPjtWxqGeIYAIwOxNPts5CyBHNKANq60AwBjVoC/xVhYbd1ZTQBEfYmP1XQirURdIdBa4AdPzRxi5gZQG0chcaK/57nPg15VA2MCAB7g1jeRhIdOsvwkinL7MRbPJ0pVW/UpGaABQQAAAAPxBm3dJqEFsmUwIb//+p4QCYgWtGyiu/FNEAmh2G9ZT6oEgiqvD1nUvwWJwh01+cBF3jdAEb54JovbxCe4RDctc7ZYEGHPlQn9VT+dolxNGXCPc2NGlnN6+zddvBnESBlsuS9f0W1nkcRXRpSlPuJDY/FoTKdqkg8uTZoHyF7ITSWsileXC+sOIjVTB7Z153g3Jc6XjqSYyu0xtvl1/oOBRlsMu/JbxrvKRW6YByb55aftcEIiCNP6MhTrgSNoKeOams39/+4o8HGuoGpD1AQcLcLYTNX8sjhrFQmUxD0dSA3RnI0tO6gGmdBK69hpEmlsAJ+8Btytn8NuZAXEAAAB5QZ+VRRUsK/8I/IPohdyumP3TzUsEHBb+dJrxQB9ANtYv0Rs0YAMLFLnWeazwvyP3AVR4gvUuPFkOaGYn3Fpnrwasi/UX7j14XHp78/X7wwIQB+qlIse0leevsOoJBQLTQ+mhA/2pWSAtYysrnfOXqm5sf1/CsuQGVQAAAH0Bn7R0Qn8LLoo4lvgfTMI9nW17wKEdJ7VT6+i6M+Of/VtK5gNQEgiA4HLedZRsgHgx4xK+AC2dv4lIlF1hi5Eq2EOv5ac4ADqx1hXtQgrhQRIDZsPH+RYiBLni7rryjN10/u+7LbNEbFxQfFSP4TaYJly0KX1/0v1gWKAm4AAAAIMBn7ZqQn8LPzI4r/ExZLaQarSSVHA9l7Buf+NnaiAFh8e/Dw3AQUfmkRoqNsCeiZ+Pju6RrFH7WMagc/qvQPk1rLph09oj39Lf/rg//4Wevc7PDL+SfIPdX+mdBt8VdDYqC96hIzIOkmmZp52gDXL0fh7aBb4Sf/HDhMusYkHEtOYsoQAAAPZBm7tJqEFsmUwIb//+p4QCaZl2mMk73sFTnLBbasAYPXANH328gE9jajW4mGyJdjlBpatBeeIsTBaa0fwgnXNHfg1O5FPsqhRpzTsLpV4+EC7bq3TUfvByoplH47rEE3ri3nBAsNmG0UrNTecbcjse/ZPuw+VQaQFMi5jS61loijhwSfMKieGtb07lYibjq3YzI2aqA8O7hctp6HZFfAK1J6fP5wFkpUGmRLjlnb1YFC2205IxVnvr8Y1qT8yrgWOYS7ywMVpKCiGSV/MQa/Bjtr8ayRThLsGGsAYFdQGoVhgc1rIczF1e/WEFVg0czsUPaaAAVMEAAACRQZ/ZRRUsK/8JggbwfQvAvEaswiHcjexgALE77RntwO/cW+wV2yks+7xzl2XW4hyKueoV+/6ZJ/INiBPbpBwnbaAnTfza6e63guXHCHlwPow/NF/AUHUfq/7MY5WlLlOh2L8E1Z0sxrvoRdX/IqV2GF5SU+qDrjrmih/vJVUvsOP50GwK8BjWGc1ZWVO9c6AFlAAAAI0Bn/h0Qn8LLoo4g56LcDILoIgLWg0ySgPGlngetyw6tNHt9r4xANwIa4JauiKQZ1l8g2YSVM2aQ4qMxjdbXYlKGkJK+rdEBi9j14S3SwI9PNCrCroemcbLK864FViE4O9Joa2W8b6jnv/3aW5ceA5qZkaAiufthe/MvduSvhQfv/RgQaC9h1y3rG/MLKEAAAB8AZ/6akJ/Cz8yNDhaJJ1bSV0ej/VjMZNdznSDxauAZ1suaxSUcV41wuIugBtkTS8SSQp2LZI5KG/ixx2JOGGuH3RyZj39diJxqsbx8HwTU8xnQTY/Qj0x3BU34Q1Nxt3Cbat9yTT/Z5m28DJlO8GqdEIB6aHaFKIdaA25gQAAAO9Bm/9JqEFsmUwIb//+p4QAtPog+Mvln+9h+XV/jYAI2T4t2H8PHbrSV8oFmhTSujgWN6N44NTnFNqyIltpL/E8CRvLSNA2BIX0KO8wz472fAw8NgpFl4h3RekkQ+wNZTEKT2TXtGVBye1glzjBR8sUkt607mszve233apQ+5H7ddXpXeRGIEdyaWGP4R1fDDxXIpJHHpsI4PPO6TjrM8Mee6J0dlUtdyGQyVbpjV8dEvHe+YkRCGPEPTWWRywAbSvDlTJberoLLPdBozFVCB3xkwGTlPibjARAumE474MnPSNgdzEV5aem3Dp4DKAOmQAAAIhBnh1FFSwr/wmCBu9S51zV0+oW915po1YmInrkSqyoonRvP7gIbhcWrUHbl3PRWiM5hkhgBbfUaZPH3QRPKMaTdv1iAwRJ43WnS3fPcshGxEM4up3RxyaVNV/WWvfli6fYiinlkwJdBX1HtGq4snEiSTR08tqePW+To5HbaC+Nur2aT2teECkhAAAAcgGePHRCfwsuijCBFPKOSc4As3coAgbxW3RocXuaR/2KRqzDHqf74Ra0pEAD+ZptLPGHgQbeZsByhvkZMKhw+GCmzrK0wMPjh23IyY9JJYkKtAD76lwk0AFkEBgtkZ/IwD42JUcnvSA8Ix7LBMrCQhqDUgAAAJgBnj5qQn8LPzIwlHSsNgk8dm7zzQ6A8TRw/D11Hahaed/6+AERku6DtQkGSCRMYB1ylUQ5saaHI+7qO9J9UmB13Y12ipe2xXMwamSTN6eQFxrIGGwMiU9+c6yqeqIlefZm6Ny4M7I9YGjya5ddWFtSqmMVZ6I2mfSsal+QoKfInQ6iVuU00usL/uEM2QcCu1HI+6mfwdeMCAAAASBBmiNJqEFsmUwIZ//+nhABBTgrjaQDRc0N36oe8WBYTkSJpcvgyhnfuPjKpH1+hPVIQKyng1sUZgO7WyDWmKx39XyHCVhO6vQRpvm/EQ/VmAVKW/40DklBYLBijvZfdRH0qSTmR3BQmx5q4veBGNXCOFfrN094wRTjd18HHPNly0Pm8xeiGAhqPAuCtKrRVZq2kCwUNxcaKGJBRP9QwJkAnh18JNk4DMhg6OHld7KDV/8yQg8FZc0hL5d9iHy5lTlTaZjSqHniuAb94wpZPrwOmVlQsFDRgbZoY51H1DjSuj1PC6w8p7Z5KaPYx/cLQJ4LryvHAwElS/ZXwqqz/0cbQougijMqkoIZD4gNlE1LgXb5cMngqp7S0XijMxgAXsEAAAB8QZ5BRRUsK/8JggbvUudPmDp4bKr3VWHac4Xv+YAdQEKo159WFt50a8J/BIAWdC0g+aLqsNMPvh++Ud/ZpF1NRWkjFnABQbFr9TnSEz2p80nRXRuYTWtM1pm/LXQSeRcLvp41dfClyvN+v1RlDOAJg7MPd9tp2gvhWiWChgAAAIkBnmB0Qn8LLoowgQ8LlYKQXYi7tNhC2rtYl/v1MnPf3gW4Brd2/oBnaoAR4dXGrY8RETHDBCyF26YEIUABAQVxD4XFg0vsR6700xG9LtT1rA0T0oKd0C10R30fRv2Iel4o0x82PDpF/8mAsdGQzFswvRTdLQiveInOqhRMMV8q8yQQiCVflGux3QAAAJgBnmJqQn8LPzIwlG8M6TlvoQHStAVrcnnbcSAEnozszdeunEnQZe5bqQTsn/Cy+nLK1x3QkTOBx6IOVQH6jZWueU8YohGHm0GVJsHeHqpaaw8WvmRsO+dmB27qgNaCdXxTfg3sR2l6nzrhEizHra2dAeNK5+uBqUW5+GgxPWCDyhjvVSUhhPQvEDjM6l/kJmhbw9b5iw8gYAAAAOlBmmdJqEFsmUwIV//+OEAD+7/0jODUe6h0GNoBWqZQVPiASGysUg5bcrHlyQLAP3gx6YIrQubKZhtrqYC0nVbKq/OQSJvRogr8CBcWVcPFO2vsgq9UIuSR1iRpjDiBdQ//MYxcJRcani7SE7ZifxCA8meimeUTmZlNHb1zSBDstPgIHnPEqFz+WkdrUNYL9yCDUZLzxakOPPZcqn5N8UfXW4X2BXs5NssQxb/xGQsLc1vSijwYZ5BWi5Z1pY4FAU1XadZFJn0h86nHlQz/3EXdZrDlp+QulK54DuMTeuo5Ad6ukGotBxpdwQAAAKRBnoVFFSwr/wmCBu9S50+YOnhkOf4ux7WAgnPUlMcttQDNacipbZ1wpMq5mjY0CJ/ZYoxrSqM8QarOjfjqBaL1CrrNHsarVqwremOuuQlh3XLJY1Ud2u80iA1cKHXCgnfn5458QED8arOkmEim3UALkaA+4WYmQa3vMrggtSoP4DrMzkpXO/a2eXbFeJ3eWG07oskhy3m2jUwIXP1F4kbInawDPwAAAKYBnqR0Qn8LLoowgQ8LmHSIek8qntQJgeOZ7wVJowFQ/sbH3e1rYkqovgA+2NVXJvQG6DiA/+npxqVyTJE0buLaYfVXm2Cudu2dZhuvRB5pcrqn+mSfUWuSNUyB6xNkYK/3PyZzZg7JZ3JdYIEYytybjjokqpvue5s9cWTe1um35aqJdD7J5Dp3wrmdjzmLxpn3xcfpYBACMlo5VEGnNTeJWwgVuBdxAAAApwGepmpCfws/MjCUbwzqs0n2ssPpwJMuXTmMn9ePgNpYjUycmACMCq6awu+9N8zOIUy6c4ttjjJweUd5Lo0beiFG/HBATxb8h4ozdvGAgwC8WxLaudtTG6YJvGA97xfjiSNJ3+AyqH21+WzhZuGgybvjCqsIbLOJOLX+iUJj+GvVAFAgMysg/3ifov4KReJ7vPo4hMmSszpBlGDKaOuKUpyT1z+HD8bNAAAA6EGaq0moQWyZTAhv//6nhAAZukKtdkAcuHruopn5eAd8GB7T2QrP0+Lms+8h4Q17lyIQlZhDLY4fV9Al5rIUbNJB67YBYm6cr/nomlCyM6LxC1Ej3lsYTXVNiIhQi5SCIuQ5zMnscgvqexKEhvoVQOsr1++F+Vz2LTtGOhnAMpdt8gXvCGVzOXJiwnJBsOGWAYd0w2ap1gK9ry868bZNk3AXuXdT91l2BsuGnKVsSPbpHXh4xAUZN6miOySh8vQd8lzT0kIvAepu6njReNMh0t+QkxhyMdCKB+AuPf2NpZoGIPLAnKoALuAAAACdQZ7JRRUsK/8JggbvUudPmDp4hwZo7zpkaGgTbPeIO68ni+JP2MI8mvD3DXQZXi+y/P3P1x7OxI+sJn8YFklIXnMT2vHcL/icPh3bxmKJ/1Dl+P0CDLeBh/Pt28P9v9Ftp/Q9bmY7kOJPR5Mmw9G8wktnpoFt1e/iqELfKcV22wIYz0et7EkNdKZTUEytRaYC3IhTpATYgRtffoAKmAAAAHYBnuh0Qn8LLoowgQ8LnNumQLtRONurbRPddhC4ng43oF628S0MLwAZ+gMVCS5ljY/0HEuX4+quYPw5Kq/E4l2zqKhOulHLZ05OGHCziOoSn2cbpQqyD3H9UipA6wMA9KLfcdNVvyW0FO43ECvtAloeYOd88B7RAAAAtgGe6mpCfws/MjCUbwzxW7WhA/I1dyhUwaefTBNn/WAgAnbyKjW8Xftm4YP4MUViGmoBIpA1U/zTK5pYaC0t59/IGmFv6ditWpAKHsS8JS3+tHp6ZBo6Skek+3HwxD2oL5bnV/YZFx1xFUile688mDEKCP3ydDWy0//RHFL8xTivYcqVIbyCcnCoRkWkbJOuOp3mii0xnSJzgrCvvOGwiVpwEBOG8nd9IS0YJZJaQyQwcUDStzEvAAAA20Ga70moQWyZTAhv//6nhAAZ3hPMliA2LFv6RqkDnbARYARFhJ54Go2TinPF+FmYRv7zATB5g3npJHCDOeIcMrFDUZBNK/yegTl1nKkw/7npLoo6xX3a2kCt3IWErKNp7v92VvD90/bW+X52HpZ/px2bmkP9YshKsW5IsHUYmLjtvFhmGgFefZFKKq11J+Ta94yGQVL7ZKV8nwzypf7ItQLlmmNtKO8q4pcqPV747/7jP5nLiBb5kfWJR4K3pNwVwvNc0w5tV31+WbvPqll6cSFTkgJ75WJWSRAFBAAAAMVBnw1FFSwr/wmCBu9S50+YOniHBRz6PxY2o2M3/IlHOIE28MAU0tsIwGFGSfAoPKL11XOGr6gBmxOj65vpZZ6GhoukFDgLNXYHUAzJYRuKyRFOssOXkOapFW+D+Bi6lQaj4XHnZsnNCWakhHEZWxnccHt7rzQZIGE2WDTZOLD18tUXlMTm00fKKQHWW3xTn/EfBRu/Xmyj5AKiADLORaBtt9ASgs01fH0Mg8cvhk9CuNdaNud4+s2nwzYgxsgXYYI3c4wwIQAAAJwBnyx0Qn8LLoowgQ8LnNumQLtROLUSRiQTudyB/1k18dO34ePmcAFs8Qb6Gm7uJaBtStuqdpM9qCYuUigh3+LQ2CQDP2s+Y5u68yt9yEY8bPKzlbCyS7lKYA/iE78yJ7tz4o0AiKp+CTHC/hUtlFTlW6Mj84sD4h5ozx0ksAMFC5W6ncjX7K6fMeIvccW6yBWvR0N9QDYM9Q0eIuEAAACxAZ8uakJ/Cz8yMJRvDPFZQMzSoItIq3k650v8zvXaoKCy802XgtgAFtJscg4pEEN4GqDKVVyXQhUvDF5FulR7qVq9HqrNWaLWlFvx6JBa7CheVXs8jRX0NKF/vRVUnD6Qb6sXV+uEILwPAQBV5TNL3VcWvVEtFlpYHnJar5MqEWOMxJJ7l8P6T6VxDRDEbV4zSwzY8J1vDlzzGMWqSKiy9pyvUxF/79LwVI1Gi6i0sMMXAAAA7EGbM0moQWyZTAhn//6eEAAlqu/5JD8u2FI7mXWJ4Uf8lcARxChZwNUcgO1mW2DPM/iM48YE7X0W/LwcLcGzmbKyLjLzgpZGz2m+MvN+01TTQcidyiI8W1bflB2UCRgnn8zzOFcxKlwTNZqbCtFvKmPYQ+WnETsVTdHV9bOqO/ebqxwC5MhrlmQpQsmtcOScMij2/E1gUEdDw6HGUJkJXBJaGAkMECOD9i93fNRv0yr/GC/1exXZR3msEd3d1lM7Hdc4rwywy4XNMfAhEmd9rREKX7LzCwS2ujLR6ggAT6IVPgwzGSlegBi/ECLgAAAAtEGfUUUVLCv/CYIG71LnT5g6eIXQM/Un5v4JB0AJTuyU/NeIPqap+65K4GTwZjsyW8uyNIoJFPqw+zGT6v8IYVrRuYQ1ExHND/pA9eo9XCpltz5mh8YmDT6QXie0hT9Jrnoy4smK7Vx5XgWZ2lm/JndW+BGdGj3Vt7LIQLD1iI4A+UxPezUYWQHKAIRmbgPP5vCHhpV93X+p4GK3YHKIf6I0SuDusn0G3il0xgOs/QqM8cAbMAAAAJMBn3B0Qn8LLoowgQ8LnE4vOQaIb1TCQJh4n3V/U4dCOOfO9WTdbZ//V4AODm+8RhcirOHrlGcg6Q194ErsPL0qD46fDEzyIGfMCRcstfZx/8UWBoia1DJVp6AsvUM82B7W5lVMBCG/2fwOsR9goi7mrIPY5wszvNK2yzby9OdcwHgOpfOrA276cAxkVLjZ1lZA44EAAACGAZ9yakJ/Cz8yMJRvDPDONCUNXAeZkqOUY8NarF5+PjXFiuh/TGib6+AATPW02lZsogKe3lPVZRf4N2JscobrOB/32787CzvSriqOfy/qUY3SBHzOAMsaO/aHMMGTo8aKliNcH/KCNNiQCLWrdXkis6Tr8Uj5BydYKzouCqtQFAMjgQamEnAAAAEVQZt3SahBbJlMCFf//jhAAJN0SqUy6OMaT1URixeXM2eqPuiNms5Yq6FtPYA1sB4G3nGLNgErR5jg7gpaK6xQFMytKtY3L1DSgKADt2qTnw2rlNaYIP0JbwyBfcwkyl31oiZGmD6bWsjsOLrxeHerSE9zRsVkgUJ6d0BhNH5iHtmgFOo6PYo2u9q9i2HsbcAY0zPcQzIteilydomodXpD7xlbNVG+UQbD+XMpv6uT6ZJ7qzb4qYqbcDykH7hCksk4U9KqqmtRN/lItXKk1zowC8p6YX2JCu/iZ7HwlMUNG7kJiIT8DKd/K7OihWMPmBTRK4qZSJaLfvMiSwYUIg5+Ez/dRYtauIemFx6s0eoDAmDQLIMb0gAAALZBn5VFFSwr/wmCBu9S50+YOniF0DR4i9wy7Dxqhjv5+6l1IwF/uq68A3+WTgPBueAE1+YE5BuP/6bqt+mC6Si+JFjDaaNz5IzxcGZSRvKfwLscd8GK9zviTx3+xORQX5tz+AXgxdof5rGnwzYN38i3x4ZmhOLedop0afU+5fzIPRLiz7DnqETfO8pwFQtlLtMfp73rwlP0I6jXRp1k3i48DVdMnLtSYxrDjzz4kmUses+4DKC7gQAAALYBn7R0Qn8LLoowgQ8LnE4vrEDTkDxA6kLe28lS15VDPyT9eQAmVSxuSgX30voK6CLYmT/qi772+Fj19t6bUaVA+Nn3hldpBes/qsY29M0tREQsXi/k69N9IzHi7/Jt6pG2k8iMgTZHA+0FA0fc/d1bYjVuxZXVTmAJPVZdg57ITQV5coleJoq4knxcVkWx7YLP0pqkcMuCantbKG6470HlwMUoD2jp5NjfFhgE7kiBkAjENTD1gAAAALIBn7ZqQn8LPzIwlG8M8M4zeOXzbh4/DkScWApNDgZbk2a/w4IYdl5JBPG8tGKVhwlCwYr/LM9VBB2ihq0brtkkHIIZ/lVck5Jipwmon8XfN9CD1VD/NgkQo81T6z/Il0w8aGmgOT9vosDZ67z4KGHOBlvFcG6S+whmKFjh4vLg30jOzx3H+tzQToTWH3lHe8sp7JwLpQj3KRJFEvGgs6rGXc76r/77dPyYxXsoihQZkMaBAAABQEGbu0moQWyZTAhf//6MsAAlPTcoh4guEur6XapRADQ1lB8lJBeE+F6hph0B1+jZ0VgNXS3M88JTcG45uyJCmjxWVSkK6FMpLBuhev12ppJcZBShmdVPHUI4DFOPPs8Bid1ovUB/tp0GQFKhE/2kg4ToZp/mRIHdaYsTziWA7mnUPkGusjV/ZetfkGFip85HaU45gKHKYg+BwxIX9VYQjtXFtx8+XI1kxXznaH3Xd21eMdINLScgxO8PBqEWp89WnxYvOoOtRXsXOZqZnNXZASkcwN460qEAAWedS7mqfYA4qDcxSZcz9rRmx5Uxq9i3EsVTIAnEdnxe3lm6cvefkO2Sv4teHdwNXEqkptjPLXChCC4F+i+52ztLUwBkcpofiO1LzasK6CXgOQeD2/uwCpwhYrtCEF7cWOVCG/9XQDGhAAAArUGf2UUVLCv/CYIG71LnT5g6eIXBDbtYAoZwmKn92DzR1Iqg/Vg3zxHUeMi4AKuZ9IKUEcMQYfmSG/YmhVkvn7wxvzCf6y178bgUd9KrKH05o8NryvkhvSmswnB2iMEwaeuGnRnw+WH7r9zlY0xu3ZdlK3NoFvlrkDkN4LR+qgSloR1GR8g0QvXrrYHmZMBBMC9t7doCjak4ismj21Kpw5RRhl13N6g4GbxjoDjgAAAAvgGf+HRCfwsuijCBDwucFr9t1vfE18hW70G7CJDqo9ANCgcC5Vr+BxdEAKtGjdWaAbl4gnlZUOseGnnecLS2pNg+gqPBvTXvnitQdwaWRncZxnLylaK5h9C7o2zeFGuZ1/76Pqrn4TGWnqXr8Vnapc1WKzFhgvyi9BrCXU9IVeZWldoIW4CX5TuSjZ6VXtINcZdvIc53jDO7BumPbEeA8LXQJ2ZBQo0kj1w92pXzJ2SCQbCv0eQUgtMoD8cSLKEAAACqAZ/6akJ/Cz8yMJRvDPCWuBHK1lawS0etA/3jxoYiHr2tGnXYMgAFhumSKPXG8rVylbtM5mm6L+PPZVe0owraFLj16r7Eg32o77sl37EF2pdI/f3b+0CM02WX/2AfyJ1stTBYmm08S7GXYwLq7R9LOlqdUmBqAIjIiP6qPmsRMBZaM9BvJ2fY8RSeQ3Suoy3BbvVv94GcqTsfhRASqZ2aReT6XBYr9u5wqYAAAADUQZv/SahBbJlMCFf//jhAADco2btrYDGLrl4KLy7oAwZ9TZEAmJZhx0TmvRjAg8XPikzab2c9vf9pgBNtebiwjEN3jjSrTTyK8zbR8X3aILsYoXPHmX99/WATtf3Almr2rwEWlfgKs3SOcFSetleLZUx4C2Z3AXxRX8qgnV7rJB2NqlENVnRdtBj4RJ0apsUe4K9ejZvK2RRSy9VSb3q5TfwmV2SueGVFEIMAqvqgelYsxfakyKkW5jkCoqEsBZ98t8ILd8Tj+mckpGPd9wB/2hApVMEAAACOQZ4dRRUsK/8JggbvUudPmDp4hcENu1i860At+Wpx8fq7617Oh31mtOyAhBkBuy2LU5y7JuvQFC8gABAGu8HqXvvY11SDBG8J4rWgc5WD5E9DUGQTPdSReTgc5ym9MjrlXIpHQoQ7lpO+2kJHoyXNUtvwZ/iUfOAg9QVHzbwuD1XBLXeAXspkzksw5rBBAwAAAI4Bnjx0Qn8LLoowgQ8LnBaHvDfvN0srcaKXiP7gJl5pb4r98qn8/9ugBLE8ENO+/SyfXHWprqJGvePDC3g93+8VMxZfjFqvO9WSHR3WNUydzi0SDswSrSmb8w1lg9b91BhDdQKchNDy1C13NfAd546wD+uuC7GcHtSSOd0Iv4muhKZaV232/98jXdy0AOOAAAAAdwGePmpCfws/MjCUbwzwlqO8c4eJ1oTTmK86Zhit4rvyVDi3PRSkjRf7mclgArRV1s9VwjvSklZ7AkJYX5bunuaBTjXohjvz2u8CsgmOAKUkNUw4HcdIDJ/hkR8N04i74W2onqM5detz2k8Bi9rHVd6/BZmJB7EnAAABEUGaI0moQWyZTAhn//6eEAAONwnR6Jflmr/+HU9CHcgCvDsxXUslvvR3KOsUzlOsz3kfxog859T0rmrGQz9EvpKcArNUyrX3YH8Z56qOlfUzDl3Q1NV2J8krLROhNQYnTC7ad7i5S0wzi4iCF/qgUvuyEtCTLjRl/cLOufRYe5UhCsBz0Rf2TVgqdTq/FztVo19H8WDT6ewFi2c8BJn5PeYzOgHpTOEePsy1EMyFyt/AKCdnKyBQZTFTKoCIatnLIpTp4Ravy+7L4u5Xgt160duxn5tTbgod9Jx0uciGxhI79HqwHF0XdFwhs4BRcbXAALmJDlmNRPYT8Nbi3e9mTsvsWmvCwJB98au3Cd/XyogNqwAAAJZBnkFFFSwr/wmCBu9S50+YOniFwQ27WAJj7g6uJnT+UPmPLBGIBkxoQkePvIFeTA7PwizJVgUnKxwjO3YYQKOlGdNkNaJWRfjytIsVkGW5pbz7DSSEIywma/XCzX2m/WYDtlZ8lhOL6Z06HrMWnphIevPG4o9ETp5FOKYPHM0Mo1f99fVGwN08Hf3Vmh1L9YSV+fzwtoAAAAB1AZ5gdEJ/Cy6KMIEPC5wWv23/zADZCjauHRrln6Up78JACCNHK8EE3A2WUJADbVNPtCedeO0XdSP2s616IwWi6dipEPivPo7UevtRPCqPouZob925OQUgkIwTXZLw1i0SA3H48J2I2Dn/hthiyjwOchhOGBDxAAAAlAGeYmpCfws/MjCUbwzwlplU5mLKhy1OazgfOL6PDyPF1/8fHcAI1nvDpVftqiAa6WI+ByCg+CfztrPydNfvEMgNdqhRrzyEZ75feEprqGuoEonxX0VMOn92/d+xKNE0KoAB/kXfQq+n1HPj2WBfW+Jf/8IOWAsu1uV99pa7CJLPkSR+c00PQnLcfqj5w5utk6awwIAAAAEFQZpnSahBbJlMCFf//jhAADY7/0tn08h8F50FV0pux7nmIw5du5PtbIPf0jIjrA986wsgNsMHO+NizWfdN0fudSruLJ6rWAH7RS0uGyxmaRjICtH+L3UPLWB9FdtRHOfmQw2hD3ADA/SA+BQoQATsUOI0n3DL0M5Tv/QCjzdHNo5YGUSZpH22dvaSXk3ID8RisibXX1OxZqm5Fr7YkgVHEJBB1OQR9Ix9cYl8RHQ6iI1jagpZ9vzVIUo+DHprA7glgQxCJtd7NSAiDolyhS7hwkTF357j+UXU6Lqv7+dFRABE/Gh6/HuTwDXnpwFVipWOonq8QjfphbPoGBQ3o4LJsG6p90nBAAAAukGehUUVLCv/CYIG71LnT5g6eIXBDbtQckadi1REidziHqWv38yeTVkqpFaprq1ACVAREOOxzmUZ2ez3s/uJhwLyVES4Sx8HeWnDU6O2/BRKvCEil66Df5rmDcHtroAtvZBfU+8CfkZK/XP7VEZtn/zaHiL7oogQNoileOMADWDEcEF6sAfWgW0oK6gkpzpmwF1CMDgXujJVa06wWnO/gcLbZ6vqxQYbGFni28BdNyd21PXvkZ6+VgBUwQAAAKEBnqR0Qn8LLoowgQ8LnBWxMkQlLT4Pf9xgC1NkUHVKkAB+6tCUC6CAxA7RbsU/uG3F3sJ82jeP8DVy2aB2GN4r8NcaNzjv/vL5T38THf+QlXfThXT969SF+DTBygGTnyPBG9BFfyZnex6thncAsry81UVTmTwmhBiscL6TaVHVRgnsoHALguN0PKVpW2GQmWEIWedzOJOnLLl7NuAFnQBBwQAAAGcBnqZqQn8LPzIwlG8M8JRgfm3h+mxo39x+/nQyuxmuybDcumwVWUa9QWVwSBe4q9XXrQIeOE8cuAF8NSQmmp0n77hPL/y0Z2Zv5opsPNM8lzyJlPHlLRP/HjAjTYXxytQPBVXUZQz5AAAA10Gaq0moQWyZTAhf//6MsAAFb41zCCIaOnwKx73+u5pwACaFyutWnej+LaXp99bf8Z90S0FTNZ3VSzFfDxA51z7DecuZjgWH4oqHt5EEV9Zf3uwAq8QtULX4MuYLJxkoqJNfJUohI/qjvkEhCBQbicv0d2GxsSC+GldeXWqLobgG8jYJmrXUIbE/RYsjYfPp8IFV8PN9H+/Ydfjlw/lvp2QeFCFEwbZzVYQ0jWrvJZ2+tmvxB0txLoloQrnuKHUiYAxJsFe3p3wM3XMXXhyk3JjsKyOOlDlgAAAApEGeyUUVLCv/CYIG71LnT5g6eIXBDbqZ0SdBZdMcG+Ncr+cmvidS//l0AFpz642Jo5dg3TPJejWYBaIkDkt8nItdookLWpbO/HMiX/m6s7LVPqBGdO36YS3Vs5JqQ3qgXfVrTk/sXL3TMNQpbOuiZ06XjT+9H+Kc0f7huTvv6Vt1kSCSzbywxlPEy2pTN2g1FshtXe5Q/vUwf+OCHw5e8JCMJBWwAAAAnAGe6HRCfwsuijCBDwucFFCscAIfKm4WQeAImOmzuiLXilRAv5ecKpo3JA/LKo0knP1CEqHwc6RPgr6417RpbXazi2PiQhRrMcAZFIoXluwsXm0z9M9cNxNvjOyJHm0q33yd3a4I4Xyz0cgqV6OkHK79XUi7EbT2440jxJLXEWsYZ7ozLUwDctufCAU+4jlNapcWPS1dEcZ6+OjPgQAAAJABnupqQn8LPzIwlG8M8JRgfpRJYXxidWo417XFFY5bxf//yUAIJPbO510hr1QANUdNdGtjpuY/9v74QYC8NVexnvMHl8Rw/v/T08LrpvDkE/+IX+4lchf/x+XZXumq0F8JFo6gjUbQiEPJzrxciinu9r8NTiC5n9DRRDjgIn8x1r0pZnphyxvMV+lE7BEA1IAAAADyQZrvSahBbJlMCG///qeEAAFj5l2jm8oeft+6Hf9viAALA2GJ8mCA3rEOrmHQ+mT8k6BYHLBXF9TU1r2lGV0ZbB7LNnB//peUXMmqChVzyJ7h+gIz6r88M/lw8KJlKdn0CdTn3JeGtY3rogEkQao62BToZv43YVG+vGFkALXzmWkWM9tag9HRh3fulfYwyc9ZC8Vb89xOw0Owu1MkmGKRv84/zCtarItUdwyzl78PFNfYSiHAQ+MJgAYkCwx/XD3ByKDV1YRAq0G/GaEFjfsyDzzIGsccsMJz9oXznC2KcFhMliZ0iUOo8gcom2/jQ6PvGmAAAACJQZ8NRRUsK/8JggbvUudPmDp4hcENupnRLCbGPWg5je3thmxOtfeYf+dwATnMIDDfszLlI16gDe7CbsPtvoyv6cJsWDVAESTR3rb+Id8WnlNHD+8xpk8h+ap5KAjgLH1DJKQ5u50rM6SvzCisCZr+lSofU67RzETlnKslbgCk3D0sj1J8qX44G9EAAACmAZ8sdEJ/Cy6KMIEPC5wUUKxvrK817kLqJAe+pg7sOAK1NMqNDQVA1BaavJHzF941YMJiELkay2zCmOm6BRhk2V6m/HP1Qnc45OZO5z8yBRBoLKYI4mw67GUiD71DuRuaLbSCSJ1Is6u0VfOdkysKnZYyD/X9LQd3wnrfHs8I2Ml5eMt/I8eQFeNPINX9yTuFddkJOyQW5722+zWuaj0fOrKzOmwM+QAAAKIBny5qQn8LPzIwlG8M8JRgfWX6Al0Y/L9KApm+O7y7GyUi9BgsIXB324/t8AJrENu+DNDNfdbPoU88ZzZZRxpwNRB6Krx2NJQuNKunWk5ZTyAQ4vIn7BeaGw6AzCg9O5HWIC02FFMKGBExDP4UEuCBYrBbw70UY8cKoVdQ1fVMZGZkma3/jkOEJEmFStGdzqqaT6NXoJdgnZ5Q+mbLMnOSB/kAAAEFQZszSahBbJlMCGf//p4QAAVHmXSTn3Y5B2AaI7sMY6Tiqpm4Vkie+TcC8YiF5TwYq0twyTXJqIM12Ktkr+OttXH5+uSG3u5OcyP+bz2S9VvB3F/jfxFwDw0jI/sHhZVQkx+52rbi9TTWELvSdT6YfqeBF2+dRNeyOusxnlvWGdttuPqR1I6RXXG7T6AIp29OLoOe0poNOMdcC9IOVXAMYThnMhbqGxShav4olCLMikN3dqEa4mVKQdSjQXXT5axnPuWYH0Fx/MgSaNJ9ET+CjMbACWaveZwPz/WxjNmoBm6LCQXqwjai1BRwjJXAXDJnVLUuljXXkoamWYzqMh73XD53ghpwAAAA3EGfUUUVLCv/CYIG71LnT5g6eIXBDbqZxioppxH4+hbjdDOw6ePnYyvmfAAEwG3gdJ+105MoGMCWYgcxBcTG/XQea4SetR6YzQ53hcOP/nd1aV/WYQYvddpe5fOU8v4nYQvg/YFbzgaQXFOu/I4ItMniJwWVJN4nFsL+a1Q7Uf4cEJppgwuc6vWWENJGqr/acpXnxWjlPPS/5H+BquxU4qd0ifU0w3rf6tSsWJP5FPWche2C5g33ZfHqaoem4uHqSAfEOyj/slw2T4oaAmLcf5QPy8IGLgj1Ue/vgYUAAACHAZ9wdEJ/Cy6KMIEPC5wUUIybtKPEo7Dn+wokRG4AE7eN1+eibpM+B3dLWUb/s4fHgql8rdpulW2AajpgbOdFewWPML7QWJvQq5SZOkMo5G4RBkBn0z7guBoXUeOdKe5sb/IqLkKV0VFrcVKJB55le5suH7cglDR8ts5viqNEztYhytME4HpBAAAAiQGfcmpCfws/MjCUbwzwlGBekjokM1iZNJOa15QAd888lLEnSrHS29OoSoBzSVsyecEVuJFzveA0SqI7cgWL4cK2DkqQsIK9l7+XmoRX4I12pYGtRRrddDGdPZAzf5FRyJY1hV54zXnoEYxqJDYYMPv/fRpS0xuuz5YU/9iBLwvFDVv5VY0MaIeAAAABHUGbd0moQWyZTAhX//44QAAHy1VwDF0Y7ke6/cipbpRuKGGqJKNWZGAAMhTnX2xiQoKPOTrYUVu+FmJ8Oo3ImqJbIzPinw1RtXi5NdnLz1RMqzVWuVybitrsPz/FCJfLgAk/BD9c8s78MQ9bW+P7dHFpx9YJA2clGs67IeuPY5eqA7770Dt7C6mIC1QljZgAqufGuukJMr9rHSgGVZax3x6lfWlJxnwotWFnyQxds0befsowdoYoLnwjsj12hgDkImEXozRUAQFN8IEciqxgWs9U5mwoQ7dr3HsdhyEDVW5rmoS1JjRp66R9go0KZdXUMqN72h9O3UdT87eCAneD8H6+UhMk/AynfxPWeWV8dJi5erNowNvk+1nOMrAdMAAAAJNBn5VFFSwr/wmCBu9S50+YOniFwQ26mcYqJMfWp+l2cEn/AiLvIvwtrB3AA72Cnn46AFuWh7iMAmL/M4M4rhg+dacbFob52sYAp5FmvPY2rNNWqzTC6NlemOWfPRjL79DuqmmRMQbUJI20cjjxnMFgXVa/hBSitLiJ1h2fZcBw8tGCoB9g5+isaJVqF8pXPk08CPkAAAB4AZ+0dEJ/Cy6KMIEPC5wUUIybpsQBz3Uc96t3ohHhD1En+v/pBKWbSV0/fqYAaA9FarMFclFwGgx5LdrJ7h0tAxGJaDdjISZRLm39sjI/IJjIAjIkJhQlUknUtd8dGh2kUeqUZWPJvOJigmyeiQvHlDnYYM+QANmAAAAAZAGftmpCfws/MjCUbwzwlGBekjQRjDuECWFwNasrZLIIgen23uIAJ1mmXdleCGaJ+IgqANJqt93KcDSNiI107vnRGqe0dioYf1W/D91ZzY2hoh5ourY38kRcfreKEgixU4IoYEEAAAEUQZu6SahBbJlMCG///qeEAACDdNudExi+noB/z60lVLsQAC0WaYNUXc4tsfJlJ98Szbrhzoqo6d1116WZQP3+3X/0YN0bzsU8mfWdRasOH4c2Oaof7jLlYs2e5sOdYjYgdkvjJIzeh7aPCmBF7dbv6BAtKOUTcn3g6AWYhbRZlGy4dsOE22PE0auSZzFGvZOCU53Ly4Ddkx97EDgqHYZPBuJUyc7jdyb2687+6ZFeOzkyqT4gJsDRemTIoEpGDyBwOZi16sU48rsZlHwM1hsLZGQkF09KXHQlUxIHUi2znBbyqg+DOGyhAfMd7rcrt+1ok1+IVvryNMvdr0jXsnQW9Cv3UsOYfz6NWjwoS3DdzXhc/6MbAAAAkkGf2EUVLCf/C0bnXRhpLNEgsPWji4COTscLfotheFa+VqPnyhZTs+3ln/CzsQPGI0skovb8YAFgmNH43ywMaE834hPaivmcHb4hfpilHZiRhTsn6vyN8hQjQWJVR0tyTHllUwemKtBwk3IJc4GniNz1tsxun8whWIg8TCoMU5+2n+o+suHX0dD+9KgfSDpNgM+AAAAApAGf+WpCfws/Mg7JzZfGTn7YHlN2KZfX1Ef3pJN3y/WQATB235fuzrX6LmIkvbkE7e59k1OTKa/ro3NHa+xByH1MujOuCn8ARkPQ64sj9oeAiYeH36hBE2iOlhIWD4nscpsiVFovVNZwCzUZPx+CufE21XbWmiZUO85MuIpX25Y07ZALsmV1a0wdBVI+R4sN9oJU8XkGf+l5eRXYf5TUH9EJkAGLAAABIkGb/kmoQWyZTAhn//6eEAAB8uEyxEW4rV38Sb+HBEsqp1A5sIVaUzf8vtDlkYzE1wyD5yG7sLUon6rTsHfdYcff5pwV7xr9d8N9MzovNIIKiDqHT9bBUI6w+H0Qb/FVKMXfwjcNOfZMr/sNoZcZAy55spSjYPyL62RAWbZvTjpc8xBkVpFfFm5Yu7KUTRSdBe6NyP9KgJhTv8+3e7FuahzTCF0VYsDdhjD7bWSfByc3LaiR5AYHIlw1iU46VLu6wUEmBwfIq5bLMhqvlAl8zGZNDRDf5pfdDZQpwPYM6qBUgS3ZOaI9TLZaoaSk4mw1cSlTahmlxU7+U81GGaPbsxCzc+/SWwSO7V4gr3/45E1q7gj+C+jmFe9HS5NEM7CDgo6YAAAAh0GeHEUVLCv/CYIG7CC53Fi4UyMbI4OmNfDnTlv2zn6El0oAbfA6Mb2M+qzdQAWUVTq9myWHkd71qwOXecKWmYAxnXbuhmyFHSW9/NJvO8gZ2lz2lGk3uGOy06jHUUHe5P4wI9fdt4O+Wl3ld3knOvjGruJ7rUTdSz0+hp7xwtFJ9Y7JIspBGwAAAJoBnjt0Qn8LLooOx2GXuN5ZWSVfWp7/x0bZf5uhss8D3O3NV8H8ALeIfNyTFjS6QgAT3OQve+SU6YySi9vPepeNCduv3psbi2cTHPwmhv9VafDBhsJU+UrEc/iIIJ7tebvALKp8QSwHJom7kOTHDESXSXkqfsZsnZQgK2mLFIaRfeatKbER7OdijVUvzMHI8R14D8QC1A7FvAEfAAAApgGePWpCfws/Mg7JzZfGTnsMK5ks7A7zZI+kC2DilgA/dLt8ZL034MWheeI2lrdwdPGdC/ILR8u8s35pQfVcbYh/pdkvDQgZPBBFwAPIsVVOzdG86RuLffX+sJye7QR7/b/8LLBB3fObTOUZN7CKvOGDviaqyYvsILMSGfV3jnWxUiOlHt+DwU8DLYOOZHhZksqfusEdP6BFV+jEUtMlWC32dGUwKCAAAAD5QZoiSahBbJlMCF///oywAADGa0+Bpv6haNnRwkHEe4N8KEKrCkS43BC5kAKC2x/Cat4X0WKfmMR3oTyEbbaeXmgo+rwwgRQqQqGEUyQT0edlm3NSapLSCWCePb1KZGXtPDS/I6w3eCUlCXb6h/+lhKHoDo9EUQPChrdxjxbl246TdzrkUaYA+BVxeIeuNKRS4nYK6Mj05dLmGWKWDUPSTncl3Q7JplAsn85eP9MHlcakGnPkuj+ucdfnkkbgn+cEeKe7jM32F2wBVIBAFEh60jK99WOvvAlyTx0PdFOtZMZMUw1bDCmIlK9ZCNmZsWUArTLdFZCr31lwAAAAjkGeQEUVLCv/CYIG7CC53Fi4UyMbI4OlKlM5OrpXKygQAteVcx1iD4w5sXAkuKFcfepWvKoues/SyldKzX17TduqCMiOjUZl8uHFHS2jLJptrIUNcUGTtvst9fLAxiHBkbKTdjBbfL+WQbuhQlO7bgTb4H1yDUv9IAN3gaLOyRlJq1lpuqF5FICwEa1AnYEAAACPAZ5/dEJ/Cy6KDsdhl7jeUh0vJA/O9oU5/KA8Ek0hRLSALg2McMEHJ35QiAC5+hljzwZ1E5mF7P4sMtZClj30BrykAxScAFFCeixZt/2VLBFWukP4V8sw9eZ8eaASwSg5rIJT9g/5WnExiFJeHHbqwX39cFuWRdoFXNfutg8eY7KNKVWPIn9Dk1ai8VwAN6AAAACBAZ5hakJ/Cz8yDsnNl8ZOewwq5b+LJytKCnI2X+8/OTx307BfjbqoeefwgANt+BXyD3t6YQ722K+FHR9OMrZIUgbWq96w70wwqOxMMrcWbYQ4uqOz3G5S4FlZLZIohmtJwTXmMSG8WXnk6R2Fd8Mv4bPly47FVK2YS449H/09vt6TAAABJUGaZkmoQWyZTAhf//6MsAAAxVq/1nlR7IARu5AjvDTiAVgy529BXl9kAS3KuTgs+9N9KYbu4iXqjD5XcBjWdOLNp/cFES5HtWzbENvFkOmLE2UShj2oKIOxzO7ncRhkABTqgCSJXO90Piv0/Kwk3ebRImCBRpT/IuAVgttF30o9r0m3yCIjPPFiF39A3OMDWwzcCvb3Uxt51O42kF2409MlLG/M5I73oGGlJkWQaYSlMGA04H7d0y2v2VcWtuBR/2KbTjQzW4nZAkYATs48PrSTMD6J6c6U1tokMCjMHnLpMCS8d/COAlziexKaE6STMsB4djPmurw3x1pSiDiay0K/ZMsAj8tVQfLqktnLe2ztfdUW40JHiSgoiXm0Af7u+XG6uwtoAAAAe0GehEUVLCv/CYIG7CC53Fi4UyMbI4OlKlOCD0jUQFUkiL3okrak/hIkB2Mui90neKVsRS4EwCRASKJczJX45AHvk3pz4YVCaGh9z5RKS34qkvp5vRrScDTsyXZaNAG5LkoIWK7RbiBjL8P9nUZHx1rOV/vGq9ivtuABBwAAAIQBnqN0Qn8LLooOx2GXuN5SHS3Bn3fBFYxSgKXQmEO/Cr240EF/DzkpAe+E0Y9PV8xaJ4NdwZXRpUSsC2CHdClCthSC12KGMEKSs1ut69OS7FDPtinTS1WYS+YLDa+rjSWGJyafh42ovzDD9x3GKwq8LTKu7tkwHsoSmTRr75XF5cZsGNEAAACPAZ6lakJ/Cz8yDsnNl8ZOewwbmUFuDiUqZHWpk/ug3X7eGHHiHTSbsX7bDZwAsE3fRpr2EgMJ37hDeXbZNw5+LGe1fw4I012QbAVRpFY/IelCoSXHNsbxovVkdIiBRh0g2txjqMy/79v8n4m2riqmbQP3ZymITGAud6DyFhkbRgiprWuNrBT7MwNlUKZgPSEAAAESQZqqSahBbJlMCFf//jhAAALr/bUAMqNJhBJq6Sg7pq2ac57iZvga+OQmtJfH2zvTvb7LgZ9WY/5UiQJwFVi6xy9o610ReCYrlCDr/C9rDuwEIadncJH2sS5Oh0TppDM2GeNS9HXAz5gORfXiUIDBQT4RBDkoiYQagAS3cqVC3c/BFTVrdT6IkdJfNBAAZ+IU1W2DdIH+RTTe8HRHx/tWa6iAjkLtAab6dR5qQhsxsrRlR98LebKBwvkggu3UxxspE4whsZv3bfN/UWUVyL4qjoXFfI7Vy19NJOBzF8NbUpCfy1bsLW9Y6pbqeS1tewRO8uw9tRg7RyTy/77qFj6AvpRanWBxF8JsPMp/pWKhJikmYQAAAMRBnshFFSwr/wmCBuwgudxYuFMjGyODpSpO9KgP/gE1N0NsEzl8jU6AoQ8AG8FnkuKZH5laaWrfgUZkS5oyn10jBy9WBocExdspDUQspduQMWEZx29iHUO5y19j4tLSnyJbKb//VBsH2jEeYk/FyGP6hklId2pI4+n2mN0srdIGcRhBAc0Ufu6O1m++VAmhkGKfE2DNC/OjT9yME3MAwcWhee//iqgrUzFtk52Ms4PG4GXxS+cJYct0DwTRuelIb1qiAAYUAAAAdwGe53RCfwsuig7HYZe43lIdD6qVXEaVZnCcx2rLrZs2IwAmryquS6EKnM7Eu1Ae3qRASmUULx3XCamupt3nhYKf/7+jVIxM/WWurIPIBhByYdtxKNTIpAfy6x7at4M2gIyp+Z9kSHwxD/opZZQuHNtClFdOTCigAAAAmQGe6WpCfws/Mg7JzZfGTnsMHCNJI02Sz/p23374IwxwZ+kG+irf81gjg3tXWcjccIP0H21ADjcYioRK7tN7XfEHisNgn8lBx3uUVUWK/UIzdymsil4zNGNl5GlhGzQTzGCC6txR11elrgdYDl/rR9NJyzIjZhPEkwmDqc5qJZNJ4FlHLicQVeBD1cYrLphlrtRkiE6Fa8DtJQAAANxBmu5JqEFsmUwIX//+jLAAAMFwnT4h+rSGv96JB5IyfIbBAWHwh2wtz8QN6vKW+pYBNZETbCQueWEA2feyR0grKOvCe3ivokW+EqrAW2ubojyzRfArj7D0QRRBYuRKUCQ6HCg9my+7YZzaNcW9L0aH5k7ZMtvpdcM5HRYbQdZ4GWLPS5E2KSmzKjWdeVU1u+KRQEBo4gJ26OQbSjq7Chm6Mz7Uy/NrLvktdvvrv12T3cHgx5p56zaSgWDgfmS36bUZtkL0is6FsjtaZOletTmmNbLV3ISH6sngtkVeAAAAnUGfDEUVLCv/CYIG7CC53Fi4UyMbI4OlKg99QXmLJo/prDFAlJ1jh4mQ7J9iAAtrFuwQTjQhHlvOT9BClbSJhru/9Cn9d2sLNb1xa+ArSLKhsDOCfXZsuq4Nc6F1CALGg/sJYZkfusDzqgkjsbsCsT8ymyvCIuyegP7Qptgk/qJcJgtBdgZxG1Eo/BtWBhpBOB8LWgiE2ge7pYuKAbMAAACbAZ8rdEJ/Cy6KDsdhl7jeUhvPdU12l7RmgCQLEZscHLPDAC2NIfe9i5ZIO7ffd9ZOJ3fu/wTr2QhG+6b8OvknehR+hrQnDBZzIGrhq/aEHeBXVe+ezbTCERIG2CTpjGTF6uwVCgQ6eQy8H4hrDYVKy5wlruv3iXHuFxIG6vmyGBH91NSDrnpO7Yknqzac01YUg9kGHD02KB/3N6EAAABnAZ8takJ/Cz8yDsnNl8ZOewuSfE3SVSHlKF7xOsuBNQjU71sgdxqeBXbXtf4fN+gF3HuqIAONkx0l1/ctmKRsDWTSZhFUYdqwIibKsi9j0ygC9JegR9gYBL4erCe0y4kc0nVrwViygQAAAI5BmzJJqEFsmUwIX//+jLAAAEp6b0h6rs1fx/hRbsCf6y7bvZEEG2aNj9olmmmmGYx7o+cD9WMw+uemsU2OVci3p1ku9wPSFwYrJBNjQZYb8VRaR36N9TCeMG5rrOOLQwzI074UpMA3qu5ny/0qfNji+sNykuFm38yoogFsl5+VyKwZVuEUDTDCjT8hPtBBAAAAhkGfUEUVLCv/CYIG7CC53Fi4UyMbI4OlKg99TbwjTrfmhZJAUxaWFAQZTWqSgAbQW+Sb26iPZVKUxRe0FQqvo9Sl9Lj7fvBHRcwAIGIUmCByEiBts4lbhJbKNsv3jJ51zXE6mv4GRkUK0VRNrgfxTlI40h9NWefbf+xn5UPDLgFbPTxeboRcAAAAagGfb3RCfwsuig7HYZe43lIbz3VmuTsbp3aTA7gFbi/TpjVEEvwZJWP2OlmQr4koAcWdPDf3GQfUmfo7fOzqoSbquIYJqb0TFIUuS7dMFgPJ734sb+wNlKROsZrcWDRrpYUvHwE0gkbNHHAAAAB3AZ9xakJ/Cz8yDsnNl8ZOewuSgmkaF05zj1IXii+EMpB/LX+h4ATVw4X7yizDqzQCDn+348DsX+62m6585KZvBpy7tF9HBJ77zrEF4rn2s6hjDC+qZJdmnJNJzQeKa21fKnJ/1PkAD3yacMW46wEszWMg1FYAdMEAAAECQZt2SahBbJlMCF///oywAABS98fBJ2gABaKr0B79bCULOiWSJ+Ds4JS4DtLTn7+36Sf7OCY23z1H+gJ5lQQhC53Qt3sIgZTZJ7R0kMqR85WWgiAD3H9x+c50jrFa0CocTCL22fN2NUACKP8c4TgQ/bhWfruJxJYelSnMegCx4NtgPa5sU3IgPBorht0+vF9KZBFSqJ4N5ch5ef9rouSXp2saiKLU47hWJUOFzDH8SpNAhC9/k7mStOGF95sitVas1WJZf52wR9D4eD+znuWynTswayvrnwd9WA+xf8A/SH58xvuTdTNp/+yFxL49KDkJq2Za+mYFvyb5WpjLYYHCP4XAAAAA2kGflEUVLCv/CYIG7CC53Fi4UyMbI4OlKhLmexTIAFHUqbQ27PdErdET4+ot+vR5MMbCwmvL/z9/SpYuW+/tbFJAXONYzlLryHL0U6kAgpJyjV3qgZeyOxivy5I23i6JuOYGEkBQaY1iVvHCF7cErvSPcOzoLViFMNjQE9hWj5b3TMM10xfZJyPQkaBglZ2CZzTqOi9ptmoJj7umuRXkXPHLoDGSYaM9TDJIw33UpKqrzHgKScLD/rV12dzujovQHW0OGgWoHhY/AW5WycMamCYquZF3w3G+AFtAAAAAnAGfs3RCfwsuig7HYZe43lIdRunApR93cUAA1I7bnM4R2UYVfRv/xvon322Bsn8dvTKEzgYLwdRk4mTDK9OuIAFExrlO0KAvh6E/Da1lovaT7woZWsOrBqUsGRnon47gBA8Shy5m5uBndjvOXrN55iemswbLQ+TsKboltcsY179hEw6vMoFwq7LSK7TdCRCtkvE5hBgI26mURq67gQAAAMMBn7VqQn8LPzIOyc2Xxk57DDY2sEC+QuBewGYAq2d2Uvy2AKn6RJGp9hIYkMLwphKuW20BuRsIdu7lWd+x4ITZqUn1jqD4Fy+Tl/alw7ajL2YSiTQs/7+0V+nTVcVO18VBOLcKRY8zI4i97nvXsuf6V1/aO8puDqReluKr905ZOuUoMfsDvxfx7BZ3iyxYafwlXL+B7BzVjik7QAgdWn1S16RpkHRknmb2CMjHn8PZZhHlmt6FU5S+Bo6hZrvEFcyMYl4AAAEfQZu6SahBbJlMCF///oywAABS/cz1PHDuaghEqWcIVN+ZV5VsG1Yivc1cV7H+sln0l383gotwvsaKfJW2v7McgveE/uSj0kgAyrcBTJ/JFlhac+W/IGVE67aKef2ejPq7g41/QMLq4G3DxH2xmvdZofu0g7gZRtDQ6T4WskFnw0joxPNPxTV44S98rRC5KRVua/Ff0FyC0+1FSPEeZz7tLMuwxiaJ4XpftT0fo9rUXK6X5CQWwws1TxoLm9Q5X9mfBODhVm2vcnTOkM5xDk/faQqRXBvtkyPrVPq2EcniwF/bHzLBpFTtozugwYJV4uKTLyWhI7qcgVNoyXWTjQ/Sat34vgZO4D6XzvSc/nhJO2SbEoR2YY6QIZB0mUpfqXkAAADdQZ/YRRUsK/8JggbsILncWLhTIxsjg6UqVtyP3o7/hTAFN6ciQRsjC69xEzyGPgO6d5gnnafXnxoAZYbGT6cWwThEQcD164brnsvXC+a0HNJVAxpCqlOLhtekfoq/163gzBnNOszjgR5KvSd6chySo9xSOKVI9Hqpvnt4QSKuBAD6/rcdA+OV88pHijn2zUyfDFXWnC7VnfpCnLPiCv1+GGKBxaXeoRbfFVMGmKuSdYuMBZCaiLKq3lBA499eaqpwypUU2tD7BEmeYjaotItrnZfBBMJreNAz7CIgb8EAAACGAZ/3dEJ/Cy6KDsdhl7jeUh1QLANVNRAEED9w8WBi38iQ2Ztc9OcrRWQro2kNce4fWeveKp9txNZM/jNdi55tW1F+wZeayN86dfVvQeZG1n43UeqVvUQB/sdsI63pcRP2Z3x7Sx+RPzb9bsaCH4m4tsp81B9gZL9a5dWPdizqEnntpZT9MWUAAACfAZ/5akJ/Cz8yDsnNl8ZOeww45CFg/AHkQ9ITxvppbn1XaXY44uKEfjwAJbUCxcumjLPA2U8ZCMFYXho7fPBVh+aaejv2U9twSWzuGn2Fh+AsqZr10gnpTWqjVl5X4Q/e86aiqmzh7fTpmBr3yD82JznFzcIr6q/eQvRrM7jVNJ0GaM830D9ynKs57OYTEFerKLj90vsr0WwJ41JdIwllAAAA5kGb/kmoQWyZTAhf//6MsAAASHpvT4c+XEcsJaCOn7WwQUtIHXayxgBBB2jbCMwbIQJx+p37Sf0WdlrnVD8S6cndXCD2fbdtHOYmUMiycA6jXcvIR5d/dQT+a6R68Z6I6bqYpbhsHUqYkTpC+7Ic1Yt8pftLuPcgqiJTMwP0ThzYSupRJTZnRtQcVtvbktxfhn9g3J7L3qBFAvjqVgf3F0ehkP/1Vd9YRw4hetSEik0lWf46CTyHkKUufNtKoOj4Rc8XwVXDIbGgrvfADuBfRXXfFSs1allKT9vv++kCjzJHZk0p+BqmAAAAxkGeHEUVLCv/CYIG7CC53Fi4UyMbI4OlKleWVcHsIyHoS/yZElOpbj1gUKKsReKgBt3Be9sU3cRdO3TeonY10wi+uPS96CMtGzSBLuRey6KsqCDvsDfw6n+u8XUXs4thG+mvsTO7XSmR1GzP4nbl7KWMeLsoG/9mFgeAqJoijyBuCFvJRuGtqhXd47vNfO/JOEQy++wq3N3m1AfBgI+S9l8ARsN8/YJ4UwG3FdndNjX7lBJXiWzZdv4tOgJDY1VyjADsC/tCLwAAAGsBnjt0Qn8LLooOx2GXuN5SHVAqr4YSX9OphTIhRv4VyVQpRri78rKYy+/hHZ9Pst2K/zcPSfK8wBW/HwGwwPlRi9oLVt4+oNFEoyJqqEUKQ3OkPfpKXpLEba5f9FxflISB7XXXtBKa0HQLaQAAAG4Bnj1qQn8LPzIOyc2Xxk57DDjjtkp5QvhLyuObZZvdHQ6F4WZhgj/VvJn9n0WaIwQhFmTw7gRnJq+8d2P0Ch7ea9Y/9NXUwl++yQ6iGhXYLy0Lhx7nVmFDSPwVAl/hXhK8j1Sc7yeaF95MsoDjgAAAAO9BmiJJqEFsmUwIX//+jLAAABvv6toXsEt+nlhsAGoQtGQnBFb1zt/1BQdgtRFrBLJaJzNFPmhxlYYUuoyrh0fP1NXkmuLkvplnXkDb7rtPnregbMe8MLjvQNq8capD9QBIKQKkXBqRGOehcMCLT3hX9/Id54HMa0Sp9kaaMfFtVEQQMq/OLdTzhwm6VG8pLXBxfibRXZesfHWXX/9g/zlZZO4NzVQdknGUSL8Wqrq7IWW9ugRTT1fhDiCjtdhPQL507kuMMw+l8P+aATX4K2fBFf95LUEkmZ29m4qNu4KNE2XKLy25E5w+v+U8lHDBgAAAAM9BnkBFFSwr/wmCBuwgudxYuFMjGyODpSpXllXB7CCEYZsI//sAF1HapeXikWdMcLmxXGewjr1DCYD+XQ57bKjoMdezMLcP6e/IMNnmgu0Be59ndvdhhFhiX52JU5PzGN+8GVjbcV5eBcEpiDkzJCkJf3CZqO2BF64KCz4qywB/5RaFe4vlkw7YPgi2D0V1NUDzvO9cb8J8UNcHz8wSapCZlUdjgndSNdz+1sOkU2jjT9bvliYV/4LXCKx7E7yu3MyfrD1NvKQeLb2wjOokwU0AAABoAZ5/dEJ/Cy6KDsdhl7jeUh1QKq+GEXsQSxldu4hABdP0Omu7+4KRoA+hrCS4AWVGHasm39Qe/E4xBUKObEl06CF3NetStYJUtl3NAi+y/HxcRk4X4xPGhH1Iu5q6THLQpgzy/yz9hiwAAACKAZ5hakJ/Cz8yDsnNl8ZOeww447ZKeZaU7qXQLNwfsNjIAEZHTaFzfHsF8q+IeEwR0j3g//D5UrfIIVe4KU9dZXJACFSYJrdBQb2sCJmIQr3Na6qknmLSk0TJZyC2gNKaEmeqmRSOKJl+oVftKpy9MS4Ayp8FK75a0d2R1iPciVKuTJweuKZ9GooJAAAAtkGaZkmoQWyZTAhf//6MsAAASHpvT4hi5KBDabNCsJk3o+dd7AQf9z4YcsP8iiaf6Y75XArLfQGocDz4BaMXNdgM+KrZpedZa6/mBxD+0jrN4kS6WBsXdbLWzZffKLcKrAkgllDq8053o8FiJYV+ZCrcUX5j85M65oLqG7elSuiPoA1JnOdSSPSUV35S9ucIzMP2ZcW9O3W1D54MjjRRws0QPbdwRsbg+2n+UGi9ItrOM+vRUlNAAAAAgkGehEUVLCv/CYIG7CC53Fi4UyMbI4OlKleWVcHsIKPnPBUaAvJgcAXj4XMvhIdOqyhhdWfpxbXLs3HISStqDvWppkA8Hr/kWl6kOZ1XEoTVCZZfpowCGeNElqxN7zCzQraXoqLN+ViBSStrrQuIriheBqGBqT39/FM0sqzk/48aB80AAACQAZ6jdEJ/Cy6KDsdhl7jeUh1QKq+GEXL4Gh++BdWmgOT91yAFgnNqEAcOWmL2T+HmQwR6GZh5eCFwiyM8f8x+T+AP216wfOqSNjLVf3e+RqzXJ36H/YhusLL8yCeQ0Txnh1iA7d8A5mPLJrLPkV8/yDkW8xrQP6qGkV1n8ZzCGEfh9ixmg2Utq5bo3ncRTndBAAAAZgGepWpCfws/Mg7JzZfGTnsMOOO2SnlBhxh9u7o4aZZ/b0li7z2qA2oAE7UXVaDfVKtiJ+1s3qfBjhzJXUVHIg3c0lRqwAcGdMO/aC+qFSBzYFY4WtEF9SdRLLWcf4Sp1BFiGXBbQQAAAPtBmqpJqEFsmUwIX//+jLAAABs27nfMxiNvAC0qwL1BpJ3l3+CdR47G/hr/htYHsGr9xiSR381JeXxw3NP7adhM8p9Oqh3hzge30Qgzh40+Q5NyZF2cAuU3P3s08vGJ655U8/PG4OVVm1TyU625C37+kZCq2ZxNx4983aNWlw495jrIul/TonV5vB51Nzkm+nwRKi+iFtusWTkQm8DKfGreDYjNTxPygpg0q/pWhdY84cJBqfG1DCFnUJm+wG9UMBozEVnvUDE1sFt6HmXX7//JFo18Ag4JFzYjhvDM15veTAUxj/4QxDcC1R8YZocDegbSFpTdR3PTsH54wQAAAKFBnshFFSwr/wmCBuwgudxYuFMjGyODpSpXllXB7CDfl8l+/UHHc4yi9hXFiIAWS2seVSMFJYrr09aJ3dJKPWIFy4HDFGC+chhkVpJaaAzqopJdo3rb8oahSbO/+LB2Sd19duEUFC6+ye0QPpuqAhi+PAwQYI/AwQVIoL0PJIQqma1xlO9G1FkYB6yJr/KqK6Bd38c4PbeGlKwEwFflpwAScAAAAJsBnud0Qn8LLooOx2GXuN5SHVAqr4YRdo0PvmxLcm9fwbIEAEy75tRyjne8/g658co3+Ijj3j/BNaJ6Iyy3L6sMLjOXX+ueopXCrjUR8jmCy0TTktRr2cES1timEJoQiX6kpGo73AfqTzRB/PNxBONVhFuxDySPdvWjNALveyv+oWlQiXRQjQpkiO4LiZ5UJLMiNRjTh3/EHlYIuAAAAH4BnulqQn8LPzIOyc2Xxk57DDjjtkp5QvhL1EE/N7WFbuqb8pU/lnwAgk95ilDn06BdwRlRiaCINLN/+FdPB6b/eaxq/LYljZNSzY/guYtWRJp2Nw4nibA5eNbXGsYz73VpQPdL0q7HfIo2jsa3XqwONno5Ogg65DHxukycDekAAAEDQZruSahBbJlMCFf//jhAAABp9/6RovRnsFLCpCNRWAKII4SfBXS7VdEAt+v7Er4F//caQLxqGa5SLga+0xOIoeVM+dg7CczRltpousK8gXsAInSgIt69KnboVhdcpO2ZvnPgPRZ9PNuuwdoe4UuL2b2URFvaasWCDyD6KarwidUaqiuVUG20LoJsA6YD38Z+T21edeJUbVbKe1E1wEem5QTcFcIK6o0R+HcREhN8O/fuwOqY3vUmHxEDPtrQKy3VkM6dMZLlrT7LWwjolomuLYIddNkm5aQ0PNUJt0BBWcma0j7CbuA83kqadbgf/4z/EfTc57Dwv5vIM/kDo6RUaxzBwAAAAKtBnwxFFSwr/wmCBuwgudxYuFMjGyODpSpXllXB7CDOHo4+1RcPvVGJRUbcqlIcL7h2cAAWHyp7PVkyHEBS5fCOkijwZnuXM/NYh2JWEqErOM65UiFxONuxDdkTKjSMBEaPET/GbiweMs/dsDqs7nDcgpxqzaae/eakSlwU316mOS/47oGn8iLTJE4bYYJXiVag6tOKjtawT7ZlxU2aa8frxF51dtKi4pgAm4AAAACcAZ8rdEJ/Cy6KDsdhl7jeUh1QKq+GEXgazf9dm/0aKi3b1e/Cc4AR7yulydzUDo2dMUxUa6amySQhIcuZKtFTV7t9iQtaTacRJoyc3/STq0o/OHSASmwP+DkBQ+xcg3Kgm9HGNpivKcfQ1HfnZhA/Aptzh3eIW/dwzuMIn5cxuBpsO/5EGjHmU9D1EWKE3xTJT5YBPIV0+srPNAKLAAAAhgGfLWpCfws/Mg7JzZfGTnsMOOO2Snk6do2Bb5noi5rpUBzzxFRzE0UgBNJ0riGpqbL68tiwExO5Q1x2cTAK4UwTKlZvK2uiKN6qeby/BLxxuOFd89MLCbsT3FubXHRg1sqSRvJCII8WCSo+TVtp/ztgnnlPWEX69gcQ9WcUtyGC20OB8Au5AAAA9kGbMkmoQWyZTAhf//6MsAAAGq9bwFny62AF6Pbw8PQL584IkBEZjDUYUW8XYAiY9cJm+XZOrDc076cWHpJ7xX5yJoyKfYyI0Y5JC97IMeol2uKy2BgwtrXTqqy/Dt3ixZyQ6dwB4IkCII6mF66LmhicqX//4GGlstuvZMhnekgXxb4h00RSM6iJthNN2nKbYpV3e7BDFNStZ6r7ga+Fn45r/m948filexod8Nbxyqdwam2QZC7vK240FPvUxSayfRUc8imaQkj3Ck/Fs2QlOHnTiDzwtyRMUBngYGrQgdpUjOiAxNc7q4rnJGOsc/No3Z+n5gUo+QAAAMNBn1BFFSwr/wmCBuwgudxYuFMjGyODpSpXllXB7CBoaUinQ6opLpX0zACONCw8mwX0jc0xkSeMTGn134S6TXaOS1JfnnuzODWNH1RN7GC2rnqpcdfu1uMF1NuLZ5siz/CTnk0iC051hwY54MCIDtx+RBnZSXh9OOxFluB2dFq7AsiwAekfyEpiinGL8m6B7boT6YA2gX6M2cvBnvR83dh6LWeAxsjMeu47k3pnBhSRp+Onw31rG+21u8jqYtCl2gY9BvwAAACKAZ9vdEJ/Cy6KDsdhl7jeUh1QKq+GEWF7cWyObVFKoz/YX/XzpbmX5HRkk7a0cMk+R4Nq63arjheI8go/qfidorq7Q98b6BprGyMhqntngcBrfaNzBAqWu5L/JbtuczTx5b2/ILn6IECGVlkTwCqbccG1vM6LJzHhJAyErCcGE7I3nm7ecm9IoLaAAAAAigGfcWpCfws/Mg7JzZfGTnsMOOO2Snjuu3qgJLXWJujOwwNJteBEWAGkvwSigyRkW2w8kpn/RhAAakdt1ZoBuXiCdEfB8vTZtq9yBLRx8zmLG48YSl51R9jpLsghXnUS8JF3exws7blMHYBc8H8f/GJDYcLxi7l0+yuYfBaRozpmu+Lipxl7ZEUNSQAAAO9Bm3ZJqEFsmUwIX//+jLAAAAqXGdUH6h0/V60us5B5IA4EG7U4Fxy8m/PuxdKPOSqlsdYqyg3n3VdoGwuu0fusq6YIynfzyFdV7qBin7jxoGWY2eH39pX6ql2TBlezOA8oIXBKHYXMsIyIhkp0QSJO8WOjlvSLY+WLGasnusX2fBhcCM3BnlmZZGEsyKLPGgoUmFNYxBFUCTpLcXezRUQ/Xk1EIFmTakQj44l2Ct8EGh3xM7KeJ25emqym4mM40JbVXJ7hxULmHVnwk+1/62dOW1ZoxeixfsjoyjC7i9S5T2moPfp82QW3E9MNHGWSbgAAAKZBn5RFFSwr/wmCBuwgudxYuFMjGyODpSpXllXB7CBgeYuEGxPsAzKaFkAADT2GYd6aFCnGBVAicIMDqubLJ3+0BHNYJ5WQYduE3sQ6Xhyje1d6ee1p1O/EZOE0uC7wlBXubufpXlnIo1NR4XXFOhZ741zQW5BxC+HVI4xDE46SQW2sPwiWhKhdL3pCTHw2DKg+8dlmzzOfITPH4X025YSfHUS8QYYsAAAAhwGfs3RCfwsuig7HYZe43lIdUCqvhhBvJXrCTQABOJFv+bSajgNYZ3edhMI7cly+sOOkb5CTvGe14/HY509s01bIdZg15Pr5OcHD7bhaetzrdX3cqDtQ7VxBLL7qB8A90VZvZCuf+tbSsnH5LEQKjUCJGROe+Vo8iC5aeaizdREcL6lgnibCBwAAAIoBn7VqQn8LPzIOyc2Xxk57DDjjtkp47r/Vai8LCO3yw5LAllSxVYgCOzmr8P7SIjJNipA96dqcHzuC/lIE3Zq4EA/ttYGwKFEGqBOdDskP35YyoyvM+jTGlFdfRuzECeYmitolgsy5z1dMvDw98E2aTvldBB4KCaOp89XcUKhoBV0imAF+RXSEM+AAAADXQZu6SahBbJlMCFf//jhAAAAo2mEDrut30BhKgDlkRjT2b0BTuWfmmhtE1FgNd34aaZmBYt2P5hjNQUgSD2q8Kh54v85Q93BAxVcPv/WdI19PdhFT/5cjgaz+vUO9Ve6YtOoanbhS0aSofX2cBI8sWNFUVnYf4Mf1upKYDoBvl59LDCH5fmYWleEvrotoqrGv1tI5yUyVcx2AvvcBraURWxrey1RoizmK410+UUTEAEsB0j0j4+ftdonTeTcxDjEGgPSTFhIulIXGkbdcGObkBG64AZrq7iEAAAB1QZ/YRRUsK/8JggbsILncWLhTIxsjg6UqV5ZVwewgYHoSCy+HR1XNgW1TGZH8qORNDaSHBDhh3ceDb1z0AMxcAXMhCChyVkRoDRdrCiDFNiXnrsO2dRBuEug/lLSx9Y2isqCRAoW9l1NEk9Uyn26LUiMlEED/AAAAcQGf93RCfwsuig7HYZe43lIdUCqvhhBuBcbi1+VaA6edR+twAcoXnr9mQkIpu8twKAJwmPoybUNTplJcnGKsb6JFTVpOyY84YJzzY1WqbYD44NjOARQYDw/iNdB38iQUBdvjbWjCqYjImuoQoFi/sYKmAAAAVQGf+WpCfws/Mg7JzZfGTnsMOOO2SnjuZ9YI9q6spA28kUoNP5Mj3Lsj0cES2sZY6uxKF18ARHtZ0jGfE2b4UW/2MfsHMvNH5x8aXKzxEfKPYhE+CpkAAACkQZv+SahBbJlMCG///qeEAAADArXMu04/AGuMFEuo7C5Fyhjg1wIkeFYNFL/w/7ye8CRfNEytRp8zABtsf6Gd3itT7+/i+D1kwe3X6RdXSrf7NfaYnB83odGGpCpMWJq9ZqxSMTXpaOsrE4aU/072XnRKI4+g29M4Md/eVHWezPrOSJhXrBr8EwNBZZZ8id3mDGL9lWGYYGalN5N6LDb7pgWZdqAAAAByQZ4cRRUsK/8JggbsILncWLhTIxsjg6UqV5ZVwewgYHo8VJTNAQly7Zmt10pB1KAPLJPset8AASnHJPG7Ka1C87BhKipl2kJ8kjP5w5KXG0Fys7FUxwaS76yraaMwws7k1pS51R5IVg/MmArc+WsQAK2BAAAAZgGeO3RCfwsuig7HYZe43lIdUCqvhhBvVQokQZsUQqLRuLotacfoSgAWzxBvoabu4lyJ9wiZq59Sg/gCN1TtINCnAetrmJ1YJCwXel8Oq9kFkIlPvnEzZmallg8E1ddqgGIUOW0igwAAAGYBnj1qQn8LPzIOyc2Xxk57DDjjtkp47nXaMRa1CsQt9Pg6gRtbn7bn/z4ADXBTSQXblipKzH5kid1cM6C3Vg3Zy67RrJRXi6O98bszjN4wU7Ze4N7Thw0x/HwfB7iBCWUCGu0X4XcAAAC1QZoiSahBbJlMCG///qeEAAADAqPMu0c3tvTu0stghXFdKTI0h2s9N1p7RwrzKEuDW4pc2Mc3rJPFCe1DkgIb5LjPDFYjV829UNO3E3FirzmW2wi/uSPbIsTkEEGhwrY7SzEmf3pMU1bL6CZQZPzGeLnaVpCQGxw8iEcYe7Rvqg1nxYKUfc4n6kD4eZQKhPdHvnlE3G3XsxrZZ9gq+QhtZWf2yVBOLA+17Yh0jSPj1tu8130nYAAAAIRBnkBFFSwr/wmCBuwgudxYuFMjGyODpSpXllXB7CBgHeQj4WDjOe0zeaRFlOtC+Z6jrjWrDM0SWAoW5Nqg/KKHZ6gLoV+tN4WSSjSbk+9YpmVLmE73zzayraY2rNlZ6BUO8szgQHEVTr8RhxFLQhUlX49lUa6ZfksGzh25PGbGUrUAC7kAAAB0AZ5/dEJ/Cy6KDsdhl7jeUh1QKq+GEFLBuXVDynutqh8Mjm8UOyKAZvb5/5Lw+lFCUt6hQ2WUSsC2CHdClCsr0qOo3h6tdxEOLs5urAr8g3E66shnWpx666Dj3TV/J5WwzVmwad18GTGvnx49/TnoSlrQHHAAAABoAZ5hakJ/Cz8yDsnNl8ZOeww447ZKeOXv0/FynC36cagfeDhtyp4AEAlEGub6Pbw39dEh5XhDf8ywZ9sdgzT+LocXKMNIIIAmTgLF38nQLD8AlbdviL+wHuDBUdGlE+c0DT0ez80IC7kAAADyQZpmSahBbJlMCG///qeEAAADAP2cBDlAA7S02qAnu2e//qLkUkpC0lVB5jbMVH7TNIE5rOikLHWgLgDPWhYLZZG/kUdSer4SM+jntd7t65R/Iijs7qVtN9YT9nUfWLTlN6HcYR4HYVr27y4vN0bw6pGUfHDlH7Oj5mtPr7Ztq2P1dIYG0f+Lk5YWt7lyxSD5MJiwtojNThKkpE/shVAsdf3Vh7l+utHCLBzswefeJr22eCrhyGzBRjmrREV48JGEEbCUxeR/VBbAV85KzhHEIdCxiItxDWzLeiB98t1DlAvCme6Sz8z8gGh/r8vvbyFWt2oAAACVQZ6ERRUsK/8JggbsILncWLhTIxsjg6UqV5ZVwewgYB3kF3W7HAFReyNz3iRAM7VZDpaAJcEN3+uvmYOaYJz0XKpTHcUbe7ac8GloT+PFnT5eSmVT7etwQMtcwnNOUzYXMt3XVbja1D9ew8kqne929+/yDUAQ56DRHi4i1CzrIkFDNycmTO2S1lBnVvxHYTnSxUQAbMEAAABrAZ6jdEJ/Cy6KDsdhl7jeUh1QKq+GEFLBycLi2j1Iq6GS11JsTJM9kHAVa48fAA1Bf04dk8vw0Z/Qr2tNgSrYZoKlR1c+RneKESSuUM5NYgI/waCFQDCwzuaXTz+9tySdKAcq3xDCWpEwBX0AAACKAZ6lakJ/Cz8yDsnNl8ZOeww447ZKeOXv0jcaVNguUMseOr08Kpu7ABOFxIj9dsjnwiK9uezR1pVF3rV0kwxr8qz8Ahvv1ROUzAIOf0A+3gmUE5r2DLMYaPSpcblL/ooFv2tPLgPIJ9vOQBeMFKaE+wRcLAGg+lfWaFwwE+cRSJXP+PB9RzwLsC7hAAABW0GaqkmoQWyZTAhv//6nhAAAAwEW5B8F2/uAFun5Yp025ADwxn56NRhss3ybZqpmHKpUT2Qt5oY/77UkawACRE/tLPJmkalinGSaCkEt9qsD603LnmQR4+ZxXFkLtnxK28j7b/xV9bdydrlHwvkeajCqZ0MnKiE8ELoeqBPZEIupks0EWZDBE8bnDr50cu2mT7lTX5kw6eI0jGr73BBqcra14C7jY9Ldh4VRqiyW2xRsI1HqK07drAk4sGsbpofAFJhlcsLA5RgboxcX5F7lhJiMRIr0Gzx+3TnZEBRS2StpzaoiSkltMlS7M8oFZZcyhqapsXcsPCa86xSalRP8vlrg9gU2oaw0rmB/45I/hMpZviJxuHm3XFkYN3gm8sjsyunosWd1nD1e6Sqs1QsMJdE58AGILZDMuLl9ql6mybYB9R4sUu5wecLyj7S1fjGogMR9aOCpGV6hreTdAAAAlEGeyEUVLCv/CYIG7CC53Fi4UyMbI4OlKleWVcHsIGAereVg1iAG5gxhVpJ9BIJY4vuFEc3nxirM2r++jMsdnN1EOaM7S/ZquW/TQCsaRPFwRY5RFTjpE2LX3B7fCBjSWpgy8KzEWKPdEPxKt/dlWmq2gs7ESEmyNMLFzsly9BfxY4NN1Yi3xMIR/K1v2XtcTLUAEfAAAACQAZ7ndEJ/Cy6KDsdhl7jeUh1QKq+GEFLD5XwgA43EQ0kYDHlNceuhl9wr8cnISu0t5RXmo/g+E2bllGQHAYrYfLWmezPwhXcoM63vMfIfdx4MCODnt1ymCfZE1L4FxPXsD7pGSDSQDRIaHlCBgJRTAkEaKrJE7Vrl0aN3lT0u4jO5OX5u1SO7uuuiGu+TRBgQAAAApAGe6WpCfws/Mg7JzZfGTnsMOOO2SnjmGBQngiUdxAEe8pWkNOh+tdI2aG2gKTmUPNDMihHdcicwk7aw0+6djo6mtOBSYNxJI6cA3LZlq11VgZ7rpkP7c5PXLLknOrX40jzXPBDjxTmF0CyXtQYuDR63W95BFyLX08ArBNEyJcPDCMxkVFBHolw2rSlBgDUOKDpCgx2lbra6a6QJqO/LIPenXBZRAAABFEGa7kmoQWyZTAhv//6nhAAAAwEW+RtgorbXquOMzvu1gASYsw+qybtHiECHAkEZd1EoJkAvB9uIBuKLeDAD2tUT1i99JYDsI/2JwH6RmHdWv7uSx43G0haaakNuEPzF+DgWS+eLhPpXt8B6sagBdW/ZfdH/fmN6MK4m9ili7pJSvscsfTKGzXTi8HF0kaP+egMYjacUmVjZ+kyR3oQdl7g4hkdtGSEMr9ZhjpKWwdqfhn+7Brd5dKGK64E61xX7nXwH70+TwW/XbiFGRqHnZGYVU9129uKUx7luLvTzFBU+07L+TC1/QfRGs52vX8Ye0KnctkN2KMfW2KRlJ0UBcUzVESQ2b05LiSFfdZ6/ZU/vuWs6SAAAALpBnwxFFSwr/wmCBuwgudxYuFMjGyODpSpXllXB7CBgHsDbpRY1kk/CeCcteHO/GjR+6oAPdrA8/ARw+nAA9KUrOKTeLSSRH7OZx/Jr9I3gwRLKXSVGGDjfSh3t+/Qxqr5DAGEelhnA1tTOOdRTY5ZbjnI6K7R/Eb/UP4M4NJxyIDtqB5+T9cxWgLbM8M3tj4HdIq2aAbYOsJq0CnvIm1QkrY5KUScYvgaCY0/CTv3G5Vqyh0e8pYtggg4AAAB7AZ8rdEJ/Cy6KDsdhl7jeUh1QKq+GEFNDJjZXOL8XvrKvgGim46NDtmIWP8NdIxubIC7LKTL80+3M2yHcY27t7UmbhpYCD6tB/9NVAQkZZbPtkOoqdyU5K+a435fexxT5J/aUyeEXpVrvlTX9z/IHsOBgXgHqdnnIDY2ZAAAAmwGfLWpCfws/Mg7JzZfGTnsMOOO2Snjl79kzOUbNeZu06ngBtp86dfVw1Ol8A3XJCH3MsWkqBCDL0G46XXyxOP22eKNXT5h/KZ3FJtNSCDiCKZHAbzz5c2bjLqwCqCRuiujnUZpIqt5nuh4tSZix9RNuCKM7IB769+5emuMjxdh1WJN7Eq0ACqgncwgQbgMp1t4bQTY4rLAcWdARAAABNUGbMkmoQWyZTAhv//6nhAAAAwD+8J5MxBIah23Uqup1FTgCgCt+YW6CK4XEOnn/QfzXjTlHGLJw0UD90s2C2j8DYnNxvbGApx2s4CGSed2izuo8f5K0eZGu6ErxSDwkg6UeecEyyfEVCTS/cAnbQfIYb6NM6MVje0u5vWSclSb4m5+2vflN/6ZhwXo/5Pfl1pbogTChryIRdgZA5Vno70sjUJ8456OSUb5TPIVPEedJaXsnT3EtR0yA9pieU/12+CwcMrBEo93kdvOBKzUFPFSzg7flSRLIeFSxMDWHOZlubq6xMYcs4GkV5SFCFhiNBIxapKIdOoHqLcC2MTcsLQZATjODUr0l1SkQVvGFIckQV/mi/GNSYYdztApM26bYd8sEvHzL34Dwrre5Eq+MRVXoyLam4QAAALhBn1BFFSwr/wmCBuwgudxYuFMjGyODpSpXllXB7CBgHeQfT+GKcCoUaQ66VEGUoMsmlQI0Rrza81GCuG8Ew/FAKDMWzzjljxW3Z+nBRZz/ven8Q0rv19nlZsN0x2gS7knIQZjzB/xarE0B+iWAZKBsSJfWQ+qgfKJq3b1vAHJjT80qiGVno32fuoDliGzgEGbP+ftNX1S9pKWlucPNQjmAg7okXY52fDpfbqc3FUHnJMtprZkZzCbgAAAAjgGfb3RCfwsuig7HYZe43lIdUCqvhhBSwbgBcWCNsvmoixHbXLMAUx7Hj2Vj/AbaqZDLfCRs51cAR8cTO6oCgoaGxn7TaHdv3KEAXVbq1jL98WXtzK9pNYkTbABbCxb+cuuNnI5Vt93S4Kv1RQb0h/zAwC8jQBsCCsX3oEDgD8ggM5A2qy6xImjz8hiVDjgAAACJAZ9xakJ/Cz8yDsnNl8ZOeww447ZKeOXvtja9f6ZQA6R0nI33QqQgPm58FAIqAEoMnB7P5hmhSlufoqmnBnLJT/DLqRO6rdrHoKgZvUxBqJG1JVlR7932kCDXJ3sHQVAeB5iy3JTXWXdaSDPudnApUsVQtR3+O9xwxf73+67g5WkdnK3Aazlkh3UAAADtQZt1SahBbJlMCG///qeEAAADAPPwnmir5Ieh0I40K+ZmX/uAAqaSuVZnTGamcTdiZ+ibVVEHVkZjf4R7BDlqRsoVFpigImP8P/EDBTXY/8sNcwDI/HOVlR87E5Lt7+TjBCsnMKf3yb7CgWlR+BcpkkVYfuLTHoeFS/Nc48Ja8e5wXXyQPUQrGv2NIzy32DgOGS7/CbJg+nxPUzWBc0iiPeYv1qJf2EpL9wb4dIQA0bzSMNkWXDpsFKf455Onc/riuRgJLeuhWVVa06eb0o1s5gV0K0fFoKGabi3WsSwx+W3COKajIDeiIZLWAN8sAAAAm0Gfk0UVLCv/CYIG7CC53Fi4UyMbI4OlKleWVcHsIGAd40l97YlYZTk8J2PaKwxACan8boGXaNSmxZdm/xXi0dht2z3bF7GqddzwYqagpfWm+8jRy8ymSlU1TeTkCj5oPqI0x8kjLkN7DXos/Qiqmd8aKeCMXdhVfRYwA+qVN3HTriImoZ+1VRTRXA77yzWgMM8lqjaOIpNi9AM+AAAAVAGftGpCfws/Mg7JzZfGTnsMOOO2Snjl76SaCxFWcBnpGv8UjGAAtw2Vw5QpkI45o3yKpYdTG16g/6hVnD2cakIGJiORrQ9UFQk2WI1K7GCz0YgoIQAAAPZBm7lJqEFsmUwIb//+p4QAAAMAYekmIoAUCIarMQM/2UPbZTFQ82YkpvaCHGf1O/ItS23/rHJI1fBV7yx/VYzXvsUdXTVPhTuBG+2chKp9nZXKQ9TEQb/CPMf5MBf11cQXEbvNmkKFazK/n/3G07T7mrDeS5lRPimoYb2EKRpCHfe/fD7NjObsf5XU4I9aQN5UCORrudlU7s5W5vQQLVl6LWmSWYZwCJZX8PYNFMVv6ZgOlL0uIPiAeCQJy/BIYuQ0Hjt1EpyAS4MD1OlhBRjzxPdsKWTmm/PSy7fF/2c3tJStG2Z3RRD37IS9X4+8ZNrLT844bFgAAACFQZ/XRRUsK/8JggbsILncWLhTIxsjg6UqV5ZVwewgYB3jRDGT8LEkEe9UAH/j/tVqQ/9tABOnxZEpFh2bIDaHfPx7DZP/rNc5E2RZ4PUxYlhC4pnrVVce7fwK7v0kDShlwYd6oCsw698rYpwCHMx+sCxvAam560Gw82i6MpZMFb6A2AALiQAAAIoBn/Z0Qn8LLooOx2GXuN5SHVAqr4YQUsEIAnvYxTqePykAg23+pgAROiDBoxRjSfqFniM4gGDWzlD6fkMG/DmufKkVRBcFswafjNnqALS4e9PsDOwDstC0vHMaYYQoBXDcyEpiMJJf6Sl5Ks8EPrBCfMmPP9O5U1B43ZNx8UGM4j95DbYCQVMsJmEAAAB4AZ/4akJ/Cz8yDsnNl8ZOeww447ZKeOXvpJoKOXumdY4585YAPGrZgLJrXsI4OX4FWq7v0VIOwBJnrIfp2CSnE8PRk76SyiwbXGsHkRf8KuXIACPGVtixI9CqRs3zCAIoq9ECgR53mm0lv8rhBZWy/TkxpZeKrg5oAAAAzEGb/UmoQWyZTAhv//6nhAAAAwBiSPTPEPAQom6XZ01qEAItBWWNi+5NY1qT7IemwcrkKfrh+omQ7fbANKtrgyzdw6gkw+a9Boi5blJfp8+Xy/qyMtMNMtmzhxdYskBxEmRk1AY6yynBNs4MOYvDNuX7kwf2MtIwzYqfvLZ6PZm2UEuA0ZiRsDIbq47DQK/8fh76ha2a9pa1Omo+96t2hBVugobyi1bpZZK7iQqJPZmi/y8clVOViab422XO4XI7dCBJPXzyr7FKkSxShwAAAKFBnhtFFSwr/wmCBuwgudxYuFMjGyODpSpXllXB7CBgHeNEMZPwMmohkSlCIpa3iMjx7JPSAAJaHxqOVKNEn/yJJUQkziWNB/1Eh/lZCZwmWqkqRdWncB4gCM4TSuVWliZQQDMF3isHuBUNrCr/Gd/yFTZ2v6nOPRAAVRnraHvMyz4vwvKLZX9/BbS7cA8LWg5IAh+uPhExuTnbPfFuJmmCggAAAFkBnjp0Qn8LLooOx2GXuN5SHVAqr4YQUsEH+cd3su+wqnIwABZLxzDb4WD2FTpbPcQ01TF09fQlg0EHaNHgsx7z7tw9kdF7ZitqQugpjw6ZMUUpYPkCoTAKaQAAAGwBnjxqQn8LPzIOyc2Xxk57DDjjtkp45e+kmhlXb2OAKG4QAkyIgy7DKl7UutaIohBwwxYGndtEUxmzqTBRMS9mUjkKcI46nxvSR1r7mwuchqefvMVTf2pvN/FsxAUoPlZfbzA+7WIumuiSYYMAAAFIQZohSahBbJlMCG///qeEAAADAGJLFQFJMgC9DCVzO4S+vStd2lHgJuv6+EuSTh1CmHcb5lQeCDDjK7sZ6GN200FEDTqPWYEXyTyhhtXyBEywf2O5DBLDRDYE1zcEBnIGOuWOJYQ75hI/1AyYLd5m9eVo7NU1Bz3t17cYRLYC/HmVORzmljwycsR1eYlgYN95PcMhSWuS1aSKrWWptQ0w1OEFnGaQsX+JdU/fCvMdr84Ne3CKDqGMCbS6W5bxOtBP1DUgFInEsj0ci1DSZ/kOnKFWhR+Xu+L2Iavfxu9xbhMWGSZQj93GfOYio8TDsapToHKyStmfzskIYVjurj8LZ5FEU95HSzRmCj+WVlkg5tB/ZRHBwVRdw7welNlqlodZ08bZeUu7Y8CixP39uGv+jgOxQ6thNBBpP8RvSc+6/zTkaQFzSW+puAAAAIRBnl9FFSwr/wmCBuwgudxYuFMjGyODpSpXllXB7CBgHeNEMW26ueMQAg89vf4Nw5TyLaIrreNpgFCS3B4EWkQkP1HLtR16YEg9D/PZnaabWizUKEi9CPVPC3FixadudzYGtus+6PQk6VGknmkeGlFyKlG8pULZuYnWGfQItZ9DnB4NgU0AAABWAZ5+dEJ/Cy6KDsdhl7jeUh1QKq+GEFLBCAI+7hlwCbjLrIQkPqRY5Q76X9AYHvgZPb6U+5LobmZj/y9W3veCNK3M3goGsPnVK+XjpZFvP8/89wZOCTkAAACAAZ5gakJ/Cz8yDsnNl8ZOeww447ZKeOXvpJocftpVO0rxhYA4L9eI09S0gBNXGJlAPtnZJ+OFahdkXMTpxe4zHaIB2tTftTchTmiZP2OJN8ehSj97/2vS82oDnlhanbf6KXkKwhJ4DWaO18XPZnMU7uoqeRmCjsuVHheqFs0yD0gAAAEqQZplSahBbJlMCG///qeEAAADAGHpJPMgDeTkoR8f11w8PxEa6v8H42ehG7Yn7Da9g5YFSQ2E5aB48LE7M2Y76S8aoAt0tHb2U/CYUMHrsbb2VKBz4fv4nxDDjKJAq5SchYaLTUjyIU1RwN9vbSidNj78+ZmFmcK3jWTS/bh3UrwtrL4gYyXXd1FsTo/zo+z1dOpnBS/VGX2sx36NBEGHMiVbhSQX+czZmFN3pAJ+BUu+FZdoPPaPuEwpmZQFMUGd124z4K7Bc6zx/JknMu+mDOkWVWXdl3wZnGTWckD+ym7DnoEZY9VJqIaqawAMQ2x6VJ5b8ZhE8Uo8/vNTlBfTHT1xUqa2nBTEuWrOcjhxq92NWNyLD5FuRq88EXEfophIhFWTYRsmnHU64QAAAINBnoNFFSwr/wmCBuwgudxYuFMjGyODpSpXllXB7CBgHeNEMW27iTJpbg01BAcR4k4ykwEcGnCcmOr+LVwA0C6Uknvr0NEU/gP01G8HybCe2CdL990NQgVNaPeAsESsiSE8VckzVgv8US1N6hBweIXX932mt3jYam9blf/iJE7T3QAL2AAAAH0BnqJ0Qn8LLooOx2GXuN5SHVAqr4YQUsEIAjusW54XUG7TH5hOTt5hylg6ACdskD+BjP6R2erEc0gPKfjihQvx69N9a1L2f8oydITZtFrRvVdvyKjxAUk8+l5wrYh2tVc1UPi8VR6hhxfilYazFA3B90nlgrfd0jufnGBEwQAAAH8BnqRqQn8LPzIOyc2Xxk57DDjjtkp45e+kmgvgUI6khjA7c7jKQchQAH7nUBv9OWrVWUo38BgR6nWeTRimW23gWeqmivO5xTr7V10ycWTroHl3wgXkphTo60bcOKaDOaGKB1NYRfmMFoAXZU/0KXSJgWm2gFgDaGkPrTbHEEbBAAABHUGaqUmoQWyZTAhv//6nhAAAAwBh8OA5jCvfAAQ95EGIYvET3wUAIIQcq8QqyCGt9CM6yd8wk412t0rI6uVEqszfj/SDeywlYg5NCZC2NRy7bpAeLYvY7fqkTw+h5MTz99sv+mau73eF2WdR9xGF8PjBN9RRH5TpQMQ0qkcoJbCHSrNfpD6kXECBv8JQhtDc64TjKCcxBBv5ZNf5Tr2SXvNGDasBr3jEtP2yjIv4aLi0GNwdAzFlxcoyJQ7hAnlgPkbpp7L+AfcncoITVESFsezvSGvpD13lJW+otPaaALm1dKQWRsu8u4ifZSbfLO3qSYi9nKEeTGIZjcJ2pschr8Na7SiMnFsm5WeJ5ltXLNyO8xvh54dMsHrfUDm5cQAAAJlBnsdFFSwr/wmCBuwgudxYuFMjGyODpSpXllXB7CBgHeNEMW34eud+emETh/2ES56q3/s+M9UADUzyrCMsUvPjHAR+6nHqVBO66lTAblBeqVE3atbFOAQ6uN9t1RJAvcMvqppsb6ZnsfMEQSO3WFVSTDoaYRKHo+7UPHV1XE0HDaGuhgLBw095BEhw1Og26TeEN8FYHLgAGfEAAABkAZ7mdEJ/Cy6KDsdhl7jeUh1QKq+GEFLBCAJ72OEvgGjvMo7Cv8Tc1QAH7pdZDxi/XAG1uTlQURImUwgpDdp/12pVl+xggRqRMjHmoQMbMihNDT/91IwBqzco39HS1uIkicgQcAAAAHUBnuhqQn8LPzIOyc2Xxk57DDjjtkp45e+kmdc5Z2IJlRE11YKSO+AyB3KMNHaFb6vNAAlqz8gF638WRtKndnQQlE9FqmqhFTm/ugVfHZ5NHCbi8Iw6z+2MYZ73ODQdxOQyFWx0MYfN26wSTAMXsf291M8wDUgAAAE1QZrtSahBbJlMCG///qeEAAADAGHw38WSAQj3YpQWB6FsiD/ijMTdOd8jf/AXh/hcaFMOt3QXFK+vTjSF3DY8dqFO2b72hNnjt9A8YC5p7UGzS3cJ+cO00RClbwA7Wc8w6v8mkh8qNrBmyvrKtWKp0LX79XsmNUVzpKTbiqYfM88g+pmPBlaJHLJyPnLMbOdkRrtWDQo9Ourid2RISVEV1AMKbqoGzzq1mFPrB9i6lZuPJUtRzO6Nv7Agde/lE2b9Rw3ckRhiB1WJVLLz5DbdT5KgpV6BsUY9yksb63T+To0Xqp9FHiY2tSQ9jABFJeJljWn72OIsHC8uA5tkhwBYCT76GhnuKnHohcr+4UAgmTl8nC5myR1ChssZGRSbd9XaCwLARA4B7DF5N0YB1CTp+04TDHKhAAAAqkGfC0UVLCv/CYIG7CC53Fi4UyMbI4OlKleWVcHsIGAd40Qxk+4OmxKFVnc+0AI6KpkEto/6+WbuUpThvebT864JEjH5Ua/b/1rD+KbVGDIsGzSvPZxMs+RR0IGR+dItZJZxmlm3iZuvah33+Vkh1hdt//AE7dGi0DG2QYC+dVfglwnFvopFL+wyDZfdJ1OyEikGYY0Hrei7sVLYHWmNeMspJz9ROoqGAA+YAAAAjAGfKnRCfwsuig7HYZe43lIdUCqvhhBSwQgXhoYIqBYF4AGxAMo6TzfGdfnJR6Wu7oZmJ4QtMdSQlBLmikruKubfM/NQITGkonVjg9fAWgVd6qW8RCHOBa4VadZzCvsULNHaKjiAxKKhQs73iijxTKfhKn9BI90Q+38SMZQeZbBN92TsXnVOmJTXziGpAAAAmQGfLGpCfws/Mg7JzZfGTnsMOOO2Snjl76SgJh9dNcNJ2p7EiAEVdrqHjF+wXmhxnOhkKwV3l0CX8GInaxsPIzgu1lbt8hQeMAMUVb5ef8wA0lNN1yiqFnZuMItMQgn0afE38q0Tc+G+COhz69dJnWytNOT9G9QGu4Q+74UECohn/eHCRhOGYav0otkvQMyOajC8d2DWLzAOqQAAAM1BmzFJqEFsmUwIb//+p4QAAAMAYe8sqj7LwABxj0OHHK1moaaET03qYGKDb2ssS2gWGG43WM23kQi6noAJBvfU7kZfEa6tnkCuOyIdw7qCAH2HJgcxfjZvMcqzZk7Ol/W9Mxxu1y9I9AHbGkUAkyyZBHGCc/aYWF/otGS13PegurCnzGe+pQz3SIa+CRdz1RjNrycMdTb2M5l8ArGAO0nzfeo7pguuijNaoy39RAmio2JNrM4oZJTwo1WfSx7dGSZ0KU4KckfHr5qHfn3pAAAAjUGfT0UVLCv/CYIG7CC53Fi4UyMbI4OlKleWVcHsIGAd40Qu7WH3cg26A4AjSShwPg0e9K0d982TTNU7r9i5JQv00TR8KuDPEnTxxpgW7WUB0elS2ToLzuLiN0OcauXXBuiuLJ9OgD0KF9y5w0Fii8wjCRDY8lPL/ATQ/1oZYlF5DBcCmSVEvJBoKj1C2wAAAHwBn250Qn8LLooOx2GXuN5SHVAqr4YQUsEH6f23DgALD5VmW+6FSEB83PgndFFwk+1NUrq8shla66ooBJcLKHIibDPKs1Q7V9Vtxx9KRpX8t3Xj+ow23ph1wifSinjgWyuuwc4CRmsFrqH2ElXmO6Lg81alNO40THI1tmKmAAAAfwGfcGpCfws/Mg7JzZfGTnsMOOO2Snjl76SS8KN+mBCdcuy2nE4BACYgR9pGrQvCerelnYtKjEpcdozcc6tjZFrwOJd2fWz+PqfLxeEdG5O/gXAXqveONA0eygZyKticFErGdtbyoGDACPgvQ5nu1tWx81naKHJa4ZKgvtLfRTQAAADtQZt1SahBbJlMCG///qeEAAADAGHusSAr8f4ACmLQjcKJKTuRoy1W4VmRXewtHZkeyT1XfylaKfxTGlzacnZk6b80mrgvaFWrCyG7hK3QA0YPWA8LyJNBni7hF5CYL8/ybgk8dCbgQY06sdiXw9PCqOgs3ElVfZDP3KPF4ovVAwPd7uu+W5hoDJs/kjdsyQRyX9XrNI5O1He98uikiPK5faxsOBjNFs1tRzUdPyE+l+WifBfVLDimKOhQWQyBPMUuNSQgU/XezqBsm7bhKP4yhHvETFpCDPfjWr6WL0Sy920G/xJrwOZ8/CoNkcNnAAAAqkGfk0UVLCv/CYIG7CC53Fi4UyMbI4OlKleWVcHsIGAd40QxTsCr8xOFGX9UAH87qSXe07Bj1kvjk9NBZR20o5NSJykVavRrTOJPmsyawU0ldXxz35hfeMktXqepWn+JJ/6rR22IT9Vzj8F8lFYTrlBnFFaq/GOj6uPxtoNqrvj+Z2RK2LPELBhVWxPV790svw0sKkkXqf/KmfBaPQT6+CTheq8pnUqSACvgAAAAZAGfsnRCfwsuig7HYZe43lIdUCqvhhBSwQgCfQkZmmGUdVMxKevtRRzdch/GmQ4EQ85MRgCJCq1571rafLhVABztBFEcF2rZkZBD8mgXETl/73tUB+qIIoqjp8u7opO6hI9LA2YAAACWAZ+0akJ/Cz8yDsnNl8ZOeww447ZKeOXvpJnK5olNRZOOHz5uOTRi+xgoc4pYft7w/g9R7aAh1hao8JPQxuMLnKVLTrG8wcLLtdC5E8LlVGeMl54aZ/95rLqVcDIet6cyE0+W4SmmkXWODXlXAYNnDmUL4HyhMJbp1PIVGVLxmoKFKRAAIh1B6uHyq0ouv0Q7xxH/KgLLAAAA3UGbuUmoQWyZTAhv//6nhAAAAwBh68qREXo3pHrdJ4TVZ8ADgYu7A9N4TSzDNemy+plRgJgHDggYar6gMfOoCDdGwb/e7Rr1zopOMXdgrl8cBJWgFpClv6ZZedWUblGcQq4GQV3dIFmTRBc+tZONlyglS+S709/pBpMYe+1p6+upCH5DGLcOHMPkXyHWTE1OANXf+9VRV6x4OS9+VwUT7y51o9dFhkNpwa40NudKQlzAbqBN1I4fryKPlge0mFrzme/zqHWt/VVLsJ2Yvt9hUnotZzBCA7N9UdQmEgXgAAAAoEGf10UVLCv/CYIG7CC53Fi4UyMbI4OlKleWVcHsIGAd40QviLS1kFcYOCcJIkhlycu7wtOYTWXYPruFQzuVfQUBBy69ra55t8oGvn4S38pS2oETqSuBPVauA8vW1Y6w4PkzNUcvcRJgzqj9kTs3peHGM4yQQ4oxXSOJaSG3BBxs5bVWMVSQ+oHFmgvl9krIcbrK8jhe6wCly48IAjUAFBEAAACAAZ/2dEJ/Cy6KDsdhl7jeUh1QKq+GEFLBCAF8jgzu/9Q/hdvACIf/Rbzy54moKuQA1AgbL7NGUX6GNgcXRkuurQsCAdIsVUj09pY7Jj2NElhf53CHa/sy2YhnZRFZU1qtkMDlDslAvutw5g2EoVUbJKJMwxTUUJz/1WLVZvnQTsEAAAB/AZ/4akJ/Cz8yDsnNl8ZOeww447ZKeOXvpJobm4kkfGK6yaFsyoQAB+4BLO5meqvCG7qI5Aim/LQvWQRlyWVHxZg+dP0Ecln+36puCVqJKfurdXghoF/tAB5WWMs+Ad1uWAARAq89uz2JHURz5L8TefM9oiTqCFbOS0Uate/OmAAACMNliIIABD/+94G/MstkP6rJcfnnfSyszzzkPHJdia640AAAAwAAAwABR4e1643dg1tJ0AAAGsADpB/BeRgx0CPj5HCOgcBEjI6uAC8UoidphTIHHjbGd+LpGLOBGEf2CwzE+WgK1OxoZJURTte2sEjqg1xvpiE4Yw6bDWrpb/XhATPvo3bUGyMnIsxOSF3Ep8yrRp0xA5ZdxIn3BaM6B7uQCQCjqJnh/Wu9nsvm+ING7IRHpPSlugndCZqrRNUhPYeySCqAiks9iDmhn1B/rmoISAV5HnCyFx1hcP5tiQkOzJg+9NSOrbNm7ANQVQ5AaDYELQTJXTdLn/7vN7kkIFn8XlzPw8b/Q10oqVpOYEuUg4fp+FZP9+erb11YiFUMPjZZdKEsP23scM914OLNaRqtrNPNBniGNHe1LksXbd4p7WTdc6rpfeW3zImgAJz0mjxjf9g62vNQwoGKePxS+ewCvkDK1PZ5F4mrqsuDop64R8zwyUQwYlpUU1DtWZNWFTfAC0gSfECGw3jHBhjsnldEWZG7ZjH756mx28qwDJgIRDa8U7agxA9/70jdx58lKshtP5TKi4jinPpb0BjaR1lS/Ev0NgId6r/UY+E0jhj52q/99380kNFcqyiRa3Z+32mzYnxzqZEnpey08cESVtiefJ9HcuXNQi/mT6NEA2GJCnWgmm4KElwLiiZOzvbzt8PmBt1oieklpMMfmUT/hiGa1F/9bPuvy8q/2e24E+ATQDovYp7l+cUkE3uxgSLRqQRlm+TU37ZFSQatgTgIHKw3RcJjgTYb86ZWRs9TO4ST9KB/hFKyZzMeQVGUxialHCfuWSfigGI4/0rH+m/yLwN6gT6lk8VQN8SpfR0TN/5dBxDW2pXZ1V2yg3TwVqyfYzG/zmYb0fY269LGLXNZUF+HjmPlaZGD44ImDgz53nnZBNxa4s7Ive9DzlpH+1jQt/Egtp2fu/L8mUnRdxrbM1a/rm1TnROgA8LMqu0iDW/Rd/09hqT1m6O67TIvz+N9Ff8UGxkoP0kDJ2wYabuashpUXAVlxfuTmfPFr0VfvZwn0hpdkQTjbci5ThQJ5BRzjgVbX/2djxjFLJ+b6y2vMxPFVOaI42bPNWY1N+XbJ3Qi25dzl2EALuTHaYjIzlS5ZBNydfpZ/zL3Evfulb7Q9CSQma8D//+QtMOmLInE7UrGf/2zwM+SVNYYnTZkLdrizHlD9QquSOTH4JGRYdbjZrM50PKoBEz3S8+/xL12BTwmdsJ2mNLYbA8BdPB6gM8LE8YQ/S4HOI/VusaK81iBXTx5biZzsXJT+oDInOH8N2Z06087DG3xSle2XMqdchdsp0immQKycbTvFRlNpJtTFLLPfEPXyFPpLxJwIxloehG2RTSEFppAGLKpadA+iomdD2+zGJFV4rhIF+NJ+L3NMoQBNLNMOtADFkfGIFcAhEaRCfLAGLujGwU9VdYsO0PXpWW73cL0Tprn8hK2VKj6aU9WsWbo5l8Dy7fhLA0+Re/BOAKeJNzoUsrIj6gqgh2MCBbeGetuKk527ptLDxFGeuXSfy/AVb0mSV673RPAsKPOdwJEdEhji0g5x5fX3XXDovbbOgNrn9okL4rLwODpQJ7+nkG3FfUlS13ewglVW1ZukA0oy3ylZUH/2HAdbRzSD4ldcjDpbPd3CkcjrtOJERc2zHRAHC5D8PYyZMwkId/b4iWvd6Go8J2xs62jbjxINUkD1FgM6w0QbLrqDhVe2TWOWzwctxG+3wX8DxfFHDtfHn29t3UgE3EFKOUCjzAhZulG9R/8by9fBN4EEBgrFvUMBxUNeITNkOoqjIwh7y6f+OU6ou2wh6xvI7ebLZeuVWxVb25dgIcDadt5g5m+RHFsziEdp0eFQmqoDY1cNer4NRaYiK8YxtJ5SsyQRF6f0P822WSzQkEii5RsqXAT+mRO/WXUMq67TA3oMyEZlj/JTHqCBqchOAnQBWB7pliG9cG9AhJLDZ5KJ9LBbqt99yUOih1iIxasHS01ZddMzbhQ+8DaulA/+UIbVxBwgH4hUaGQ4QE6znHi0uWnYXPYjbWT493qzR8FCowSlnUGXCe6NEblqPItbACnvrJ7EygAYGzrzQxtaJ2fE1cZhBOMhmyMsZbwA6sNi/lkbqDeRj8SYL7Zp62Xi1wC8okFlW3uMVSz5zfBycC3VGdezcB/HxLG9YlV/9JTSr38Ka9KW/x6lfoEBK0IVrradVzR9HNswVuDp18AZH4123NYv2TkZTJy5oTgu3HPNoGVPn/eBtNwNSrg0rrbY6u48ir8ODUi+HVXhFIFmNwAdwf5rEIRGrsMfVYKaWkk30EJmknDm5NBfb37+wsdFo6bebwOZ+/6DDmaK5BYnZ2mwEGIhyFA50w+ai5mNW+tS4lJ1EYraDhQBobtmlMEbdOetmkJ3IE6XjhUxaOWkwfnMrBz14t8fHCN02rwIQK5c6ihw+3pC8A4LW8eSPuxiMi3Dc5IqBcsD7v3+FWcAWjm6NTg4RiW62ZpLTAIzob7zQCEs7fLduR/8lYpFBqrpYA3mQCjSgJIMrTsnmF6iQyKgW8q02u694hunMnFw3/fLrT0k5Ve09jAeEJMUvV4yA3fTB7jusYB3gMRggpYI4ZpRBiU+JjgkspSFTueg9/j6pTlO965x2h9+Wez8J0h2ZdBIIb0T/tR+6sDjd3d8aZCJnAPhUons3+W6gMxLpAH28bSTzox3xuHtgBguKDqFaoWaNDqUnUpHcUkl+OD1QVT0vq52fWgfOOFWoR/L46p/MPoDhP/X2RHVHtf/izGuvloCem7WfttJ/7VXw4H8dvx2ZZ1tRg+Kw01yGLoClQ6GGsS5gPeH6/mWgbc5jURq5G5+lzBQ0b+gFl7P+nw6s9iA6RJQyFShOjJssZcAt4ndiXdan+Bx26UfpOo1YOzWs6fRvY1isV3PFpSjkzet/afNBXIWwEWaodkQF2TAxa0D3UAACXgBSQA04BKwQAAAWhBmiRsQ3/+p4QAAAMAYn2U/BcG/gL19ABFoH2dci2mOKVTi1jwkqXobNJVX3jrb2tl+4CZWZsAjrHN4B0lI4zklu5tdXGWu9wrw6/Q9DpTS92cjYYPmI6GueKVemzCZEpNa7eEMAPxhqIvZzU1P+4U2EdV5R3Iig+dCsXK7IJDs4bYr4BBaZf5Sx0InrRw2xVor5KRVn6Ic0wCU4VQZ6Exfp6FDnRt2fslWSHWOkG14AIuou+x9V9FaSE+4saP3PAft+1kjBmDZe+B/XiIGvDYyzUplpPuR86eggcaY2OPsI3Ke+wwHwPLBgG+xfdcgCKf+0TYutAZDp5yVwH9hpVxdtmFPO/SKDvjk3LyMJQF6d+V1gKYXKmev3Xo2yKRe2L1FqQB3nz6v3glUo7/2g1kgiQim/L4XpilgX6P6DPhSnmnfsnq4cwCW0aL07ESXaD8gZlwOVJY3Z/OHR2kpXxprfnYkR1DYZUAAAB4QZ5CeIT/AAADAGcEyQjZSi8NJaYzyZXAC0VNoXN8ewjdelUNYX2p2O7slb/wBHvijuxwFAQBoKJf9OhJmy6t/yWDSpBs1YYzJncwiXgaUFP7FwtrUGtXQNBCUfHlm4jVWBWTCyTGRHrZ/ioNLCpdoDDty0FJwK2BAAAAbgGeYXRCfwAAAwBm/J8szInK8jQBHNjEABoS/vpZihbXUN5OoNyCa2yaXMnHYLqnwvx4488LzlgPqdGhf1ET35egQlc0eQ+yFLGmGHunkIWEAXsRAAcpYgNQio44tZ3f6A9RPET0D5o0NUZncAOPAAAAdAGeY2pCfwAAAwAmNlXk+k0QwnoVQEPLQBD3u1g16zR4IMelJgAEgAI72zH5ZrHWtNB2r9qAEHZ6CHjOjCKhuGmucv2LjcsV+iBxXelF2Xc5f+hnlmOXKrugqgyglBU7X20pWojbtnnHZiItwG8sp1TFpwGVAAABA0GaaEmoQWiZTAhv//6nhAAAAwAk1LYqijh8wkAOD0vypzwEury4f1VFQ8HBjRcrFwhb/VTGt1hUTN3BBRDOBFBW2tYLSyVEbY2N1w9s8xwoqnm01MNVKiq+7udgKKH87rGunsJycHOQlq3HgcQx6onTMwKxPSlKpyGUhPTzLSV3Zy0naEGTUGY+ZMHyhm2mmHzJni7xyMjaqtMU4mIIgKzAfd3aRCoCXqqtjFzBeljsJIJO+20n+wDXOGfGugVAWPEgUR+BBpkFUKHQSgaao1LL68Y5P3CkJ654hbfKjS059luNSyIUUlMbHcBS/oPmMHdFelDTz6bFCkRMi+A59xC4BNwAAACRQZ6GRREsK/8AAAMAS31jcC2j6Y0p1T2u2NPq/aGAK1MLcXA/NCYeUHX7ku0HTyVK9bO9hjrIPMdwMWH8QdJrL1wPEQJuueKfxMUaBSqG0Uzsjytlnn1Yry/LtulKbYTdd/Ndy4CZerlnqP2BYJYOGAwTKPPneyVlXOJLFIIisgg07CBVoLUlNgSRqxGLQ1sDpwAAAGYBnqV0Qn8AAAMAJq1nN7D/35kACaWpodrbbsmxeAJ/qY6DfFOv8b/MS8PvnifR/zj3cEApnx+FL5QNycLYpcWJVlBw6YzKdwjwrcegAW9mbj/fuPl54s5Pv0gkK5ARAQVMOcGAEPAAAABWAZ6nakJ/AAADAGIeMkCOu1EaFcZnx/nE+l6XbxZa7SreiJ0yuVBYfBC/kAA5+V+GyPeGhJD17VOo92lzZfAwmZe4KLrCk3xyxShi9qID6YsVIBigl4EAAAEIQZqsSahBbJlMCG///qeEAAADACe7kuACG9HuWwF9zJgw/d1/W2csdIpyQxiKFo5M2kxXHdcy8+TF1vm7m+AfqIFFSwszSzATaO5G+0jMjs9i99RrGNOJrkWdfHeWwC6AMZ1CES0j6vJ/e7sPjPqKTYlAwImfrzYuKxl8qZxuSHDYxD9yA7aJc/QTrUAAu7+HphBTiy1O+6+EXIqwMfLA4BNcBmijTbgWG84gMPaDYqaMX+4lgoderQga6+lEiiPUtvm8wBYDSdGOyWwwS60u83rP6Zq1iSKjdxfc3721gtocucn8GnvhJPUrUxYw/HF7SyH0UxpV5fket/Hu1OJFc9CyrihuFE7AAAAAkEGeykUVLCv/AAADAE+5KfLHE4PDWNAA7Iqm7dBmSN+VSxOLrXmbCi6OzBS/2Gr2OeiFg2d85rdGTSbo4ttQYZRSZf2tlZvf8txAoATLqRXptgq0+7/7eYqREN7pPNQlOYlAhxZlf/6d86q01+vFG2sX9BDiRSlMH2unH60cBO1DBT+mbuAq0YLBcENdQs6lbQAAAGMBnul0Qn8AAAMAYQWjvOE/P1J7AoirNuyRbmyACwDlKXATkTu/e31Mp0ZarBh4/rKb5R++AK8B1lWNmud3B2bw9SEobZrauTynJk9xtds+Psoh9y4JGHr5kDHbQSyylfPg9IEAAABdAZ7rakJ/AAADAGSdbC//3hcaQA4o5SzfsQdSM66FjcadT6defcWt1qJnN6fEUqQD4nGkJ2v+24Fl1EBMcATSE/J8Ja8ePcEAlanw/nsCyGzqzeBmCl/scPjK8LUfAAAA40Ga8EmoQWyZTAhv//6nhAAAAwBf/ZUUx0F/R+VF5ADjRneskdR0S89XmAqdW0pCIaSHWnroPHhSwb/2wreNUxENCsZL6QfpPQEeea/qNWjvyhnihAG0cREp3uqBYK8ZuTStlPLiInwtlfwU6QP0R0O85GVTRexKJRUgpDvm8d8nVyDNB3+7088kO7ctaBh0DrRSAYzC40eaCf+xrbarN73q7k7H6cylL88Rh8mJ9HCUTU234f3XeDBg050UgpVJMTDaSxfFdsCEjAzlFhInn1QL7R2mYTEtfztd0tATLK9EOP3BAAAAn0GfDkUVLCv/AAADAE+h8EdaU5Um4AgmrNJYs7JHyoTPLqg0HVFqivpUVU459wW4MxnpTTPWwOqzHp3ALVapcgQhOQi/7ybEgrboae2g2fLVe3LOH6832d/zEk2F70LeGPaiyG+eRXqml7+er+kH7/9V3U7cvORKDuldzWppI3S0j/J6awFR2dErcF0cNbgJTYqdHo2wbMDiydqTYchWwAAAAI0Bny10Qn8AAAMAZHwhYAlWx0JQBBA/cPFfTU05Luq93KAZWtA2s+pmVs9HBRZlaSteQXQ8yceflKEFRhnnPYIu6x2Ck/eW9HyKMxRk55BLr3f3yq6jRDNjBB4KxkP4Pz4JnfDpax+StRDyWjYp7EU5hUILA+eWa1jXh/dB6V58pHzy7g90Ufx0L1lQQpIAAAB5AZ8vakJ/AAADAGEFo+6RdADbiv9TWl+WQlyqIw2ptwErvGlP62ucDZOPzTcyMEKKjsa9bFn7AtdAldGgh0p4mf28Dvg6Ud8jTq88bSqzEA+zkeUtKo5WKtZuglhTOhUj+xS7itAyff2q854kBJYGY72vLARoN0IHTQAAASZBmzRJqEFsmUwIb//+p4QAAAMAXXmXaiM0NkhtMAHGD/t4qG2iesxotsj4rkYHQ0SmGJMr539GC/FjnEQ4t/3cEbjM9L1co+D6YmFiVx/c3QvQR5TljpFUF6lBmibColdoV9G6F6TY5/nnEVmTiU8GN3isMfjgdSxLW8g/kZlZvlz1Bttwufzz2UKQb0PvAvNu1F7Qju2+0jwB8YDBVj9NNXeXRMKXoWSrOrzRb4ReaU5IcyY/nh1pWwxcaH4tfigtk75UJfXocQh6knQPivAWpq9w0VhySnMRxkAdaHfnWp8BGXhlv0cjkaMiSs6V5o0WnKFTh+UUGDk/+VcyAPbiOwJRjV+8FzGZNZSUrLFy9bzUQ2ssGY5+0/RAhXW6fo0oZj1QK2AAAAB/QZ9SRRUsK/8AAAMAS2R9g8UnCH39QyQsvPkoZTlf95gBCc4px/C6eJATO9FiNHXabRl6vUEgJDRjeTPfupwt8+ICaJFc3t1xrg6bSD8FQwBEx9e1zHrtIDHisl7LR/K7WfsS8JdS5bKOJdgAqcGQRKhcqG2XIzAzChH+WDSOggAAAFQBn3F0Qn8AAAMAYfzi0EigAtZ009xNuwN6tRXgK1raQzBVjDGlCFR382V2o7cxiRWhJKE7CLH4Sa1TBkMu+50Xy81MmXQAFipRqPhFsPogoMY/ZDUAAAB/AZ9zakJ/AAADACY2EpmfGR4pacZZGwAtnlv1iYK1z/yHjKYAtsu8y1nggV/QFCe+at/+iIgLYmT2U3otElflXkmjBWdZKf4fEEVp/fsZp9M5+QPfeWvHSCClN5OA7YBGE9ihyMKxMRzOLFq5NNkoieagrfUW9tu8xbxKlcyggQAAARdBm3hJqEFsmUwIb//+p4QAAAMAJ7uS4AJ26T3FsUD3QZ9zYPHuSKeRbtdG4iHhNrFYutYD/rEZFNQ14QObEMagxH8OemDiaC3/Nc4CadM+tedt56GoT4PrgphqC8TmlaqlZQTAQdqOlLmOdNhMs5AKB8qEyhSd56jZ//dH4VLiX9aKz7jNprrphGPOJYlqcd/lDCgeK02mRZYpVekvzp9Re2DaXIIEGAKrQQ3H6MNI/pjG7GEFh09gUrshWXpEKq4lkhPuJISliGs03fUSw1mTKuG/TarAgT3v41+LHIuSVN2LuYOAC8DWdaLspD7/C9rocTh4Z0TwbrfyII3YKealyxhOn7E8gqt0c5mF7nmUdo7ti7POzb8AAACrQZ+WRRUsK/8AAAMAH8ZJSgKB6ADgokeH3w5MjwrCF8U7Tf0VfeX/JXJP1W0nHS2JwjtuKdlpIqiHNd4QdAjguaAiVJU8tpPyNl9C8qxeD9W2EBxK52BpA5KQSKjOFcJRFB0J6uqnjVE1lK2BD0eKQ4pgBqD+RGyJZSirC2NGXQheXkYURj8Wpm7LgrP53y3OR38N4c52LWuEMqbiD7m/PuwYbkxO2tD7N03gAAAAdgGftXRCfwAAAwAn2lFR8AEGYtRv/1GOWOY3idtQ1PiMGgtHnRePOi+6ITHUGyIl3wK+wYa8efdYpzPkpDmudVv93tTY3t2Y+gnjnL2gVXdYbjRMfHbz7WoWgqCA0aXHKL9ys2ZZbWzXleVZuh8Qv9yY1sHlN1sAAAB8AZ+3akJ/AAADACoW9gQIARV2y7si2M7DbmO98uCoBNSI4ZIK3T9DQ4X9HPk589ymLBnAG/vkJquiUJnXE9cEcQ54D6hnVseCgeyLMDbhwX1SFfg1WAGz+mTr+h5s7JCTsdZbpuEuRbxFznHm61iPE8NYiBitzQ9YLTAa0QAAAQdBm7xJqEFsmUwIb//+p4QAAAMAJ8EGx4ANqqN3FsTaC+lmM9S/F1Jwc4JQNaf4Wt3YpLXXS1WXbgdJM9uUk4eF0t5iUP6En7kM0TgtaaV6WFQDonNA/WLTormIZOl9zyV1Se9JvXOPzdFUNATLp1J2UyVmUXyO6VzJzaHi77B5FuV7qhH0IUmLG6iFT483BhcCI4FTr3Va0YKPPzip+jddLXjQApov8DQPZ8Z42PLtnGeJdUk9KRfeKZQKIjSB21mz/jQcYuTooc+yoi0PHxpQ2i6XJh4z7rcYtKyIXO9mKh1RKRpVT7AMeyHNEWCVAHUUT3ACMWYGPpmB/xqKz33Z8d+slVVNMAAAAIlBn9pFFSwr/wAAAwAhzxEAcotxX8XMI+9CaiiroBB1yQbSQHdmGerg1v1UZG4uk11W6R4uDlqgLPFgFOd/42pLcPvKbQJb8thHp7DJ35JKkMJ2pVz97mi4O5oOBDUoU9gUeGA842c6gAvYM2baPt1DauHpA2Vf/eQ5QQqSUC0PJmyJaI5mFABZQAAAAJwBn/l0Qn8AAAMALFpdBYAWHtyPGxqcchj4cMxbFBykQmXEBvhHwifGuH/SUVSZYdvPvaHIiOXF6RMI9RT2rI9sFLBlWDsq5MlRXVFZbD+Tv46xnmFt5hgvxQEX1NT2mGNQrH/PiCoDWdkZvs7JhLcEyVa4cOiO1qEdrXT/XQl/p+hpl2K6Qf/IEd7MYqZ7aHssSz+3fws8KZsgi4EAAACRAZ/7akJ/AAADACxNB4e0UNyRr3IAWzy36xMDylWWLf3ZIyyvicPMiJlYib/lEt83NKY6wnp9R2cOISrP/cPGwPv0okXumRvFhSOP0aeE2bC5usi5yDNLMI4Xz/3tEJQm6ycF7JJ3MyitKmzZijsgReVEsy/UTh1YF+oDVbH+MEJHri4Nh1k0n5g4yfdKloD5gAAAAOdBm+BJqEFsmUwIb//+p4QAAAMAJ/7wrBaL8ARNFgAj4pWOWqXePyCZXc057crg7KL8/abKwEo5+xGbZ9cj8u0YFd3wjNKPKOZVW4w9kptizG6saCHq8uJDsbXyxxGY/w5hlif7qObhpStoJlTcQ0O4fhqqPNA2NbPQoXgVRZAVL75qfQ7y0ybA4KtIdYldhcnmEcKe5n/u17nnP6QTeLdJb26MqHo62tEmYfWvjNYGg79VPnaQhp7KjSVVj+CMmAnIn5FGXGngg9G8C3pFnzoATDf3mEuMowKWCsknJMssiSbVmPHN/LkAAAB8QZ4eRRUsK/8AAAMAIVQ//fsANN3OkLXsVb8MydreLz8mNf9ybrVgmW3IKRyg52x2I43jr01Dj0idvhKH0gAC7V4p6NfdohAOZ4eUeVQvq9q8djH/xUR9XdYLtE5qbMHAzi3ADD+AfegMz7pcUbJdJtmmc1Mzm20K478FJQAAAJQBnj10Qn8AAAMALFpg9TgAUBn3DxX01CdLpcgjeE8VrEaCpWk5CeZPTYmQBt2Tuyl+qYQTVs9WMUHH8tFFay/IPEmHuBn6lVGBTp5yTsI39KmN5+6+zS7kwJXEBS8w19ee0SoIB/Cd33tpAaCO6cghmPyolDtmlqG0bHMRJvjyaXLENt6pGStott8OR10qrNWVwwPGAAAApwGeP2pCfwAAAwAtn6pgDYiFtKaHbPy9sbvOe6UN9fIF5h8AAGkUCcoPHeDH8xXU9YXbSMtLPRZzM9aGREszDRT+o20ecTbguWIya/o4h6bgmIFtVuEnbH4Cqp1WH3RiVgzD1jX/bczkqKO4kJbZqiUdgWMlHxQywTJaL7LIshgMEI7tPVqHetRessXVPA6aqOK7uUFyD4lRQ6+D6ycIe1cCqTKs45GBAAABKEGaJEmoQWyZTAhv//6nhAAAAwApG/L4j78JcAB/B3u8GVJ6jDfp2FZ11SaiFiawbkuEB0bubAKhQ0vtpFpkfLf6CEYDl4HvV92ijtLP4+0uTXzWyANrLSgUh5g4ftYw+ACf2bJUD2hcMlstpZSEniGisOfcDZpIRJmVyEj/k6SapARXX8AysjPoQAEttlpPMMJZprmk/KW5V761qh00isuqMJHehe5HwOEihrR0P2lAnAEjC+SeJ0AfszjhVeDhBACk8wCRVcLSONe4/Rqo7P/Jxa9hJSfxq9+w1a8sZfKJCTXvtEjnl9dN2v7OL1hCW3AaLJm7hjcDDtXyJFUwdl8P970+YPb+Bh8+U4wx7F3Y59EnT6rIJvCFn/28EBsKaZAiSzpmfd+AAAAAvkGeQkUVLCv/AAADACC7FN+pacZWzgBLVqIm1ggDHKuMJtmhTJMVbGir9POtOD++2MkYl2hPZsEGlyLwd5SYEr37C7nxJirgj4zf4wzWxlIH/FDT+ArYg+EejD0uFLzapuMVLgJUivdxRhfPvO6r0fKRaFYL57U/F5l0coPrOPsrmeFYeYa933d2fzXLCq/kXbQ2xNp+A69MZENNuiQQm5VWRZ1Zs4Q0V4Y9cq0yWFLqXOBtgJLAA5L7OglYBL0AAAB5AZ5hdEJ/AAADACj6XByACDdGeZVW/rwi/cb8zMFnmeQtLvqavr9VJ4OdEPAFcVr6dRsrJZ7nodGAmiXwFgeHtkDFLEy30nTIf4Y40esShOXqEOOG1Ne+cjXZRemmtUIdBY91b5R7CH/7AQi9kgqM7k3SLCwMSv7B3QAAAK0BnmNqQn8AAAMAKzb354IARj9DpLsAp+UiN599bpmEVRh2rHr8598EhxLC7awu5BlAew0rouSklWou5AN6yjLIXWUt7svwHqeOnLFQ0gjZYm+RcHyxb3kAjF+6KydFpOftlHbTx9AnBe8ocEqKz7AsjYFMCgmW9ipIsK+CKgIkTAuHltzEPk65MqUVCoHYcgQ1Nd5SOko0mpnZ2iOT/GKq8oOHeDjpwS2NO0QF3AAAATVBmmhJqEFsmUwIb//+p4QAAAMAKR7wrc8/gqzqQAh+tBzVMjAosdmZn9EyhCo/aeR1j9Q0MDXhaRYXteyDFEBSx6M0WzjqQHY6QrC0pf8/uwyYarMxqixCiZZZ56sVAu8dYh+8qo3Bxn6nu6ejx3OVcTId3zUbiG8MlEzKLaZebczjScMdry7W6Rahdpd9BVAj+cBRTp5m8Qyrq9qZDm8DjBnueRJOOeiBNAprpHrVo3yCUM7isAaCKYlRCOEfBaGCYHz7S9gocUqnAroMXuPib6pW/CTwr0WIhO5FRWxtzPYR9tCIrXoGAmSMKj5mPIIo3zY1ApjU7py+FeOavitm1J9P0FHIsMQYUZZ3vZNUkSffgqQtF7YkQBji0I3E50p7L3MFSe6eSKhhMzIesvBElxqOvycAAACaQZ6GRRUsK/8AAAMAI9dhgByv8nnZMAzJ4rP5fP/+0ZD/IV07S7R8IUV/YnTl7vS71h+jJ78nGAE/qpML7GRLtkvHzi9xm7bin1emn1NCvOpIYSrVg40nlXbCeuCZgQic3WBF3DDXsUqTx+HXmjIBYMiQvpF1IIMfIMoqXRnJwhFFQM/Qxr+W7Tj2lcq2w+5GEwOxTBc+vfg/wQAAAIcBnqV0Qn8AAAMALppRyEAQqhtbEcwGKC2HN6LNs0XvMhcAEEWYMAJG9DhMF9gVWnoUMgfc8UXHD4TAK152gWaOdH1sQGaRX/G0djIr0zj2RxTV590kJE3G335ZuLVX0cJqaaF8VEmTSKDaQwG3a7Zgu9MT9yKKHzWT4izBXioZn2Vo1N6gP8AAAABfAZ6nakJ/AAADAC6MmNzwaHZQUe8lO340AJpmAx2pA+9xJfQWWk0U9w/VejQEhbdhCKaXXJjlOj56db1cvfwjLpY2HfHslLbnx8Kk9dbRgds6GxgrHDIVbYdCe1pWAjcAAADvQZqsSahBbJlMCG///qeEAAADACbfIt3QKezGAON30hkEZUYlHfWB6vYwfK5SUtPdrfIu6OsNk6TVLzKfMkRe86paiW+lwSR23xYDBu8saac2Ks2LxX+99GFAzlNZWHkNCYeYQtudVEyZkFqayUpnHxmk2WICxJ+r6lj87zHH56w5f4Ob6siXNs/IEkQ7snr3jVrJtUOC3cXbAVQh7XMIqmYXWEMF4YnVr05VZ2TCCJQCZsHLRe/GkeRzq7iraZcQrQ7Sn8A/qEwxYQ2w9AKnOQP0beFBMfQKHFOABTfyP5px/n+mpWz5a5BjSHBa6sAAAACKQZ7KRRUsK/8AAAMAH9duAA4xF/PrT8ViYEvSHenWOqpL2QYB5ja2N9yCl85sysnxj4iHh1GGMnq0t0tA3LaU79ZaQQZyd1ES64Fz7NepTWj0aKUS6HCreign08MMIpX6zGN2QFnm5Pf2VyilJpETeukJJ+0hIGTmIkxv+2FNlH5RzDo/Ab5dbsEjAAAAeAGe6XRCfwAAAwArOlDO4AR7yulypA6wTpxmKgf+rEiZbSTq3Qyhdk/4P2tmhMRzYwQHpuqXVt/SOjITAvaXaq6wGK0M4SrEUr1dB3wlCkLoLmgMsn0odio2Ri2nFkzkmc9vj7P8dKrtZ5opd5vdq9IjymXnpiBdwQAAAIcBnutqQn8AAAMAK1L+gCg2fA/y64/KRjijPYwzagEZahnB65MZFlty6dOKUN8laft6ViNVKH0yppR5oKvJgsnrrm62lrSva7MiUW5ueOoMkeITvQHmxK5mWiscWfMqRhrJU7VEuCh159BARpXnJiyMDZJ8L+yTxoOYCF+XiQDTW3MN+CwYRn0AAAEVQZrwSahBbJlMCG///qeEAAADACf7++Czf3ACaYdjgKIO+fk7HVM1/Uzdq69DzHSNy9kGzXqaOcQ078VX+xkDLB2XdPIoZiBgqCeA83oocWzuHobblBlp/RrzwmMogXMCbvGkFY7vLvCwAXuyH5pdZi5wI1QG6VJU60LBOcr/Q06p2Em0QjHsjeVOxWuRLXWgrXisxj8vsjYma5Vb/aOBK3djwhlTkvFqAR/FVj9vBOUnCNN/svMw7hmSqH7Grnc45lnK2hFT+h8CaTE96ZvlOEmxB1Ak9QFkSyqNJ/mwgkLvoym8fUpCv37u/xUwo8LLdy9+XmtbzIHS3s/AJ0MFKw/mxmatNN8GujwSi5uQowk9cDfRvQAAAHFBnw5FFSwr/wAAAwAfxkle/7L7CNXKhNzf/Fg36KahMABtREjBNvJCn/iSTwE7Z27CaYar5B2qCzE3YDsc+pDvxNzjKC0HRHZmA+p4gnf0qqjOs8Ushnh4iKwo+1ebDK4j2QCPi7ocYa8Yu4Xn+dBiwAAAAHEBny10Qn8AAAMAIq1K9rkka0wCEADgx+NWKkuyd0eRq7oE78ARkoQtGdPe2mYwuUEG+SqtrxeKAoclXQIrjrlEY14QnPkXDbpOtprS1MB4UAt36soABd59j/ElvFTUxq4/FkzaxzWspCOMIbiGRyq5eAAAAJMBny9qQn8AAAMAKhb1RNAERhJn3lKe6fKlUEILcXYV812Qq9f1PUSrOE5fZUNIC9Hr1Qi8XoF4zHemwl7Y5auN1YA68Jy9TNKHSTCNL5hiYx97NlLETTjSVljKSv2HjNxmyoJY4E5e7Q2EEE6et/KlPfeRHvO8BMzIOYNqSw2zDpac/7ib/bZ/bgyCBvL5zCJAqYEAAADyQZs0SahBbJlMCG///qeEAAADACfAogpzUiAHQHflMSyiH5H8prZj0EFoe6PnEezzsHLN/2Xtl+cwRACiiXobfshBK3EvQbKd4wyq2SXz6r1KPiaIb7E9QMU617zYruKiwVutMg453h3QQTJIBAyRzSt0+urC8h2czIwkyBmyk4iQ+pGn/3lJ+fYFg7+uvRXwMyZjcu0opNySM3yEwYdL/F37dwl/p/nyMhob5MuYLBbVnr57sNI9b+VS5JZO4BySKaGSCageAKp3ykVunDR3XJPpZZ9LA2wrX/8pQqnd0s/VkiNsAygcqpxTWd32RQ/WkEAAAAClQZ9SRRUsK/8AAAMAIFQ/XlABP8pwfB3BxcsMiXM1W82ZTQrMBG0mP+ktQPb1n8B0YKCMWmzr6si83nD+TuH042nSPRDucybo8n/u3QP70DvoFBS3Kflp6o4xiAOGz9U6aoNMkqQUPH58SJGd1BA9gEmHf+Jj1gUJWb6DveAFMkBB8NrdWLAR7E7DdSfJFD/IjLADCC/BkgPjfK8tzr9B+MvAUAXkAAAAdQGfcXRCfwAAAwArO2/gE14xMfq20CLeO3I3tI6Nh5QueNQu7t0QcDlTlEjwUERX1PF8mMaJil+eJre7/y5VltfbEkNGtVKLsHo9yKMQigxVimZg6EvlLyuMByoJrrJapBWLgGtrNzZ1TYiSS5DrucJAJwDegQAAAIEBn3NqQn8AAAMAKyymngCqBO1AAseMaLQMEgvmICx2KyLC9rzCMZilM0C2ON2NzK9yngcsg6tAntXLdmZkg/QOlQ2ORbnKPWCZIpoy0lzkP0/f/0GI82yacumY63KamFpwgaQuJqblIkqB0CUamGZglgrUBxjrPEQshE4Sn2vJAjcAAAEjQZt4SahBbJlMCG///qeEAAADACjbckAC6TruIA/HlcXL1BviRj/qAQoX1hCY+bBh6RvZAMOsRuIZMFoPI5haz695FnKUAiXHYD4kKr6FYGStM6Lt4FyKTlzaNuNCnA6P+WwX6lSWtc7ml+HECn1s/N/w7PLqF8DzNf96QgmW+DSuRo44sylyR5esMwel3BOvCVPAkq2INvknyfoa8DkJLbg7AjNca0OvI9/GvmwfwvZwHvy+mP7SG5ErycYeItMPO53up2kfjBBQJPDJNUZSJFiicadlE/USAb05EZbeN+0584L9lFRGyKKscW97DKUAPkDN5zg62yWgth9wZjwOwqNNuVq/WpmeuY7yH82wAedVdU08zCgvkOa8v3ADIe/5y7k5AAAAh0GflkUVLCv/AAADACC68dBhWQA3WUtcunlJSRHOT/fAmb1F8GL/9UZU6+Fy1OdFxLDNFxhbDNNrcr4VigkFf4Wtq77z3OZBQMTZ1mQuQ27dpi9ddo+F3RMdJx5BGn8Be2o3QAgkYX/QeLfI1BXotxMSfbQ5s4m3Y63eufZis7khNUYG3+RDpgAAAGkBn7V0Qn8AAAMAK9K1ra9NAm2gBD86ULEvC66c1/6zcy9uSFm3eUAn18Pae1dFDuGdU7hLr5edlu2CDb20hc+iolSp7NVDZ+YN0S8zaMLOTp+RxaJL+in3pax4PA1VxiHgYWh39uIgtoAAAAB4AZ+3akJ/AAADACvSsz+ErgkOuMAVvt6YCgw+EEKK0fHCvOG7zVErmzBX7j2ElbyWR1iCOc8pwYR+XhaWoAQ7fzhOAU+sqo94D6ULgRAmmT7oVtkdr9mGtJCgDpa/36D6eqx/9kGy/Z5MGYB8MK+mElVHuVqGqgUlAAAA5kGbvEmoQWyZTAhv//6nhAAAAwApHvCq7xLwCInawJr3oyumTg0lY85WT3NT0iEdwBU043EZFQShqe1IvpDHo6Q9IStLG5foRh/nH2H0fPiDTC7RM/NXj/FzJEwfyJ+ziXuthHo9OK3Bi5kKRIgQxkOtUiGNJwTAkoMH9jth/bLN8xkw189f4XdzG9a5GHppcrCUIKEhEJqqiUVlqwXuyBY1Bv/6kHOD7s6+LsZHEpTlF+EZOvjyUptRIt5fCfyK6vc6o02p27XHC2Im7arFLT4zlc4inDIGVbHDB/IUR/xwuG4Bl4rAAAAAhUGf2kUVLCv/AAADACCyI4avd1QHU+oAuWOMWEqas/tMiMK/HJN+y34IVQhgCdTFjkj+piRfIGtpbBWRfS/uPDw322YeiXdLy25i82he8MsFzdua+rh2nJSdL+hNzx6T27dz4cB/l3yglB1JUJNuHlwsAn+eH1/k7q5P5POw+icTNSt8CZgAAACIAZ/5dEJ/AAADACxtrwBzCHzJp9wC9nYx9TqdeZCbEjN3aS4rLO7v34JS+H0UnpFf7XPVXpO7KzcCvcfKjSoq595AVaFr5IOoTrvQWb4Iryqa2Wa317wSii9F/VuXNMDubbJaifAn283rrFYVS0zaPWt/azgbQprMEgbDo1ZfniBffyguTQFBEwAAAHEBn/tqQn8AAAMAKhbrZ5xE5Ov/7o/ffy4jhThwAB/O4odsBzpDW1rvdkllRFdxVEVS2v6KVmDoY19tfZRi/qP8leJOyK8ZNsJrVMf5dIhPZdICYGkDfwcEXnmDQX+C9H0nVEqnlm6g3XkZkPhT5IAbUAAAAOpBm+BJqEFsmUwIb//+p4QAAAMAJKXVEAUApAGpYRCHgcZbnquyBQ06JMj45F1oCYpwzr99b6HyQKQZUFmeqXj1Y2AAsnwFfzjxQYFMQJFeRTFZsC52yWzIe4BnBK2F3FCc31a/GbXSOt+hMk0l7LpN/euXTNN6qORdX3xDlSQoLdpHBl31inMNp1WHHtZH28oF/Lmup8KPMKbjpqPDhZRgLCQv2ARezumPGkuFlVNP4OfPxfKnXDtX0LY4Ac5+XSlornrLxSW7jTvOAIdZhFTgPP6h8lpcTcpZE20kBCAEb63cu79OA4w3dqEAAABaQZ4eRRUsK/8AAAMAH8rxaWvEVdxqCXoIh1QGpVIgKhoABbNCXjNDxiA2wOHefxsZ6v1ML6wI7diquMs8QblZG/+PGYPGRhfuEJ9ROBD/+OB4nMCpzPBvixQRAAAAbgGePXRCfwAAAwAqCKe3gezLeq2p1d2WTSndwAHFnFJREPQtXGNjM+GFDZYT7Bd6eU89FmFjtXlZ9rMsjZLqA0YPQ03bkVbqG4YzMTDjIEWhANtDIMPy032LlP2LFPN3P4T28nvnQTPg123ZYwW0AAAAcwGeP2pCfwAAAwAqFutmiiYYw9slIgAzrCLDxZZlpegfHT8oTSlQzfjXAEe89F2nMpVJF2nfzGl2d3XZ181hFF8TfvvhrL7hBHGLXQPrG3KUxMMqHSHgjsZ9hcuOxP3K3s0eBpMUfqadQaiEr/Bh20UHAh8AAADWQZokSahBbJlMCG///qeEAAADACjbS1AC3T+syBLi5LtxmA7tp8yVz/T2eKcttyhJY5q7LzyBoT3BAkIpuWbkAfTx7tPjrkJi+S/bs3wdS7QInNWJ77T5cnP54Wky0iriZ7Ehx7tJCfLnR2bR9j2z5ugEPPbhGsCcZEJdtV3BGC/q6otViruNeM3V4Z6kGI4mRlNjqPAZX3Ch8EA9jcLx6t+ur1ch6MkvQiwIVUjr8S35UunbLWlPo/7OdcDUHndP782ERxslu/95lO0091newpdGDYWTMAAAAGdBnkJFFSwr/wAAAwAguvHOvw5/nc1fgBGREjNgt9jUc45k/E8DGUEyNsqpL027R6Jlpt6K/tObV4XMo+ib/jLmKjDUJdCtIH03ZbVKPYMiOFXaxFkMr+q7tzk2gI8pmczMWdOmFQPnAAAAeAGeYXRCfwAAAwApkq/EV+rFD8B2mIzOnADgw6yHjF+nIt23uy4UjRwBHe2Znc69+FmxRMZElknh0MVZkqhh72G5G2Fn0OY3AsJr8+nX6J/4DCf20BBeewa0xxWFf+dk8wbSO+9yg1G0jpTkLSSBwqcCByotHQCVgQAAAIMBnmNqQn8AAAMAKzb1FQAX2CpZv2IOOo9cdk956oJqhB+ZdSG70mKHF70YzG0KqEh2YWAB+MEIN9EelZTZsiOPs8nzUAQKnfNSJzKYIMpMF1Jv8Ua/PSvhHVdRING9dJzJEzk22F/33Zw6muSHK8YIP+/mpoxEB8e+DqHSeGYhRKgl4AAAAMdBmmZJqEFsmUwUTDf//qeEAAADACtb++Bt4AAuqo3Y49g9uKsrY95IFLAXyZZLPuv3R4HTfOjI04pfh0ov/1SzE8Lygp+GMfVD+4jyrMNYk+l/NH/K8PJRXaGlazbvtUV2HaExPHs6ORAIfAIgS8YODs9HHLAkZCmBWrf533pot2WpUu3SmrNYK2iMNJ/1mxH0gwJI0fBCsdQTJ3Bv/eikOqdVY5DjXk7tnk4/7Rkf51phpl+EtT6IbkttvgXefJ1Z25Ot9jZgAAAAlgGehWpCfwAAAwAtdvXI0AVvtyGND6dCddWGvY8XIwsNAjcvbkLuEeyq/d9VVbk7jnXxgIHEWaR+UNBJe6ac0s4uKut6Vt/WaU82lvLhGVPlTI3qq9UuzXeSPN7GMxhC0VLEaMmco5g3vwmlX+bVqFiBdpZC8zcH7+3qiK/8CjVkLxDAX78bq+nDGmcWdm+E+/UQMNBdwQAAAMpBmopJ4QpSZTAhv/6nhAAAAwArXvCtcQJQAsYd+OHSrjJrv/dFMslYQr05hR03NY88WrUB1XLsysZCQ2spwCtycjayuAmqjQuonSyvSu/Y/BS6SwI4IHlF/s1e//9NUyCCWsO1LUzvTxwl/QI7rLkZZ4GL3es8KwqDIayhU3OfPUIJeLTyrOkCO5wfVP73Orm9Q+9VL7wAenXx+4WeHOy7lLXjiQXs+keIpGYyfJes/kKETEB/eu2gofI0ZEJHfnonp7cxV7jtlPJmAAAAjkGeqEU0TCv/AAADACKya/XtngBf69GWY6NPPhFtQAJghU+UrBsTJvp+0gQddPKz1WInWG+4wTnzff4dzx7RZdbUMyGFUCYpmM6/T7RrklYFt8mbtYHHIaTk2cFA7kqnDDsmfeE0P5e57hOA8ssYdBnHZ06XgxLOi86a5E7yywhQd97bu+0oMZDMcGeNsUkAAACJAZ7HdEJ/AAADAC1o54qi3AxRSYArU5i0iUi+6TmloTRTpzmwaChmrTcIDA6bzCr6+/uDDk86v9TaSa0+h+M8glvSluzgMGljJx0ulN9Kg27qnjP7uX9Z0CzHqmAVEuCaymhtS+Kjwk0pXHu0BTLnEz+fbzyPoProkR8b5dN/O4+ScMkMFjAAxYAAAABzAZ7JakJ/AAADACs25JrAAjsCkd32Hm8lSwvE+s0NNWUtQLDSxJsBGMKTeUJ/DwpOYF3Hd9R+JmNktC7E+JHdpd1Mq9NnLH22tLU2SzyGAREjJCwQl63DlpCIkY8nKdXUE6qYf9rX8gBPxgcXXt7jxcCygQAAASFBms5JqEFomUwIb//+p4QAAAMAKR7wqUk/VztSupJNZqUAIg91+pk3EtKHnltjDvKQgpAzZodgFzFtRX9m7z0voA5q74fHWekfh9ft0qo7k12kKch5xBoAwasSZ0oaPgsivqza8IMN2hGaxg/oDqHuwOtihR4RFAF4/EbcESZkp+wMNoOkH7ovxQmPV9DeMlRROZV8r8llkXAtSehJAIx78dw4xwq3w/I3mz1IVeZYYINOb4Kk/iD1IrtFQgfntbF34ObLlE3XOmyqUInuLesA0s3qXY4Waoonq+9Kym5pT01GGAe1jwtW6Y76oQWnYVzZGi0Lte+tAAM5Y21auJJt9UDZE+XYpPcRVnXRha9qAfrul1vm2hW/Vaypyl68ezi3AAAAfkGe7EURLCv/AAADACCyXl0nlZPthEB/eaKwAhOY4Iq25exiQxCqY95CoL+lM1pcUm62vbNj+NEdMhAlOFSlK9C7h7mfo/VNJl1/MN/t8cMkWymNG8CAR3AeKZdGcei6iidNpZjSUzyZDhrMm32zbBksdiW5gCPfjxxmh0AbMQAAAHQBnwt0Qn8AAAMAKyjgvASXptrnU/bkr9AC/2Xcfpc/NYRMMS36PBgBd7CUVSrtZPOaeO1/M25+uoTl02PHkDYHtUsD3fvybUmm7s1PSKKeNrx5UFwZFFS+PNN4a/YEenblgC8DbjicY669ZBy+39TFFeAKaQAAAGQBnw1qQn8AAAMAJUlWXlt4kfZufMACIPEGNykTjwkk5cJlkkc5Nsvcy7ahq9i7oT762VRzyF/GflTRwn4MfxvAMyYmC3pLGPjMDiS1y9SOTUY20er5G6ZGZZ5vk0PTzfsdQtcQAAAA/0GbEkmoQWyZTAhv//6nhAAAAwAOeGYvnhDTgCrEXLp8IPQZdVF1wDU4abJrj4vB/9UGqnAKncJj37QOcv8wvvjOA08fHoXTladY8bVcvsRzuUW6w3a2SU6GHzFKEbgAhiEIa+M/bWq/cCbwzWGEz1/KdedOHMTe9K+YnMVhMfZLNSX/U3utBaNvetVc0nm6oN2vwHiimmN3kio/mxjosw+QUQU2QfRA9S/uoXTiqsp+wUwqTNxUtR7K+Bh181bQkUuZlvJ7oGQww/e/ja5x1nO2ln5H1O+Y8/hBe5SuFDod5DNW7KL2prsvzKUW9JMmdtB1Ow4Nrh/V9jsZ/6n3PgAAAK5BnzBFFSwr/wAAAwActND5be+DSeeADj2mSwswFSkngxH3Ill1w6LI12W0bca1otqaFDmfvT+vNtZ917wCQXaIaz9NZeGV5JmslVAZm6chXMXp6b4II+a61hyu1OnCWKrFgnRpkQq4j87vo6L1mZ9LRHMtJdhZsEv75RD5Ro6Rfnq584hLbBUJ3jFWNGJEm6lRmAjIaym+DMvm1P4apnH3r4uwqqcfKt6/rt+EEzEAAACbAZ9PdEJ/AAADACVJVyAdCftjk0oE6ALBNb3cKpU82yXXnHp1zaw/f6E54y6kcQkF36RSMCxaGi0luveyUbhC/4Rmm1/6WDiYejon/g64k79QWlgD8Z5K2EelcfDHuMxjXUHlLzatgVcwTwnWh1Zj5uo0FNyqI9zfWf6H2fEdwaIDbnMsDoIfA+XD5h2eKraWft1ZYNkEHRMAKmAAAACHAZ9RakJ/AAADACVJVyDvtVAC/E1liFxt1sqg/2MkoLnpy1+mo3ELqot6aiDwuhjzABdFfxMoW8PfGsE3I/UsuBnag1C7mMkuV2EzJfu2xN2gjKNCT5D3J3jLrELGRIXrN1jPD/NZozVZk84Z23D2/Uec3kNiZOmf6oD5hyPfyzqRDVUaxgHLAAABHEGbVkmoQWyZTAhv//6nhAAAAwAi3IN+aiK5FADdkHxWTvPtILHFBiSUVApHsdqYX3G2pODpJbPT+axffJGsWUfQq9yoZnXyfvGVBNqDFLheKOBHg8kP7hpkbGfzMCL3PvOMHmxXqRAVt9hgAvuSYWSi30oe0gxph36JW+8XKn51z9bJ01jn6bmnbjvysWUxuFRaE6lTiMI624p4nIkHlySc0U72YwYpmPsUArkxeorvPn4f5C4ibY8KfI3LU4LCFaHNytdM56nQpAjQRCYvJzlSDFUWTIQPN9fDF0tOUXM3YOjWeNpzOV6En4s5YoY1F4aNsZi563Nk2FKv8HDw85a3W8i+nqsk5K1tkZVCIUbixx+AY/KMWvhNFJUFAAAAlUGfdEUVLCv/AAADABy00JCBjezAA4H34gdu2Iy7EZaur7+fHiALfZePw1JDKAlpntjyxTlxWjAhDqJRw1VrzxHV3fhH9rfr9ecGrNIWvYsSNZgjHqhJ3O6JMWGXRpSOXd2UxhV9khTZtNNfQDrtIAehUr/mkAExRrQnbAKpHPKilpqVx/Qx53F/qbtGXwpgY0A4F0HHAAAAkQGfk3RCfwAAAwAlSVcgHReYvIAo8AZEFy09lc2kS/VFk6b/Qpxg7ZVllES38bMYF6wKTYtHtMPFwLYfDTyLFGZFo8UOoJOIHSo4PSrWe8vnh//LY1/eiSzt02KdmjyRFTFJW0GsQubw+n6zT8lqkia0UAtiCMBKkCdd/5Xn8JW2pqK7XjfWJ+AUohQcxjtGCPkAAABqAZ+VakJ/AAADACVJVoTObEEApU28D+MkWiimc2zclGIPLA1ihsES0/1LbOVSRBlcI1Hdv9qZiFWIJVJQ2i57aaT8DLL9U8qdIuk9WKjQ6nNqHxljaxCFHZE3M/wrYVmRNBl8MellixIA/wAAALpBm5pJqEFsmUwIb//+p4QAAAMAIt03tRP9kZyrwBVtjCGaeKIfmK8DqP1+wy/VUAK/ODk+lAMUCzg29zW6SG9WJUECLuS7qM85W1aS1V1xivzKICn6Pvxm7UaOT+0jb/j24+wPxdXVCKWi5LUl313pU3hN+mUr6nRXUAJQzYTNuIqL2kTsPJAD6zC58DPHh48NGSGPSEbsXv+eF7W1TYEmDgHCai/jtJ9WvCuSbcABGvdNVFqi+rMrR8AAAAB8QZ+4RRUsK/8AAAMAHLTPaC4zUMZABXM01lj4sAqTdc46ubFD+c9b6p8I7WtlNYjd5ILc2ckOwCxPsc5YhzwhhOIG12Qjo2AGdFX8YsthAybmDySvlYCmBGqEy1HdD8hLuAfdwJ83F4VVKW8cwErf7xFt0Nvb3AxICBCkgQAAAJYBn9d0Qn8AAAMAJUlWcLeos40uKD7M+wBVsjjIad1XP/EI3ZjDzE6IBqySjsPDlSr2nRnOFSvsbtB0BrW9TiKoqCw4kFKk1OYvQ9xPngS0eDBl4LSchyp7pAdMDZQm83z82piTHTZa0L9/IATuZcXVLQhBx42/Wdg0glw+uvhENaWO/486M2e9mYeZvYgN6B904jIgGzAAAABuAZ/ZakJ/AAADACVJVl5ctN69YAzwnj3Bk/B8QNYmuFpSDWkbrSM0hf6Gi6TptQk4EVgS35T4oiFYThMSJGzPKuYAHRGZzHnt4lp++2jZ2HIR4/b1Pj+E4pi4fem/vLR+xhqZXIh/c+S0GcsgdMAAAAEOQZveSahBbJlMCG///qeEAAADACPcg+RMJo4AWx+zmXGCoZQoMFYYAVBQIE5ZeclnSnLgDHinjH7/B+UaUVLFmvSGRm1S9y6aEHba2RA4S8RpCSdHzCeOf+6MSSmnMRZA5P1yuprAmu92Qkeb04Cw668Eo115tGJx56/OlwrYy1uG/k+3MQMWzeELp9w3g8AgYY1UuD9i/Z/Bmto/2JIHRTfCJRiURHPzKxUWpVMiYsT+kJ3Ts/aWbzNy9cvO1pSlUIrSbGXB1U763ixL43ZuiuSZgX7nMLB5oTUNXUlb1Xy/+PQkbzqNLeyRP/svoTdzSAVo4tcntLk+VInmCf3EdI2d1HGWb6mbpKt4tJ8xAAAAfkGf/EUVLCv/AAADACC7Dx5c+kRJH/6LSVZS8Yj4eWo39D+AFg1WQolpplnHP8NqNAP9JnI/zS0VsjKit6S+CC85TuLiEbCppjaIgIbfbXEB7IoWcijJsWm4OgyP4m6MLTzED4dKGTb6D5bcVQkl3rAC3ubOYDTAnVovwMYScAAAAG4Bnht0Qn8AAAMAJa1K9tyBhKvyAA1OiKdjcNS6C0XpqnL0sL9wFR56sxiFJNIY5EJD57BGwdUcrE16nG70cfiiTha2abFgHkFvn3kEgH7G9qpxP9Pq8Im3p3aT/J05UfH2CisrqTRVvI+qDQghSQAAAIMBnh1qQn8AAAMAJbuBnpdB/AFWSQ9/bW9DGhLrUMw3gkarT14YHOxbqXXyrj9tVp5v9PIoLAYb+iLFi/A3ON5w8Vi6CFf9Sx4PNtM/uvsVkolQpkXE1Kttd+jzqscu4Q7E5OA2p6HAZeCy6XY2dWWl0YQa+Yofpd4PCGFIbade6ICggQAAASZBmgJJqEFsmUwIb//+p4QAAAMAI6oPbypwVctH/UIARigM5XSL18YO4tH9L/gkOcKlmoDshuAF6PT3qcEug2z65ircTTXwrY9C9t157bWPRpxQdjk0oZ97kG2T/be/Q69u1Py9mVwKDhnq52iAz0RCDAgin7e8f9VIosEcgj9PX3gGi8gfHVR44SW67ZU6aG/fZWq1d8QdIWf3PQzm3gFfj+G9+KcNRo+Ly1xIcAm0n9fThi7In1GtpSBpIuOKfUSVJY7yhDs2AQy8cWz+97oo9zOqlzGXKXTE7wS3cZzRsq3uZ0nV/YvHog2eu2XFXQEshR+cvaX8QfEN5uuV2yCluUeATWWx7u9jBLu0Nu1sXZo23IfnT2EKb3MCNpAmf6bWgOTSoIAAAABnQZ4gRRUsK/8AAAMAHQA3oLsXvduaINbEpHAq2ACVKRx1ZxtDY6Tr3x4tNsP3cqnPYPB/1tj0IsLwabe7Qc9vNSpLNtWle/QuOl8fdL2qV4hapVOclVWIw9TnELppY2gybh9U/JA8YQAAAHwBnl90Qn8AAAMAJa1LVAqgCqf9w8V9NSWTZJicggLjb1G+ZMj+WFzVuMpQyZFhyrSA/aWEu2vzLclzMy+aD/6MuWClk1EehT7Npd5C1vBVhdfMMaHeHAjdVLluatwl9wRkrhdfZz8lAdMnZZgDYApRoQ1MTgI1Wq2AQJOAAAAAZQGeQWpCfwAAAwAO2+p8AIPpz2pke7EB6s+YSCMSjiuLDDf53BsKi4G0vql+BeXf7e2Lc/uOuvUqfaYDBOkac0fcNHZNVrg7xApf/wPnoN1yRS8kreayDVjWV3Y2US7OV6IKoBLxAAABE0GaREmoQWyZTBRMN//+p4QAAAMAI9yD7KrXnAALpMhaY0jo7lfnPtDMlzvZqum0HtEwFPvcbC4Iq1HNpefpHsosoxUoEczNDzjNa1HcB1ThVAgOxPHTL9D+t9yaqf1KRNdrCEtPnPTWR7myVHIi/3pPadUYrXC7QROtuxADloGKU1bFn3SotD1JI8tZ4LP7hy02Bc0lodtgH37TePYlG/vdIE4D1UK5GtCi2Uud9y6/tMsBfNb7lVY5V4NVEmdgI4xYyXCXj00l0L0Osnq8vOG9MPPUax4mHERJVw5zLlGzWtOu9MEIoK+NfWX9Z115avzIC+gR5ig/8K3yAhDO0CrjeLCJU8kXpKNJfMla9uRuXUnpAAAAlQGeY2pCfwAAAwAlu4FeeVLYR/ekFwA4xN+b+gsVz98+vLqZ7/+6qk0Z9RMp0MEyPA/xGAgPeSK1ouDY+mNWy3QqAolhzIMXTkgYpTS+hA3p7f73vHR3zxdZQsJzvLVZou27UIP6v/4K0lz7JZoBuX/OTbzDqavK8/mz6cHupJhKl1Pl19INi0KMTZ3xRUl6o7VDqB0wAAABO0GaaEnhClJlMCG//qeEAAADACOqD28iQmAD+D2sxRJvT1gQ4YcH+8lnjLw18je/xH6dGuffc2FMLm21AivuvFsT4JutBHorZvKuXFw99z9/Yghc1ox8ui8/2V7owAojL1KAVL7bJ0mXrE2q1Hm+foSsJ52ha7BcR99i6nE6r4h8I67hkANzARG11wq+WpbXgH/BgsPqE1KhuRTHFPLquukSMVryrod+pTizJju5slCwyzptoCVxA53jOAPt9en2OACAPS0jKxSvDljoeV3gly41tCNNVw69bTbfXSAPFHQIDw3zUcd5lgmNDClaBvwcTXVZSSh4Hf9EyUtcPoxxg39IJYViz796ErnhBlhhhfLJEYmNCn/eWpfIk0lqafvVok2gK89GimqXzaytBYup47HSNCoOHOvR4HSoIAAAAIZBnoZFNEwr/wAAAwAdADfl3sALBMbVjVGHl+x3tKxnIYfl7coC2nthKUBwYNixClY/p8rYR7e4W5xmxiceOwtecl9sskQoroYhBfWZzP0nRpH3T1k3GM9VpoYC/OYrHAACnhy5WSb8RdUPtf1wBNEsxT9i9u7EF9C9pDGtkRb62cSz4AAOmQAAAGMBnqV0Qn8AAAMAKHK1jBsU2owsZgfAtLsMRACEAcwVLcXiyyHyuBX05QgcFPMI3OTzxJCtaVinj/ZWFIfWBEGDeYV7nW/iL4OdUIFncwlCULt570AkO2J8FV56drBHOL8MCvgAAABvAZ6nakJ/AAADAChytEkHeDRpxh3/IAiJZGUeKMAFy4KksEiT2uNv+E0vpOUPxHYeAQrdSnHAl5aAxIQPsdSCnBNknDr2OsHcJywWB6U/WqNgEIXp/KNS767FOdCzHz66D6nKA6BVYFfI/VnMVBbRAAAA7EGarEmoQWiZTAhv//6nhAAAAwAls9IJQgAbgit6F6QS+0U8jWT9oBHFeRz4cm9MvzqzqJiPBH3jvnYBiZT+oZy1Wp4erpdD8CTsUeyt2FlOyTC3KPr+hppNZR2M81eQ6aSSebG1PcvhANkAqNgrCOIo3MGIH8BBmcAuwtNllvpZE8n977Y2vYV3FlqfIeyTVncdM7vEeDJtJi6ROL4MEdmtJPRZrMZohitcprwkJ/cCpPIeyXb+CwPXMfwmBFoUlUiw5+tl8tPGtVmN0khqrxOfWXphn8ONIJ6taoAgELEmJwvlr49yaVURP9SpAAAAdEGeykURLCv/AAADACCyPqSFLHpbCGAI93IGFT7071/9qwFXp4TMmzaBrN6Rj7nHNxF3KVFMLDZuMsxjJ8iygD5JPEl1U7qEdqBGHzVajWBE33T0M6HcSONPqve+JN1T1bWE59/S7NhLLkMHnLsbyvpRgLaBAAAAfwGe6XRCfwAAAwAmrUsohkKoPcJNvWQBW+30qFmvj6SNRoM45yavJUZEmFnxfgqmLSLUxfCbAAp8krCXs+1CGmKOV7eUSRMUcyuly9b50loIOYwHv+YqMyVLshUQ5D1RpsqmKNHdd1AguJjRASe0NYnDKKm6rpzK7bJS5sxvAU0AAABWAZ7rakJ/AAADABFolgAEpfdmoqOVr61nzLlxe2KQbX3g5nYrPOQWDdB/Khp4ZM4upvrVQ9X1Y5nX6oCm+4o+dIZ6VHeIkA3XEj+RJtT3v3i2azKIHpEAAADtQZrwSahBbJlMCG///qeEAAADACWz4hSAI265AdQwGm1OWbcy/zdW+WVdDoVc7RitnP/RpaBeT4bRuqb4QUa4oJw2uZjJ3suhhfMcIpQCvwkIzrOOB+F3qeHys5lnBHoHugz+FirPEmmSeCbLTL36PQhM4CrRRRMpNb1wxUdIw0mgXV9MfpEZ2/ngKYhBNMNJ3Fu+FXVQ2Gczn+3CPeiMSNOZ/Rgll2W9dqaGpBkEaeTlTDtSsTtm/zWbmEQYDRbQN5SCg+w8FNDn+EELJK9/TohSb0l9wpOyllRMYMoXegP5BzSaywQPHuOH1DuhAAAANUGfDkUVLCv/AAADAB5gHaLizYuYr+iX6TW7VPygRSyz+aba39R5W7s533LvO9etjsaqACHgAAAANQGfLXRCfwAAAwAQ1pPb56eiC7jotgBaqNn//FtYdB7MX3bZa/OXrAOPyxI0Mq4ZwuhMwAqYAAAAGwGfL2pCfwAAAwAM48arSm2pang+mNNzAz8BeQAAAIpBmzRJqEFsmUwIb//+p4QAAAMAJZy6bBP87qAdvEkkuADVxp+Pz/ztkTsBC78UhSWaSDFyXzFUtu1rSJz3ItItXH8yDQi0g5gIv49Xh3wcvwNbUZkVHexhSxF++dQmWnN3260c0HLr4vxOLUs25mzZXjuXtoGtJZqUx9/tdBAV2/ILd/q70lgP5JIAAABMQZ9SRRUsK/8AAAMAGR7bxObq+L7aAB1n9htaugS5dKRVxOdtt/q/TNNq+Fg/GX7XEmKEN3pF/gEN/2/AdUwpyqgLyjJGYjkvyABSQAAAACcBn3F0Qn8AAAMADtyx5P01Fh7qrpuO1SPxf36lvfmkj7TPFZLqgj8AAAA/AZ9zakJ/AAADAA8z7OoArv0zaFf1/gMjrOURHvK4Ya/aVr4mSV2v8xGy/K9VkbJrZGzNUIWdEPQ3USYH3x7fAAAAKkGbeEmoQWyZTAhv//6nhAAAAwAkuRcVSvcfv2TNTSArk04t4Csj4OC4gQAAADtBn5ZFFSwr/wAAAwAZHtuO9/fnoAfTXeD1WGMFTl05WceN1k2ylpS7fEkPZ/sNziXs6XSUtQHeYRhiwAAAADcBn7V0Qn8AAAMAD+Sdf+BpgCcouCAIgLY2QoDbrUDj0y8DVJ3Lp+eydGhU2CfYOAsjRpg9gHdAAAAAKgGft2pCfwAAAwAQao7gDk9EMAobyjj+pCqXrY5ek6+5ARf/zNpIQkDZgQAAABhBm7xJqEFsmUwIb//+p4QAAAMAAAMA1IAAAAAcQZ/aRRUsK/8AAAMACfcmagksWEa7Ij1vjzwSPgAAABYBn/l0Qn8AAAMADN+bOPKvmR8Ct/F/AAAAFgGf+2pCfwAAAwAM48VpMDXqFKM8ab8AAAAYQZvgSahBbJlMCG///qeEAAADAAADANSBAAAAG0GeHkUVLCv/AAADAAn3JmoJLFhJOzw0fU+kfQAAABYBnj10Qn8AAAMADN+bOPKvmR8Ct/F+AAAAFgGeP2pCfwAAAwAM48VpMDXqFKM8ab8AAAAYQZokSahBbJlMCG///qeEAAADAAADANSAAAAAG0GeQkUVLCv/AAADAAn3JmoJLFhJOzw0fU+kfQAAABYBnmF0Qn8AAAMADN+bOPKvmR8Ct/F/AAAAFgGeY2pCfwAAAwAM48VpMDXqFKM8ab8AAAAXQZpoSahBbJlMCGf//p4QAAADAAADAz4AAAAbQZ6GRRUsK/8AAAMACfcmagksWEk7PDR9T6R9AAAAFgGepXRCfwAAAwAM35s48q+ZHwK38X4AAAAWAZ6nakJ/AAADAAzjxWkwNeoUozxpvwAAABdBmqxJqEFsmUwIT//98QAAAwAAAwAekAAAABtBnspFFSwr/wAAAwAJ9yZqCSxYSTs8NH1PpH0AAAAWAZ7pdEJ/AAADAAzfmzjyr5kfArfxfwAAABYBnutqQn8AAAMADOPFaTA16hSjPGm/AAAVaW1vb3YAAABsbXZoZAAAAAAAAAAAAAAAAAAAA+gAADLqAAEAAAEAAAAAAAAAAAAAAAABAAAAAAAAAAAAAAAAAAAAAQAAAAAAAAAAAAAAAAAAQAAAAAAAAAAAAAAAAAAAAAAAAAAAAAAAAAAAAAAAAAIAABSUdHJhawAAAFx0a2hkAAAAAwAAAAAAAAAAAAAAAQAAAAAAADLqAAAAAAAAAAAAAAAAAAAAAAABAAAAAAAAAAAAAAAAAAAAAQAAAAAAAAAAAAAAAAAAQAAAAAJgAAABkAAAAAAAJGVkdHMAAAAcZWxzdAAAAAAAAAABAAAy6gAABAAAAQAAAAAUDG1kaWEAAAAgbWRoZAAAAAAAAAAAAAAAAAAAPAAAAw4AVcQAAAAAAC1oZGxyAAAAAAAAAAB2aWRlAAAAAAAAAAAAAAAAVmlkZW9IYW5kbGVyAAAAE7dtaW5mAAAAFHZtaGQAAAABAAAAAAAAAAAAAAAkZGluZgAAABxkcmVmAAAAAAAAAAEAAAAMdXJsIAAAAAEAABN3c3RibAAAAK9zdHNkAAAAAAAAAAEAAACfYXZjMQAAAAAAAAABAAAAAAAAAAAAAAAAAAAAAAJgAZAASAAAAEgAAAAAAAAAARVMYXZjNjEuMTkuMTAwIGxpYngyNjQAAAAAAAAAAAAAABj//wAAADVhdmNDAWQAHv/hABhnZAAerNlAmDOhAAADAAEAAAMAPA8WLZYBAAZo6+PLIsD9+PgAAAAAFGJ0cnQAAAAAAACaGQAAmhkAAAAYc3R0cwAAAAAAAAABAAABhwAAAgAAAAAYc3RzcwAAAAAAAAACAAAAAQAAAPsAAAwwY3R0cwAAAAAAAAGEAAAAAQAABAAAAAABAAAKAAAAAAEAAAQAAAAAAQAAAAAAAAABAAACAAAAAAEAAAoAAAAAAQAABAAAAAABAAAAAAAAAAEAAAIAAAAAAQAACgAAAAABAAAEAAAAAAEAAAAAAAAAAQAAAgAAAAABAAAKAAAAAAEAAAQAAAAAAQAAAAAAAAABAAACAAAAAAEAAAoAAAAAAQAABAAAAAABAAAAAAAAAAEAAAIAAAAAAQAACgAAAAABAAAEAAAAAAEAAAAAAAAAAQAAAgAAAAABAAAKAAAAAAEAAAQAAAAAAQAAAAAAAAABAAACAAAAAAEAAAoAAAAAAQAABAAAAAABAAAAAAAAAAEAAAIAAAAAAQAACgAAAAABAAAEAAAAAAEAAAAAAAAAAQAAAgAAAAABAAAIAAAAAAIAAAIAAAAAAQAACgAAAAABAAAEAAAAAAEAAAAAAAAAAQAAAgAAAAABAAAKAAAAAAEAAAQAAAAAAQAAAAAAAAABAAACAAAAAAEAAAoAAAAAAQAABAAAAAABAAAAAAAAAAEAAAIAAAAAAQAACgAAAAABAAAEAAAAAAEAAAAAAAAAAQAAAgAAAAABAAAKAAAAAAEAAAQAAAAAAQAAAAAAAAABAAACAAAAAAEAAAoAAAAAAQAABAAAAAABAAAAAAAAAAEAAAIAAAAAAQAACgAAAAABAAAEAAAAAAEAAAAAAAAAAQAAAgAAAAABAAAKAAAAAAEAAAQAAAAAAQAAAAAAAAABAAACAAAAAAEAAAoAAAAAAQAABAAAAAABAAAAAAAAAAEAAAIAAAAAAQAACgAAAAABAAAEAAAAAAEAAAAAAAAAAQAAAgAAAAABAAAKAAAAAAEAAAQAAAAAAQAAAAAAAAABAAACAAAAAAEAAAoAAAAAAQAABAAAAAABAAAAAAAAAAEAAAIAAAAAAQAACgAAAAABAAAEAAAAAAEAAAAAAAAAAQAAAgAAAAABAAAKAAAAAAEAAAQAAAAAAQAAAAAAAAABAAACAAAAAAEAAAoAAAAAAQAABAAAAAABAAAAAAAAAAEAAAIAAAAAAQAACgAAAAABAAAEAAAAAAEAAAAAAAAAAQAAAgAAAAABAAAKAAAAAAEAAAQAAAAAAQAAAAAAAAABAAACAAAAAAEAAAoAAAAAAQAABAAAAAABAAAAAAAAAAEAAAIAAAAAAQAACgAAAAABAAAEAAAAAAEAAAAAAAAAAQAAAgAAAAABAAAKAAAAAAEAAAQAAAAAAQAAAAAAAAABAAACAAAAAAEAAAgAAAAAAgAAAgAAAAABAAAKAAAAAAEAAAQAAAAAAQAAAAAAAAABAAACAAAAAAEAAAoAAAAAAQAABAAAAAABAAAAAAAAAAEAAAIAAAAAAQAACgAAAAABAAAEAAAAAAEAAAAAAAAAAQAAAgAAAAABAAAKAAAAAAEAAAQAAAAAAQAAAAAAAAABAAACAAAAAAEAAAoAAAAAAQAABAAAAAABAAAAAAAAAAEAAAIAAAAAAQAACgAAAAABAAAEAAAAAAEAAAAAAAAAAQAAAgAAAAABAAAKAAAAAAEAAAQAAAAAAQAAAAAAAAABAAACAAAAAAEAAAoAAAAAAQAABAAAAAABAAAAAAAAAAEAAAIAAAAAAQAACgAAAAABAAAEAAAAAAEAAAAAAAAAAQAAAgAAAAABAAAKAAAAAAEAAAQAAAAAAQAAAAAAAAABAAACAAAAAAEAAAoAAAAAAQAABAAAAAABAAAAAAAAAAEAAAIAAAAAAQAACgAAAAABAAAEAAAAAAEAAAAAAAAAAQAAAgAAAAABAAAKAAAAAAEAAAQAAAAAAQAAAAAAAAABAAACAAAAAAEAAAoAAAAAAQAABAAAAAABAAAAAAAAAAEAAAIAAAAAAQAACgAAAAABAAAEAAAAAAEAAAAAAAAAAQAAAgAAAAABAAAKAAAAAAEAAAQAAAAAAQAAAAAAAAABAAACAAAAAAEAAAoAAAAAAQAABAAAAAABAAAAAAAAAAEAAAIAAAAAAQAACgAAAAABAAAEAAAAAAEAAAAAAAAAAQAAAgAAAAABAAAKAAAAAAEAAAQAAAAAAQAAAAAAAAABAAACAAAAAAEAAAoAAAAAAQAABAAAAAABAAAAAAAAAAEAAAIAAAAAAQAACgAAAAABAAAEAAAAAAEAAAAAAAAAAQAAAgAAAAABAAAKAAAAAAEAAAQAAAAAAQAAAAAAAAABAAACAAAAAAEAAAgAAAAAAgAAAgAAAAABAAAKAAAAAAEAAAQAAAAAAQAAAAAAAAABAAACAAAAAAEAAAoAAAAAAQAABAAAAAABAAAAAAAAAAEAAAIAAAAAAQAACgAAAAABAAAEAAAAAAEAAAAAAAAAAQAAAgAAAAABAAAKAAAAAAEAAAQAAAAAAQAAAAAAAAABAAACAAAAAAEAAAoAAAAAAQAABAAAAAABAAAAAAAAAAEAAAIAAAAAAQAACgAAAAABAAAEAAAAAAEAAAAAAAAAAQAAAgAAAAABAAAKAAAAAAEAAAQAAAAAAQAAAAAAAAABAAACAAAAAAEAAAoAAAAAAQAABAAAAAABAAAAAAAAAAEAAAIAAAAAAQAACgAAAAABAAAEAAAAAAEAAAAAAAAAAQAAAgAAAAABAAAEAAAAAAEAAAoAAAAAAQAABAAAAAABAAAAAAAAAAEAAAIAAAAAAQAACgAAAAABAAAEAAAAAAEAAAAAAAAAAQAAAgAAAAABAAAKAAAAAAEAAAQAAAAAAQAAAAAAAAABAAACAAAAAAEAAAoAAAAAAQAABAAAAAABAAAAAAAAAAEAAAIAAAAAAQAACgAAAAABAAAEAAAAAAEAAAAAAAAAAQAAAgAAAAABAAAKAAAAAAEAAAQAAAAAAQAAAAAAAAABAAACAAAAAAEAAAoAAAAAAQAABAAAAAABAAAAAAAAAAEAAAIAAAAAAQAACgAAAAABAAAEAAAAAAEAAAAAAAAAAQAAAgAAAAABAAAKAAAAAAEAAAQAAAAAAQAAAAAAAAABAAACAAAAAAEAAAoAAAAAAQAABAAAAAABAAAAAAAAAAEAAAIAAAAAAQAACgAAAAABAAAEAAAAAAEAAAAAAAAAAQAAAgAAAAABAAAKAAAAAAEAAAQAAAAAAQAAAAAAAAABAAACAAAAAAEAAAoAAAAAAQAABAAAAAABAAAAAAAAAAEAAAIAAAAAAQAACgAAAAABAAAEAAAAAAEAAAAAAAAAAQAAAgAAAAABAAAKAAAAAAEAAAQAAAAAAQAAAAAAAAABAAACAAAAAAEAAAoAAAAAAQAABAAAAAABAAAAAAAAAAEAAAIAAAAAAQAACgAAAAABAAAEAAAAAAEAAAAAAAAAAQAAAgAAAAABAAAGAAAAAAEAAAIAAAAAAQAACgAAAAABAAAEAAAAAAEAAAAAAAAAAQAAAgAAAAABAAAKAAAAAAEAAAQAAAAAAQAAAAAAAAABAAACAAAAAAEAAAoAAAAAAQAABAAAAAABAAAAAAAAAAEAAAIAAAAAAQAACgAAAAABAAAEAAAAAAEAAAAAAAAAAQAAAgAAAAABAAAKAAAAAAEAAAQAAAAAAQAAAAAAAAABAAACAAAAAAEAAAoAAAAAAQAABAAAAAABAAAAAAAAAAEAAAIAAAAAAQAACgAAAAABAAAEAAAAAAEAAAAAAAAAAQAAAgAAAAABAAAGAAAAAAEAAAIAAAAAAQAACgAAAAABAAAEAAAAAAEAAAAAAAAAAQAAAgAAAAABAAAKAAAAAAEAAAQAAAAAAQAAAAAAAAABAAACAAAAAAEAAAoAAAAAAQAABAAAAAABAAAAAAAAAAEAAAIAAAAAAQAACgAAAAABAAAEAAAAAAEAAAAAAAAAAQAAAgAAAAABAAAKAAAAAAEAAAQAAAAAAQAAAAAAAAABAAACAAAAAAEAAAoAAAAAAQAABAAAAAABAAAAAAAAAAEAAAIAAAAAAQAACgAAAAABAAAEAAAAAAEAAAAAAAAAAQAAAgAAAAABAAAKAAAAAAEAAAQAAAAAAQAAAAAAAAABAAACAAAAAAEAAAoAAAAAAQAABAAAAAABAAAAAAAAAAEAAAIAAAAAAQAACgAAAAABAAAEAAAAAAEAAAAAAAAAAQAAAgAAAAAcc3RzYwAAAAAAAAABAAAAAQAAAYcAAAABAAAGMHN0c3oAAAAAAAAAAAAAAYcAAAl1AAAA3AAAAFYAAABEAAAASwAAAGIAAAA+AAAANAAAACkAAAAvAAAAOQAAAB0AAAAfAAAAXQAAACQAAAAaAAAAHAAAAGgAAAAgAAAAGQAAACMAAACXAAAAOAAAACkAAAAuAAAAwQAAAEcAAAA3AAAANAAAAPUAAABBAAAAMQAAAEYAAAE9AAAAcwAAADQAAABfAAAA/wAAAHYAAABaAAABRQAAAOMAAABuAAAAeAAAATMAAAClAAAAtQAAAIkAAAEcAAAA0AAAAI4AAAB1AAABAAAAAH0AAACBAAAAhwAAAPoAAACVAAAAkQAAAIAAAADzAAAAjAAAAHYAAACcAAABJAAAAIAAAACNAAAAnAAAAO0AAACoAAAAqgAAAKsAAADsAAAAoQAAAHoAAAC6AAAA3wAAAMkAAACgAAAAtQAAAPAAAAC4AAAAlwAAAIoAAAEZAAAAugAAALoAAAC2AAABRAAAALEAAADCAAAArgAAANgAAACSAAAAkgAAAHsAAAEVAAAAmgAAAHkAAACYAAABCQAAAL4AAAClAAAAawAAANsAAACoAAAAoAAAAJQAAAD2AAAAjQAAAKoAAACmAAABCQAAAOAAAACLAAAAjQAAASEAAACXAAAAfAAAAGgAAAEYAAAAlgAAAKgAAAEmAAAAiwAAAJ4AAACqAAAA/QAAAJIAAACTAAAAhQAAASkAAAB/AAAAiAAAAJMAAAEWAAAAyAAAAHsAAACdAAAA4AAAAKEAAACfAAAAawAAAJIAAACKAAAAbgAAAHsAAAEGAAAA3gAAAKAAAADHAAABIwAAAOEAAACKAAAAowAAAOoAAADKAAAAbwAAAHIAAADzAAAA0wAAAGwAAACOAAAAugAAAIYAAACUAAAAagAAAP8AAAClAAAAnwAAAIIAAAEHAAAArwAAAKAAAACKAAAA+gAAAMcAAACOAAAAjgAAAPMAAACqAAAAiwAAAI4AAADbAAAAeQAAAHUAAABZAAAAqAAAAHYAAABqAAAAagAAALkAAACIAAAAeAAAAGwAAAD2AAAAmQAAAG8AAACOAAABXwAAAJgAAACUAAAAqAAAARgAAAC+AAAAfwAAAJ8AAAE5AAAAvAAAAJIAAACNAAAA8QAAAJ8AAABYAAAA+gAAAIkAAACOAAAAfAAAANAAAAClAAAAXQAAAHAAAAFMAAAAiAAAAFoAAACEAAABLgAAAIcAAACBAAAAgwAAASEAAACdAAAAaAAAAHkAAAE5AAAArgAAAJAAAACdAAAA0QAAAJEAAACAAAAAgwAAAPEAAACuAAAAaAAAAJoAAADhAAAApAAAAIQAAACDAAAIxwAAAWwAAAB8AAAAcgAAAHgAAAEHAAAAlQAAAGoAAABaAAABDAAAAJQAAABnAAAAYQAAAOcAAACjAAAAkQAAAH0AAAEqAAAAgwAAAFgAAACDAAABGwAAAK8AAAB6AAAAgAAAAQsAAACNAAAAoAAAAJUAAADrAAAAgAAAAJgAAACrAAABLAAAAMIAAAB9AAAAsQAAATkAAACeAAAAiwAAAGMAAADzAAAAjgAAAHwAAACLAAABGQAAAHUAAAB1AAAAlwAAAPYAAACpAAAAeQAAAIUAAAEnAAAAiwAAAG0AAAB8AAAA6gAAAIkAAACMAAAAdQAAAO4AAABeAAAAcgAAAHcAAADaAAAAawAAAHwAAACHAAAAywAAAJoAAADOAAAAkgAAAI0AAAB3AAABJQAAAIIAAAB4AAAAaAAAAQMAAACyAAAAnwAAAIsAAAEgAAAAmQAAAJUAAABuAAAAvgAAAIAAAACaAAAAcgAAARIAAACCAAAAcgAAAIcAAAEqAAAAawAAAIAAAABpAAABFwAAAJkAAAE/AAAAigAAAGcAAABzAAAA8AAAAHgAAACDAAAAWgAAAPEAAAA5AAAAOQAAAB8AAACOAAAAUAAAACsAAABDAAAALgAAAD8AAAA7AAAALgAAABwAAAAgAAAAGgAAABoAAAAcAAAAHwAAABoAAAAaAAAAHAAAAB8AAAAaAAAAGgAAABsAAAAfAAAAGgAAABoAAAAbAAAAHwAAABoAAAAaAAAAFHN0Y28AAAAAAAAAAQAAADAAAABhdWR0YQAAAFltZXRhAAAAAAAAACFoZGxyAAAAAAAAAABtZGlyYXBwbAAAAAAAAAAAAAAAACxpbHN0AAAAJKl0b28AAAAcZGF0YQAAAAEAAAAATGF2ZjYxLjcuMTAw\" type=\"video/mp4\" />\n",
       "             </video>"
      ],
      "text/plain": [
       "<IPython.core.display.HTML object>"
      ]
     },
     "metadata": {},
     "output_type": "display_data"
    }
   ],
   "source": [
    "import glob\n",
    "import io\n",
    "import base64\n",
    "import imageio\n",
    "from IPython.display import HTML, display\n",
    "\n",
    "def show_video_of_model(agent, env_name):\n",
    "    env = gym.make(env_name, render_mode='rgb_array')\n",
    "    state, _ = env.reset()\n",
    "    done = False\n",
    "    frames = []\n",
    "    while not done:\n",
    "        frame = env.render()\n",
    "        frames.append(frame)\n",
    "        action = agent.act(state)\n",
    "        state, reward, done, _, _ = env.step(action.item())\n",
    "    env.close()\n",
    "    imageio.mimsave('video.mp4', frames, fps=30)\n",
    "\n",
    "show_video_of_model(agent, 'LunarLander-v3')\n",
    "\n",
    "def show_video():\n",
    "    mp4list = glob.glob('*.mp4')\n",
    "    if len(mp4list) > 0:\n",
    "        mp4 = mp4list[0]\n",
    "        video = io.open(mp4, 'r+b').read()\n",
    "        encoded = base64.b64encode(video)\n",
    "        display(HTML(data='''<video alt=\"test\" autoplay\n",
    "                loop controls style=\"height: 400px;\">\n",
    "                <source src=\"data:video/mp4;base64,{0}\" type=\"video/mp4\" />\n",
    "             </video>'''.format(encoded.decode('ascii'))))\n",
    "    else:\n",
    "        print(\"Could not find video\")\n",
    "\n",
    "show_video()"
   ]
  },
  {
   "cell_type": "code",
   "execution_count": null,
   "id": "a4e7e7c9-697f-4126-97f6-d1b7bd70fcbe",
   "metadata": {},
   "outputs": [],
   "source": []
  },
  {
   "cell_type": "code",
   "execution_count": null,
   "id": "06f81df1-e27c-4abd-b03b-385b2bf8f9af",
   "metadata": {},
   "outputs": [],
   "source": []
  },
  {
   "cell_type": "code",
   "execution_count": null,
   "id": "13a8bec1-d0a0-4783-9f34-facb9d503f27",
   "metadata": {},
   "outputs": [],
   "source": []
  },
  {
   "cell_type": "code",
   "execution_count": null,
   "id": "e8df6b0b-a778-41f9-9694-813bc82c9aeb",
   "metadata": {},
   "outputs": [],
   "source": []
  },
  {
   "cell_type": "code",
   "execution_count": null,
   "id": "5ed7243e-e421-4cf0-9dec-16ef0b53f961",
   "metadata": {},
   "outputs": [],
   "source": []
  }
 ],
 "metadata": {
  "kernelspec": {
   "display_name": "udemyai",
   "language": "python",
   "name": "udemyai"
  },
  "language_info": {
   "codemirror_mode": {
    "name": "ipython",
    "version": 3
   },
   "file_extension": ".py",
   "mimetype": "text/x-python",
   "name": "python",
   "nbconvert_exporter": "python",
   "pygments_lexer": "ipython3",
   "version": "3.12.11"
  }
 },
 "nbformat": 4,
 "nbformat_minor": 5
}
