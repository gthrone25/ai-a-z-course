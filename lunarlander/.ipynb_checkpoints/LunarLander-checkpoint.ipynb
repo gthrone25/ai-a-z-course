{
 "cells": [
  {
   "cell_type": "markdown",
   "id": "f792c734-a26a-450f-8f66-34188196285e",
   "metadata": {},
   "source": [
    "# Deep Q-Learning for Lunar Landing "
   ]
  },
  {
   "cell_type": "markdown",
   "id": "34a74e8b-4b54-47a2-aa58-f5d807d898c0",
   "metadata": {},
   "source": [
    "## Part 0 - Installing the required packages and importing the libraries\n"
   ]
  },
  {
   "cell_type": "markdown",
   "id": "c06fa823-23c6-46e7-9e7b-551e82eafd2f",
   "metadata": {},
   "source": [
    "### Installing Gymnasium"
   ]
  },
  {
   "cell_type": "code",
   "execution_count": 1,
   "id": "586cd1a1-6dee-4fe6-8c07-15c95b22f751",
   "metadata": {},
   "outputs": [
    {
     "name": "stdout",
     "output_type": "stream",
     "text": [
      "Requirement already satisfied: gymnasium[accept-rom-license,atari] in /Users/gthrone/anaconda3/envs/udemyai/lib/python3.12/site-packages (1.2.0)\n",
      "\u001b[33mWARNING: gymnasium 1.2.0 does not provide the extra 'accept-rom-license'\u001b[0m\u001b[33m\n",
      "\u001b[0mRequirement already satisfied: numpy>=1.21.0 in /Users/gthrone/anaconda3/envs/udemyai/lib/python3.12/site-packages (from gymnasium[accept-rom-license,atari]) (2.3.1)\n",
      "Requirement already satisfied: cloudpickle>=1.2.0 in /Users/gthrone/anaconda3/envs/udemyai/lib/python3.12/site-packages (from gymnasium[accept-rom-license,atari]) (3.1.1)\n",
      "Requirement already satisfied: typing-extensions>=4.3.0 in /Users/gthrone/anaconda3/envs/udemyai/lib/python3.12/site-packages (from gymnasium[accept-rom-license,atari]) (4.14.1)\n",
      "Requirement already satisfied: farama-notifications>=0.0.1 in /Users/gthrone/anaconda3/envs/udemyai/lib/python3.12/site-packages (from gymnasium[accept-rom-license,atari]) (0.0.4)\n",
      "Requirement already satisfied: ale_py>=0.9 in /Users/gthrone/anaconda3/envs/udemyai/lib/python3.12/site-packages (from gymnasium[accept-rom-license,atari]) (0.11.2)\n",
      "Requirement already satisfied: swig in /Users/gthrone/anaconda3/envs/udemyai/lib/python3.12/site-packages (4.3.1)\n",
      "Requirement already satisfied: wheel in /Users/gthrone/anaconda3/envs/udemyai/lib/python3.12/site-packages (0.45.1)\n",
      "Requirement already satisfied: setuptools in /Users/gthrone/anaconda3/envs/udemyai/lib/python3.12/site-packages (80.9.0)\n",
      "Requirement already satisfied: pip in /Users/gthrone/anaconda3/envs/udemyai/lib/python3.12/site-packages (25.2)\n",
      "Requirement already satisfied: pyproject-toml in /Users/gthrone/anaconda3/envs/udemyai/lib/python3.12/site-packages (0.1.0)\n",
      "Requirement already satisfied: setuptools>=75.4.0 in /Users/gthrone/anaconda3/envs/udemyai/lib/python3.12/site-packages (from pyproject-toml) (80.9.0)\n",
      "Requirement already satisfied: wheel>=0.45.0 in /Users/gthrone/anaconda3/envs/udemyai/lib/python3.12/site-packages (from pyproject-toml) (0.45.1)\n",
      "Requirement already satisfied: pydantic>=2.9.2 in /Users/gthrone/anaconda3/envs/udemyai/lib/python3.12/site-packages (from pyproject-toml) (2.11.7)\n",
      "Requirement already satisfied: packaging>=24.2 in /Users/gthrone/anaconda3/envs/udemyai/lib/python3.12/site-packages (from pyproject-toml) (25.0)\n",
      "Requirement already satisfied: annotated-types>=0.6.0 in /Users/gthrone/anaconda3/envs/udemyai/lib/python3.12/site-packages (from pydantic>=2.9.2->pyproject-toml) (0.7.0)\n",
      "Requirement already satisfied: pydantic-core==2.33.2 in /Users/gthrone/anaconda3/envs/udemyai/lib/python3.12/site-packages (from pydantic>=2.9.2->pyproject-toml) (2.33.2)\n",
      "Requirement already satisfied: typing-extensions>=4.12.2 in /Users/gthrone/anaconda3/envs/udemyai/lib/python3.12/site-packages (from pydantic>=2.9.2->pyproject-toml) (4.14.1)\n",
      "Requirement already satisfied: typing-inspection>=0.4.0 in /Users/gthrone/anaconda3/envs/udemyai/lib/python3.12/site-packages (from pydantic>=2.9.2->pyproject-toml) (0.4.1)\n",
      "Requirement already satisfied: Box2D in /Users/gthrone/anaconda3/envs/udemyai/lib/python3.12/site-packages (2.3.10)\n",
      "Requirement already satisfied: gym in /Users/gthrone/anaconda3/envs/udemyai/lib/python3.12/site-packages (0.26.2)\n",
      "Requirement already satisfied: numpy>=1.18.0 in /Users/gthrone/anaconda3/envs/udemyai/lib/python3.12/site-packages (from gym) (2.3.1)\n",
      "Requirement already satisfied: cloudpickle>=1.2.0 in /Users/gthrone/anaconda3/envs/udemyai/lib/python3.12/site-packages (from gym) (3.1.1)\n",
      "Requirement already satisfied: gym_notices>=0.0.4 in /Users/gthrone/anaconda3/envs/udemyai/lib/python3.12/site-packages (from gym) (0.0.8)\n",
      "Requirement already satisfied: gymnasium[box2d] in /Users/gthrone/anaconda3/envs/udemyai/lib/python3.12/site-packages (1.2.0)\n",
      "Requirement already satisfied: numpy>=1.21.0 in /Users/gthrone/anaconda3/envs/udemyai/lib/python3.12/site-packages (from gymnasium[box2d]) (2.3.1)\n",
      "Requirement already satisfied: cloudpickle>=1.2.0 in /Users/gthrone/anaconda3/envs/udemyai/lib/python3.12/site-packages (from gymnasium[box2d]) (3.1.1)\n",
      "Requirement already satisfied: typing-extensions>=4.3.0 in /Users/gthrone/anaconda3/envs/udemyai/lib/python3.12/site-packages (from gymnasium[box2d]) (4.14.1)\n",
      "Requirement already satisfied: farama-notifications>=0.0.1 in /Users/gthrone/anaconda3/envs/udemyai/lib/python3.12/site-packages (from gymnasium[box2d]) (0.0.4)\n",
      "Requirement already satisfied: box2d-py==2.3.5 in /Users/gthrone/anaconda3/envs/udemyai/lib/python3.12/site-packages (from gymnasium[box2d]) (2.3.5)\n",
      "Requirement already satisfied: pygame>=2.1.3 in /Users/gthrone/anaconda3/envs/udemyai/lib/python3.12/site-packages (from gymnasium[box2d]) (2.6.1)\n",
      "Requirement already satisfied: swig==4.* in /Users/gthrone/anaconda3/envs/udemyai/lib/python3.12/site-packages (from gymnasium[box2d]) (4.3.1)\n"
     ]
    }
   ],
   "source": [
    "!pip install \"gymnasium[atari, accept-rom-license]\"\n",
    "!pip install swig\n",
    "!pip install wheel setuptools pip --upgrade\n",
    "!pip install pyproject-toml\n",
    "!pip install Box2D gym\n",
    "!pip install \"gymnasium[box2d]\""
   ]
  },
  {
   "cell_type": "code",
   "execution_count": 1,
   "id": "51374521-5a7f-4871-8ae2-2049c27de232",
   "metadata": {},
   "outputs": [],
   "source": [
    "import os\n",
    "import random\n",
    "import numpy as np\n",
    "import torch\n",
    "import torch.nn as nn\n",
    "import torch.optim as optim\n",
    "import torch.nn.functional as F\n",
    "import torch.autograd as autograd\n",
    "from torch.autograd import Variable\n",
    "from collections import deque, namedtuple"
   ]
  },
  {
   "cell_type": "code",
   "execution_count": 2,
   "id": "5f8d9366-c9aa-45aa-b8f5-d94a790defdb",
   "metadata": {},
   "outputs": [
    {
     "name": "stdout",
     "output_type": "stream",
     "text": [
      "2.3.1\n",
      "2.6.0\n"
     ]
    }
   ],
   "source": [
    "print(np.__version__)\n",
    "print(torch.__version__)"
   ]
  },
  {
   "cell_type": "markdown",
   "id": "68b4e390-e293-4ba1-ad37-b2d3ad79e532",
   "metadata": {},
   "source": [
    "## Part 1 - Building the AI"
   ]
  },
  {
   "cell_type": "markdown",
   "id": "7624014a-25dc-424d-992a-c4321d8a4a44",
   "metadata": {},
   "source": [
    "### Creating the architecture of the Neural Network"
   ]
  },
  {
   "cell_type": "code",
   "execution_count": 16,
   "id": "79196d08-21e3-4ab3-a620-3b088b5d164d",
   "metadata": {},
   "outputs": [],
   "source": [
    "# Description of env can be found here: https://gymnasium.farama.org/environments/box2d/lunar_lander/\n",
    "\n",
    "class Network(nn.Module):\n",
    "\n",
    "  def __init__(self, state_size, action_size, seed = 42):\n",
    "    super(Network, self).__init__()\n",
    "    self.seed = torch.manual_seed(seed)\n",
    "    self.fc1 = nn.Linear(state_size, 64) #fc = full conection\n",
    "    self.fc2 = nn.Linear(64, 64)\n",
    "    self.fc3 = nn.Linear(64, action_size)\n",
    "\n",
    "  def forward(self, state):\n",
    "    x = self.fc1(state)\n",
    "    x = F.relu(x)\n",
    "    x = self.fc2(x)\n",
    "    x = F.relu(x)\n",
    "    return self.fc3(x)"
   ]
  },
  {
   "cell_type": "markdown",
   "id": "bb7bb13e-d61e-4cf5-8ace-e020b8692ba2",
   "metadata": {},
   "source": [
    "# Part 2 - Training the AI"
   ]
  },
  {
   "cell_type": "markdown",
   "id": "a1be1159-5f9e-4aca-b169-a92c01e0312d",
   "metadata": {},
   "source": [
    "## Setting up Environment"
   ]
  },
  {
   "cell_type": "code",
   "execution_count": 17,
   "id": "9984677f-50e2-4446-bec2-ca003b9a92fa",
   "metadata": {},
   "outputs": [
    {
     "name": "stdout",
     "output_type": "stream",
     "text": [
      "State shape:  (8,)\n",
      "State size:  8\n",
      "Number of actions:  4\n"
     ]
    }
   ],
   "source": [
    "import gymnasium as gym\n",
    "env = gym.make('LunarLander-v3') # The Lunar Lander environment was upgraded to v3\n",
    "state_shape = env.observation_space.shape\n",
    "state_size = env.observation_space.shape[0]\n",
    "number_actions = env.action_space.n\n",
    "print('State shape: ', state_shape)\n",
    "print('State size: ', state_size)\n",
    "print('Number of actions: ', number_actions)"
   ]
  },
  {
   "cell_type": "code",
   "execution_count": 18,
   "id": "7bb722b2-75cc-46ad-8445-c06ffa304d52",
   "metadata": {},
   "outputs": [],
   "source": [
    "## Initializing hyperparameters"
   ]
  },
  {
   "cell_type": "code",
   "execution_count": 19,
   "id": "1dd658a2-5495-4bff-afed-51c56c05bb89",
   "metadata": {},
   "outputs": [],
   "source": [
    "learning_rate = 5e-4\n",
    "minibatch_size = 100\n",
    "discount_factor = 0.99\n",
    "replay_buffer_size = int(1e5)\n",
    "interpolation_parameter = 1e-3"
   ]
  },
  {
   "cell_type": "code",
   "execution_count": 20,
   "id": "937eb451-a163-4faa-9723-7e0adcf9e5d6",
   "metadata": {},
   "outputs": [],
   "source": [
    "##Implementing Experience Replay"
   ]
  },
  {
   "cell_type": "code",
   "execution_count": 21,
   "id": "34400c64-3499-451f-93e5-923fba72517b",
   "metadata": {},
   "outputs": [],
   "source": [
    "class ReplayMemory(object):\n",
    "    def __init__(self, capacity):\n",
    "        self.device = torch.device(\"cuda:0\" if torch.cuda.is_available() else \"cpu\")\n",
    "        self.capacity = capacity\n",
    "        self.memory = []\n",
    "\n",
    "    def push(self, event):\n",
    "        self.memory.append(event)\n",
    "        if len(self.memory) > self.capacity:\n",
    "            del self.memory[0]\n",
    "\n",
    "    def sample(self, batch_size):\n",
    "        experiences = random.sample(self.memory,k=batch_size)\n",
    "        states = torch.from_numpy(np.vstack([e[0] for e in experiences if e is not None])).float().to(self.device)\n",
    "        actions = torch.from_numpy(np.vstack([e[1] for e in experiences if e is not None])).long().to(self.device)\n",
    "        rewards = torch.from_numpy(np.vstack([e[2] for e in experiences if e is not None])).float().to(self.device)\n",
    "        next_states = torch.from_numpy(np.vstack([e[3] for e in experiences if e is not None])).float().to(self.device)\n",
    "        dones = torch.from_numpy(np.vstack([e[4] for e in experiences if e is not None]).astype(np.uint8)).float().to(self.device)\n",
    "        return states, next_states, actions, rewards, dones"
   ]
  },
  {
   "cell_type": "code",
   "execution_count": 22,
   "id": "4b51bf0c-aaa3-4c00-98e4-a9c5e617b800",
   "metadata": {},
   "outputs": [],
   "source": [
    "## initializing the DQN Class"
   ]
  },
  {
   "cell_type": "code",
   "execution_count": 34,
   "id": "a7d4b60d-2db2-42d3-ac09-a4a34fb929a6",
   "metadata": {},
   "outputs": [],
   "source": [
    "class Agent():\n",
    "    def __init__(self,states_size, action_size):\n",
    "        self.device = torch.device(\"cuda:0\" if torch.cuda.is_available() else \"cpu\")\n",
    "        self.state_size = state_size\n",
    "        self.action_size = action_size\n",
    "        self.local_qnetwork = Network(state_size, action_size).to(self.device) # select actions\n",
    "        self.target_qnetwork = Network(state_size, action_size).to(self.device) # calculate target Q values used in training for local. Stabailizes learning\n",
    "        self.optimizer = optim.Adam(self.local_qnetwork.parameters(), lr=learning_rate)\n",
    "        self.memory = ReplayMemory(replay_buffer_size)\n",
    "        self.t_step = 0\n",
    "\n",
    "    def step(self, state, action, reward, next_state, done): \n",
    "        self.memory.push((state, action, reward, next_state, done))\n",
    "        self.t_step = (self.t_step + 1) % 4 #resetting every 4 steps, ie learning every 4 steps\n",
    "        if self.t_step == 0:\n",
    "            if len(self.memory.memory) > minibatch_size:\n",
    "                experiences = self.memory.sample(100)\n",
    "                self.learn(experiences, discount_factor)\n",
    "\n",
    "    def act(self, state, epsilon = 0.): #take action values and return final action taken\n",
    "        state = torch.from_numpy(state).float().unsqueeze(0).to(self.device)\n",
    "        self.local_qnetwork.eval()\n",
    "        with torch.no_grad():\n",
    "            action_values = self.local_qnetwork(state)\n",
    "        self.local_qnetwork.train()\n",
    "        if random.random() > epsilon:\n",
    "            return np.argmax(action_values.cpu().data.numpy())\n",
    "        else:\n",
    "            return random.choice(np.arange(self.action_size))\n",
    "\n",
    "    def learn(self, experiences, discount_factor): #Let's agent learn by using samples from history\n",
    "        states, next_states, actions, rewards, dones = experiences\n",
    "        next_q_targets = self.target_qnetwork(next_states).detach().max(1)[0].unsqueeze(1)\n",
    "        q_targets = rewards + (discount_factor * next_q_targets * (1- dones))\n",
    "        q_expected = self.local_qnetwork(states).gather(1, actions)\n",
    "        loss = F.mse_loss(q_expected, q_targets)\n",
    "        self.optimizer.zero_grad()\n",
    "        loss.backward()\n",
    "        self.optimizer.step()\n",
    "        self.soft_update(self.local_qnetwork, self.target_qnetwork, interpolation_parameter)\n",
    "\n",
    "    def soft_update(self, local_model, target_model, interpolation_parameter): #prevent abrupt changes by layering in history by updating target with local\n",
    "        for target_param, local_param in zip(target_model.parameters(), local_model.parameters()): #instance of network:\n",
    "            target_param.data.copy_(interpolation_parameter * local_param.data + (1.0 - interpolation_parameter) * target_param.data)\n",
    "\n",
    "        "
   ]
  },
  {
   "cell_type": "markdown",
   "id": "d3f15eb2-db26-4045-8fd2-ac1869f466b8",
   "metadata": {},
   "source": [
    "## Initializing DQN Agent"
   ]
  },
  {
   "cell_type": "code",
   "execution_count": 35,
   "id": "51e159b0-f2fc-40ff-979e-9788c198590c",
   "metadata": {},
   "outputs": [],
   "source": [
    "agent = Agent(state_size, number_actions)"
   ]
  },
  {
   "cell_type": "markdown",
   "id": "6856d891-d0b1-4a45-9f9e-4a863854aad4",
   "metadata": {},
   "source": [
    "## Training DQN agent"
   ]
  },
  {
   "cell_type": "code",
   "execution_count": 36,
   "id": "d1c3ea6e-c4e2-4aba-9a6b-74785d91d211",
   "metadata": {},
   "outputs": [
    {
     "name": "stdout",
     "output_type": "stream",
     "text": [
      "Episode 100\tAverage Score: -211.48\n",
      "Episode 200\tAverage Score: -116.90\n",
      "Episode 300\tAverage Score: -27.133\n",
      "Episode 400\tAverage Score: 20.662\n",
      "Episode 500\tAverage Score: 161.86\n",
      "Episode 600\tAverage Score: 162.22\n",
      "Episode 696\tAverage Score: 201.25\n",
      "Encironment solved in 596 episodes!\tAverage Score: 201.25\n"
     ]
    }
   ],
   "source": [
    "number_episodes = 2000 #max episodes to train\n",
    "maximum_number_timesteps_per_episode = 1000\n",
    "epsilon_starting_value = 1.0\n",
    "epsilon_ending_value = 0.01\n",
    "epsilon_decay_value = 0.995\n",
    "epsilon = epsilon_starting_value\n",
    "scores_on_100_episodes = deque(maxlen = 100)\n",
    "\n",
    "for episode in range(1, number_episodes + 1):\n",
    "    state, _ = env.reset()\n",
    "    score = 0\n",
    "    for t in range(maximum_number_timesteps_per_episode):\n",
    "        action = agent.act(state, epsilon)\n",
    "        next_state, reward, done, _, _ = env.step(action)\n",
    "        agent.step(state, action, reward, next_state, done)\n",
    "        state = next_state\n",
    "        score += reward\n",
    "        if done:\n",
    "            break\n",
    "    scores_on_100_episodes.append(score)\n",
    "    epsilon = max(epsilon_ending_value, epsilon_decay_value * epsilon)\n",
    "    print(f'\\rEpisode {episode}\\tAverage Score: {np.mean(scores_on_100_episodes):.2f}', end=\"\")\n",
    "    if episode % 100 == 0:\n",
    "        print(f'\\rEpisode {episode}\\tAverage Score: {np.mean(scores_on_100_episodes):.2f}')\n",
    "    if np.mean(scores_on_100_episodes) >= 200.0:\n",
    "        print(f'\\nEncironment solved in {(episode-100):d} episodes!\\tAverage Score: {np.mean(scores_on_100_episodes):.2f}')\n",
    "        torch.save(agent.local_qnetwork.state_dict(), 'checkpoint.pth')\n",
    "        break"
   ]
  },
  {
   "cell_type": "code",
   "execution_count": null,
   "id": "078f5dfd-c22c-4aa9-9caf-cd97dcf72c8d",
   "metadata": {},
   "outputs": [],
   "source": [
    "test = 0.2\n",
    "testlst = [1,2,3]\n",
    "print(f'\\rEpisode {test}\\tAverage Score: {np.mean(testlst):.2f}')"
   ]
  },
  {
   "cell_type": "markdown",
   "id": "86ae0280-00fb-415f-8721-9924421d2f7c",
   "metadata": {},
   "source": [
    "# Part 3 - Visualizing the results"
   ]
  },
  {
   "cell_type": "code",
   "execution_count": 38,
   "id": "3c5c52f6-9df0-4cf1-8d7b-8d5a6dc422a8",
   "metadata": {},
   "outputs": [
    {
     "name": "stdout",
     "output_type": "stream",
     "text": [
      "Requirement already satisfied: imageio[ffmpeg] in /Users/gthrone/anaconda3/envs/udemyai/lib/python3.12/site-packages (2.37.0)\n",
      "Requirement already satisfied: numpy in /Users/gthrone/anaconda3/envs/udemyai/lib/python3.12/site-packages (from imageio[ffmpeg]) (2.3.1)\n",
      "Requirement already satisfied: pillow>=8.3.2 in /Users/gthrone/anaconda3/envs/udemyai/lib/python3.12/site-packages (from imageio[ffmpeg]) (11.3.0)\n",
      "Collecting imageio-ffmpeg (from imageio[ffmpeg])\n",
      "  Downloading imageio_ffmpeg-0.6.0-py3-none-macosx_10_9_intel.macosx_10_9_x86_64.whl.metadata (1.5 kB)\n",
      "Requirement already satisfied: psutil in /Users/gthrone/anaconda3/envs/udemyai/lib/python3.12/site-packages (from imageio[ffmpeg]) (7.0.0)\n",
      "Downloading imageio_ffmpeg-0.6.0-py3-none-macosx_10_9_intel.macosx_10_9_x86_64.whl (24.9 MB)\n",
      "\u001b[2K   \u001b[38;2;114;156;31m━━━━━━━━━━━━━━━━━━━━━━━━━━━━━━━━━━━━━━━━\u001b[0m \u001b[32m24.9/24.9 MB\u001b[0m \u001b[31m11.2 MB/s\u001b[0m  \u001b[33m0:00:02\u001b[0m\u001b[0m eta \u001b[36m0:00:01\u001b[0m[36m0:00:01\u001b[0m\n",
      "\u001b[?25hInstalling collected packages: imageio-ffmpeg\n",
      "Successfully installed imageio-ffmpeg-0.6.0\n",
      "Requirement already satisfied: imageio[pyav] in /Users/gthrone/anaconda3/envs/udemyai/lib/python3.12/site-packages (2.37.0)\n",
      "Requirement already satisfied: numpy in /Users/gthrone/anaconda3/envs/udemyai/lib/python3.12/site-packages (from imageio[pyav]) (2.3.1)\n",
      "Requirement already satisfied: pillow>=8.3.2 in /Users/gthrone/anaconda3/envs/udemyai/lib/python3.12/site-packages (from imageio[pyav]) (11.3.0)\n",
      "Collecting av (from imageio[pyav])\n",
      "  Downloading av-15.0.0-cp312-cp312-macosx_13_0_x86_64.whl.metadata (4.6 kB)\n",
      "Downloading av-15.0.0-cp312-cp312-macosx_13_0_x86_64.whl (27.0 MB)\n",
      "\u001b[2K   \u001b[38;2;114;156;31m━━━━━━━━━━━━━━━━━━━━━━━━━━━━━━━━━━━━━━━━\u001b[0m \u001b[32m27.0/27.0 MB\u001b[0m \u001b[31m19.5 MB/s\u001b[0m  \u001b[33m0:00:01\u001b[0m\u001b[0m eta \u001b[36m0:00:01\u001b[0m[36m0:00:01\u001b[0m\n",
      "\u001b[?25hInstalling collected packages: av\n",
      "Successfully installed av-15.0.0\n"
     ]
    }
   ],
   "source": [
    "! pip install imageio[ffmpeg]\n",
    "! pip install imageio[pyav]"
   ]
  },
  {
   "cell_type": "code",
   "execution_count": 39,
   "id": "397230dd-79ba-43b5-8d5d-2619876d21cf",
   "metadata": {},
   "outputs": [
    {
     "name": "stderr",
     "output_type": "stream",
     "text": [
      "IMAGEIO FFMPEG_WRITER WARNING: input image is not divisible by macro_block_size=16, resizing from (600, 400) to (608, 400) to ensure video compatibility with most codecs and players. To prevent resizing, make your input image divisible by the macro_block_size or set the macro_block_size to 1 (risking incompatibility).\n"
     ]
    },
    {
     "data": {
      "text/html": [
       "<video alt=\"test\" autoplay\n",
       "                loop controls style=\"height: 400px;\">\n",
       "                <source src=\"data:video/mp4;base64,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\" type=\"video/mp4\" />\n",
       "             </video>"
      ],
      "text/plain": [
       "<IPython.core.display.HTML object>"
      ]
     },
     "metadata": {},
     "output_type": "display_data"
    }
   ],
   "source": [
    "import glob\n",
    "import io\n",
    "import base64\n",
    "import imageio\n",
    "from IPython.display import HTML, display\n",
    "\n",
    "def show_video_of_model(agent, env_name):\n",
    "    env = gym.make(env_name, render_mode='rgb_array')\n",
    "    state, _ = env.reset()\n",
    "    done = False\n",
    "    frames = []\n",
    "    while not done:\n",
    "        frame = env.render()\n",
    "        frames.append(frame)\n",
    "        action = agent.act(state)\n",
    "        state, reward, done, _, _ = env.step(action.item())\n",
    "    env.close()\n",
    "    imageio.mimsave('video.mp4', frames, fps=30)\n",
    "\n",
    "show_video_of_model(agent, 'LunarLander-v3')\n",
    "\n",
    "def show_video():\n",
    "    mp4list = glob.glob('*.mp4')\n",
    "    if len(mp4list) > 0:\n",
    "        mp4 = mp4list[0]\n",
    "        video = io.open(mp4, 'r+b').read()\n",
    "        encoded = base64.b64encode(video)\n",
    "        display(HTML(data='''<video alt=\"test\" autoplay\n",
    "                loop controls style=\"height: 400px;\">\n",
    "                <source src=\"data:video/mp4;base64,{0}\" type=\"video/mp4\" />\n",
    "             </video>'''.format(encoded.decode('ascii'))))\n",
    "    else:\n",
    "        print(\"Could not find video\")\n",
    "\n",
    "show_video()"
   ]
  },
  {
   "cell_type": "code",
   "execution_count": null,
   "id": "a4e7e7c9-697f-4126-97f6-d1b7bd70fcbe",
   "metadata": {},
   "outputs": [],
   "source": []
  },
  {
   "cell_type": "code",
   "execution_count": null,
   "id": "06f81df1-e27c-4abd-b03b-385b2bf8f9af",
   "metadata": {},
   "outputs": [],
   "source": []
  },
  {
   "cell_type": "code",
   "execution_count": null,
   "id": "13a8bec1-d0a0-4783-9f34-facb9d503f27",
   "metadata": {},
   "outputs": [],
   "source": []
  },
  {
   "cell_type": "code",
   "execution_count": null,
   "id": "e8df6b0b-a778-41f9-9694-813bc82c9aeb",
   "metadata": {},
   "outputs": [],
   "source": []
  },
  {
   "cell_type": "code",
   "execution_count": null,
   "id": "5ed7243e-e421-4cf0-9dec-16ef0b53f961",
   "metadata": {},
   "outputs": [],
   "source": []
  }
 ],
 "metadata": {
  "kernelspec": {
   "display_name": "udemyai",
   "language": "python",
   "name": "udemyai"
  },
  "language_info": {
   "codemirror_mode": {
    "name": "ipython",
    "version": 3
   },
   "file_extension": ".py",
   "mimetype": "text/x-python",
   "name": "python",
   "nbconvert_exporter": "python",
   "pygments_lexer": "ipython3",
   "version": "3.12.11"
  }
 },
 "nbformat": 4,
 "nbformat_minor": 5
}
